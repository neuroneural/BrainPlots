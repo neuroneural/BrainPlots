{
 "cells": [
  {
   "cell_type": "markdown",
   "id": "46ab0ec7",
   "metadata": {},
   "source": [
    "# data"
   ]
  },
  {
   "cell_type": "code",
   "execution_count": 1,
   "id": "8d238fb5",
   "metadata": {},
   "outputs": [],
   "source": [
    "code_pial = '/data/users2/llu13/CalcDistance/cortexode/jun16/pial/'\n",
    "code_white = '/data/users2/llu13/CalcDistance/cortexode/jun16/white/'\n"
   ]
  },
  {
   "cell_type": "code",
   "execution_count": 2,
   "id": "6db2aad2",
   "metadata": {},
   "outputs": [],
   "source": [
    "cf_pial = '/data/users2/llu13/CalcDistance/corticalflow/cfpp/jun16/pial/'\n",
    "cf_white = '/data/users2/llu13/CalcDistance/corticalflow/cfpp/jun16/white/'\n"
   ]
  },
  {
   "cell_type": "code",
   "execution_count": 3,
   "id": "47fbfec1",
   "metadata": {},
   "outputs": [],
   "source": [
    "code_pial_cut = '/data/users2/llu13/CalcDistance/afterCut/Jun18/cortexode/pial'\n",
    "code_white_cut = '/data/users2/llu13/CalcDistance/afterCut/Jun18/cortexode/white'\n",
    "\n",
    "cf_pial_cut = '/data/users2/llu13/CalcDistance/afterCut/Jun18/corticalflow/pial'\n",
    "cf_white_cut = '/data/users2/llu13/CalcDistance/afterCut/Jun18/corticalflow/white'"
   ]
  },
  {
   "cell_type": "code",
   "execution_count": 4,
   "id": "4ed7f35e",
   "metadata": {},
   "outputs": [],
   "source": [
    "data = [['cortexode', code_pial, code_white],\n",
    "        ['corticalflow', cf_pial, cf_white],\n",
    "        ['cortexode-cut', code_pial_cut, code_white_cut],\n",
    "        ['corticalflow-cut', cf_pial_cut, cf_white_cut],\n",
    "       ]\n",
    "rundate = 'Jun18'\n",
    "idx = 3\n",
    "start_idx = 95\n",
    "\n",
    "model, prepial, prewhite = data[idx]"
   ]
  },
  {
   "cell_type": "markdown",
   "id": "1677ee1f",
   "metadata": {},
   "source": [
    "# library"
   ]
  },
  {
   "cell_type": "code",
   "execution_count": 5,
   "id": "5c3c254d",
   "metadata": {},
   "outputs": [],
   "source": [
    "import trimesh\n",
    "import pyvista as pv\n",
    "import os\n",
    "import csv\n",
    "\n",
    "import warnings\n",
    "warnings.filterwarnings(\"ignore\")\n",
    "\n",
    "with warnings.catch_warnings():\n",
    "    warnings.simplefilter(\"ignore\")\n",
    "    \n",
    "from vtkmodules.vtkCommonCore import vtkLogger\n",
    "vtkLogger.SetStderrVerbosity(vtkLogger.VERBOSITY_OFF)\n",
    "\n",
    "from tqdm import tqdm\n",
    "\n",
    "# redirect vtk info to a log file\n",
    "import vtk\n",
    "output=vtk.vtkFileOutputWindow()\n",
    "output.SetFileName(\"log.txt\")\n",
    "vtk.vtkOutputWindow().SetInstance(output)"
   ]
  },
  {
   "cell_type": "markdown",
   "id": "d7635e04",
   "metadata": {},
   "source": [
    "# prepare data"
   ]
  },
  {
   "cell_type": "code",
   "execution_count": 6,
   "id": "aef10756",
   "metadata": {},
   "outputs": [],
   "source": [
    "def get_pairs(prepial, prewhite):\n",
    "    if prepial[-1] != '/':\n",
    "        prepial += '/'\n",
    "    if prewhite[-1] != '/':\n",
    "        prewhite += '/'\n",
    "    return [[prepial + f1, prewhite + f2] for f1, f2 in zip(os.listdir(prepial),os.listdir(prewhite))]"
   ]
  },
  {
   "cell_type": "code",
   "execution_count": 7,
   "id": "28de01e9",
   "metadata": {},
   "outputs": [],
   "source": [
    "filepairs = get_pairs(prepial, prewhite)"
   ]
  },
  {
   "cell_type": "markdown",
   "id": "f50808c6",
   "metadata": {},
   "source": [
    "# calculation"
   ]
  },
  {
   "cell_type": "code",
   "execution_count": 8,
   "id": "411019b6",
   "metadata": {},
   "outputs": [],
   "source": [
    "# toolongtimeError_fileidx = [3,13,17]\n",
    "# start = toolongtimeError_fileidx[-1] + 1\n",
    "\n",
    "\n",
    "# if start < 1:\n",
    "#     # write Header\n",
    "#     with open('whitePialIntesectionsGTruth.csv', 'a') as f:\n",
    "#         writer = csv.writer(f)\n",
    "#         row = ['idx','f1','intersections','points']\n",
    "#         writer.writerow(row)\n",
    "\n",
    "# for idx, (f1, f2) in enumerate(filepairs[start:]):\n",
    "#     idx += start\n",
    "#     s1, s2 = pv.read(f1), pv.read(f2)\n",
    "#     d, e, _ = s1.intersection(s2);\n",
    "#         # open the file in the write mode\n",
    "#     with open('whitePialIntesectionsGTruth.csv', 'a') as f:\n",
    "#         # create the csv writer\n",
    "#         writer = csv.writer(f)\n",
    "#         # write a row to the csv file\n",
    "#         row = [idx,f1,len(d.points),len(e.points)]\n",
    "#         writer.writerow(row)\n",
    "        "
   ]
  },
  {
   "cell_type": "code",
   "execution_count": 9,
   "id": "30e6a50a",
   "metadata": {},
   "outputs": [
    {
     "name": "stderr",
     "output_type": "stream",
     "text": [
      "100%|███████████| 12/12 [02:11<00:00, 10.96s/it]\n"
     ]
    }
   ],
   "source": [
    "tmp = filepairs[start_idx: ]\n",
    "\n",
    "\n",
    "for i in tqdm(range(len(tmp))):\n",
    "    idx = i + start_idx\n",
    "    f1, f2 = filepairs[idx]\n",
    "    s1, s2 = pv.read(f1), pv.read(f2)\n",
    "    d, e, _ = s1.intersection(s2);\n",
    "    \n",
    "    csv_file = os.path.join('../collision_data_csv', 'Jun18', f'white-pial-intersection-{model}-{rundate}.csv')\n",
    "    \n",
    "    with open(csv_file, 'a') as f:\n",
    "\n",
    "        writer = csv.writer(f)\n",
    "\n",
    "        row = [idx,f1,len(d.points),len(e.points)]\n",
    "        writer.writerow(row)"
   ]
  },
  {
   "cell_type": "code",
   "execution_count": null,
   "id": "01b71c89",
   "metadata": {},
   "outputs": [],
   "source": []
  }
 ],
 "metadata": {
  "kernelspec": {
   "display_name": "Python 3 (ipykernel)",
   "language": "python",
   "name": "python3"
  },
  "language_info": {
   "codemirror_mode": {
    "name": "ipython",
    "version": 3
   },
   "file_extension": ".py",
   "mimetype": "text/x-python",
   "name": "python",
   "nbconvert_exporter": "python",
   "pygments_lexer": "ipython3",
   "version": "3.8.10"
  },
  "toc": {
   "base_numbering": 1,
   "nav_menu": {},
   "number_sections": true,
   "sideBar": true,
   "skip_h1_title": false,
   "title_cell": "Table of Contents",
   "title_sidebar": "Contents",
   "toc_cell": false,
   "toc_position": {},
   "toc_section_display": true,
   "toc_window_display": false
  }
 },
 "nbformat": 4,
 "nbformat_minor": 5
}
