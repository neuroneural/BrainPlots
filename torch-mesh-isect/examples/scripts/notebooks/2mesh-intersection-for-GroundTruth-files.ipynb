{
 "cells": [
  {
   "cell_type": "markdown",
   "id": "136f2cd1",
   "metadata": {},
   "source": [
    "# library"
   ]
  },
  {
   "cell_type": "code",
   "execution_count": 3,
   "id": "afbbfe75",
   "metadata": {},
   "outputs": [],
   "source": [
    "code_pial = '/data/users2/llu13/output/cortexode/pred/lh_pial/'\n",
    "code_white = '/data/users2/llu13/output/cortexode/pred/lh_white/'\n",
    "\n",
    "cf_white = '/data/users2/llu13/output/corticalflow/cfpp/lh_white'\n",
    "cf_pial = '/data/users2/llu13/output/corticalflow/cfpp/lh_pial'\n",
    "\n",
    "dcsr_pial = '/data/users2/washbee/speedrun/outputdirs/deepcsr-output_dir-timing/checkpoints/test-set/lh_pial/'\n",
    "dcsr_white = '/data/users2/washbee/speedrun/outputdirs/deepcsr-output_dir-timing/checkpoints/test-set/lh_white'\n",
    "\n",
    "v2c_pial = '/data/users2/washbee/speedrun/Vox2Cortex_fork/experiments/hcp/test_template_42016_DATASET_NAME/meshes/lh_pial/epoch81/'\n",
    "v2c_white = '/data/users2/washbee/speedrun/Vox2Cortex_fork/experiments/hcp/test_template_42016_DATASET_NAME/meshes/lh_white/epoch81/'\n",
    "\n",
    "HEADER = ['idx','f1','intersections','pial-traingles','white-traingles']\n",
    "postfix = '-pw-intersections.csv'\n",
    "\n"
   ]
  },
  {
   "cell_type": "code",
   "execution_count": 4,
   "id": "a32053e4",
   "metadata": {},
   "outputs": [],
   "source": [
    "prepial = dcsr_pial\n",
    "prewhite = dcsr_white\n",
    "csvfile = 'dcsr'+ postfix\n",
    "current = 'deepcsr'"
   ]
  },
  {
   "cell_type": "code",
   "execution_count": 5,
   "id": "5c3c254d",
   "metadata": {},
   "outputs": [],
   "source": [
    "import trimesh\n",
    "import pyvista as pv\n",
    "import os\n",
    "import csv\n",
    "\n",
    "import warnings\n",
    "warnings.filterwarnings(\"ignore\")\n",
    "\n",
    "with warnings.catch_warnings():\n",
    "    warnings.simplefilter(\"ignore\")\n",
    "    \n",
    "from vtkmodules.vtkCommonCore import vtkLogger\n",
    "vtkLogger.SetStderrVerbosity(vtkLogger.VERBOSITY_OFF)\n",
    "\n",
    "# redirect vtk info to a log file\n",
    "import vtk\n",
    "output=vtk.vtkFileOutputWindow()\n",
    "output.SetFileName(\"log.txt\")\n",
    "vtk.vtkOutputWindow().SetInstance(output)"
   ]
  },
  {
   "cell_type": "markdown",
   "id": "ed74dc76",
   "metadata": {},
   "source": [
    "# prepare data"
   ]
  },
  {
   "cell_type": "code",
   "execution_count": 6,
   "id": "aef10756",
   "metadata": {},
   "outputs": [],
   "source": [
    "def get_pairs(prepial, prewhite):\n",
    "    if prepial[-1] != '/':\n",
    "        prepial += '/'\n",
    "    if prewhite[-1] != '/':\n",
    "        prewhite += '/'\n",
    "    return [[prepial + f1, prewhite + f2] for f1, f2 in zip(os.listdir(prepial),os.listdir(prewhite))]"
   ]
  },
  {
   "cell_type": "code",
   "execution_count": 7,
   "id": "28de01e9",
   "metadata": {},
   "outputs": [],
   "source": [
    "filepairs = get_pairs(prepial, prewhite)"
   ]
  },
  {
   "cell_type": "markdown",
   "id": "b9130360",
   "metadata": {},
   "source": [
    "# calculation"
   ]
  },
  {
   "cell_type": "markdown",
   "id": "d9024bcc",
   "metadata": {},
   "source": [
    "## for deepcsr"
   ]
  },
  {
   "cell_type": "code",
   "execution_count": 8,
   "id": "5c392e37",
   "metadata": {},
   "outputs": [],
   "source": [
    "start = 0\n",
    "if start < 1:\n",
    "    # write Header\n",
    "    with open(csvfile, 'a') as f:\n",
    "        writer = csv.writer(f)\n",
    "        row = ['idx','f1','pial-traingles','white-traingles']\n",
    "        writer.writerow(row)\n",
    "\n",
    "\n",
    "for idx, (f1, f2) in enumerate(filepairs[start:]):\n",
    "    idx += start\n",
    "    s1, s2 = pv.read(f1), pv.read(f2)\n",
    "#     d, e, _ = s1.intersection(s2);\n",
    "        # open the file in the write mode\n",
    "    with open(csvfile, 'a') as f:\n",
    "        # create the csv writer\n",
    "        writer = csv.writer(f)\n",
    "        # write a row to the csv file\n",
    "        row = [idx, f1, s1.n_cells, s2.n_cells]\n",
    "        writer.writerow(row)"
   ]
  },
  {
   "cell_type": "markdown",
   "id": "68dac596",
   "metadata": {},
   "source": [
    "## for others"
   ]
  },
  {
   "cell_type": "code",
   "execution_count": null,
   "id": "be9c0c6e",
   "metadata": {},
   "outputs": [],
   "source": [
    "# toolongtimeError_fileidx = [88]\n",
    "# start = toolongtimeError_fileidx[-1] + 1\n",
    "\n",
    "start = 0\n",
    "if start < 1:\n",
    "    # write Header\n",
    "    with open(csvfile, 'a') as f:\n",
    "        writer = csv.writer(f)\n",
    "        row = HEADER\n",
    "        writer.writerow(row)\n",
    "\n",
    "\n",
    "for idx, (f1, f2) in enumerate(filepairs[start:]):\n",
    "    idx += start\n",
    "    s1, s2 = pv.read(f1), pv.read(f2)\n",
    "    d, e, _ = s1.intersection(s2);\n",
    "        # open the file in the write mode\n",
    "    with open(csvfile, 'a') as f:\n",
    "        # create the csv writer\n",
    "        writer = csv.writer(f)\n",
    "        # write a row to the csv file\n",
    "        row = [idx, f1, len(d.points), s1.n_cells, s2.n_cells]\n",
    "        writer.writerow(row)\n",
    "        "
   ]
  },
  {
   "cell_type": "markdown",
   "id": "4542e4c5",
   "metadata": {},
   "source": [
    "### toolongtimeError_fileidx\n",
    "    CODE: [88]"
   ]
  },
  {
   "cell_type": "code",
   "execution_count": null,
   "id": "6d1633fe",
   "metadata": {},
   "outputs": [],
   "source": []
  },
  {
   "cell_type": "code",
   "execution_count": null,
   "id": "054e6f4c",
   "metadata": {},
   "outputs": [],
   "source": [
    "if current!='deepcsr':\n",
    "    start = 0\n",
    "    for idx, (f1, f2) in enumerate(filepairs[start:start+1]):\n",
    "        idx += start\n",
    "        s1, s2 = pv.read(f1), pv.read(f2)\n",
    "        d, e, _ = s1.intersection(s2);\n",
    "            # open the file in the write mode\n",
    "        with open(csvfile, 'a') as f:\n",
    "            # create the csv writer\n",
    "            writer = csv.writer(f)\n",
    "            # write a row to the csv file\n",
    "            row = [idx, f1, len(d.points), s1.n_cells, s2.n_cells]\n",
    "            writer.writerow(row)"
   ]
  },
  {
   "cell_type": "code",
   "execution_count": null,
   "id": "f5c2774d",
   "metadata": {},
   "outputs": [],
   "source": []
  }
 ],
 "metadata": {
  "kernelspec": {
   "display_name": "Python 3 (ipykernel)",
   "language": "python",
   "name": "python3"
  },
  "language_info": {
   "codemirror_mode": {
    "name": "ipython",
    "version": 3
   },
   "file_extension": ".py",
   "mimetype": "text/x-python",
   "name": "python",
   "nbconvert_exporter": "python",
   "pygments_lexer": "ipython3",
   "version": "3.8.10"
  }
 },
 "nbformat": 4,
 "nbformat_minor": 5
}
