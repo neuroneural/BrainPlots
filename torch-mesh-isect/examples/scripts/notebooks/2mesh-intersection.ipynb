{
 "cells": [
  {
   "cell_type": "code",
   "execution_count": 3,
   "id": "5e053920",
   "metadata": {},
   "outputs": [],
   "source": [
    "# pip install numpy==1.21"
   ]
  },
  {
   "cell_type": "code",
   "execution_count": 21,
   "id": "5c3c254d",
   "metadata": {},
   "outputs": [],
   "source": [
    "import trimesh\n",
    "import pyvista as pv\n",
    "import os\n",
    "import numpy as np\n",
    "import pickle\n",
    "import csv\n",
    "import variables\n",
    "import pickle"
   ]
  },
  {
   "cell_type": "code",
   "execution_count": 5,
   "id": "779d0634",
   "metadata": {},
   "outputs": [],
   "source": [
    "# helper: save to csv\n",
    "def save_to_csv(dic, csv_file_name, csv_columns):\n",
    "    dict_data = dic\n",
    "    csv_file = csv_file_name\n",
    "    try:\n",
    "        with open(csv_file, 'w') as csvfile:\n",
    "            writer = csv.DictWriter(csvfile, fieldnames=csv_columns)\n",
    "            writer.writeheader()\n",
    "            for data in dict_data:\n",
    "                writer.writerow(data)\n",
    "    except IOError:\n",
    "        print(\"I/O error\")\n",
    "        \n",
    "\n",
    "def get_intersections(f1, f2):\n",
    "    '''\n",
    "    f1: pial;  f2: white\n",
    "    '''\n",
    "    s1 = pv.read(f1)\n",
    "    s2 = pv.read(f2)\n",
    "    intersection, s1_split, s2_split = s1.intersection(s2)\n",
    "    return len(intersection.points), len(s1.points)\n",
    "\n",
    "def run_one_model(modelname, filepairs):\n",
    "    dic = []\n",
    "    cnt = 0\n",
    "    for f1,f2 in filepairs:\n",
    "        cnt += 1\n",
    "        c1,c2 = get_intersections(f1,f2)\n",
    "        dic.append({'file':f1, 'intersection':c1,'mesh':c2})\n",
    "        \n",
    "    save_to_csv(dic, modelname+'2MeshCollision.csv', list(dic.keys()))\n",
    "    return dic\n",
    "    "
   ]
  },
  {
   "cell_type": "code",
   "execution_count": 6,
   "id": "aef10756",
   "metadata": {},
   "outputs": [],
   "source": [
    "def get_pairs(prepial, prewhite):\n",
    "    if prepial[-1] != '/':\n",
    "        prepial += '/'\n",
    "    if prewhite[-1] != '/':\n",
    "        prewhite += '/'\n",
    "    return [[prepial + f1, prewhite + f2] for f1, f2 in zip(os.listdir(prepial),os.listdir(prewhite))]"
   ]
  },
  {
   "cell_type": "code",
   "execution_count": 7,
   "id": "7655f9e2",
   "metadata": {},
   "outputs": [],
   "source": [
    "import csv\n",
    "f = 'deepcsrWtPlCollision.csv'\n",
    "dcsr_csv = [0]\n",
    "with open(f, newline='') as csvfile:\n",
    "    reader = csv.DictReader(csvfile)\n",
    "    for row in reader:\n",
    "        dcsr_csv.append(int(row['0']))"
   ]
  },
  {
   "cell_type": "code",
   "execution_count": 8,
   "id": "28de01e9",
   "metadata": {},
   "outputs": [],
   "source": [
    "code_pial = '/data/users2/llu13/output/cortexode/pred/lh_pial/'\n",
    "code_white = '/data/users2/llu13/output/cortexode/pred/lh_white/'\n",
    "\n",
    "cf_white = '/data/users2/llu13/output/corticalflow/cfpp/lh_white'\n",
    "cf_pial = '/data/users2/llu13/output/corticalflow/cfpp/lh_pial'\n",
    "\n",
    "dcsr_pial = '/data/users2/washbee/speedrun/outputdirs/deepcsr-output_dir-timing/checkpoints/test-set/lh_pial/'\n",
    "dcsr_white = '/data/users2/washbee/speedrun/outputdirs/deepcsr-output_dir-timing/checkpoints/test-set/lh_white'\n",
    "\n",
    "v2c_pial = '/data/users2/washbee/speedrun/Vox2Cortex_fork/experiments/hcp/test_template_42016_DATASET_NAME/meshes/lh_pial/epoch81/'\n",
    "v2c_white = '/data/users2/washbee/speedrun/Vox2Cortex_fork/experiments/hcp/test_template_42016_DATASET_NAME/meshes/lh_white/epoch81/'\n",
    "\n",
    "freesurfer_pial = '/data/users2/llu13/output/cortexode/truth/samples/converted/lh_pial'\n",
    "freesurfer_white = '/data/users2/llu13/output/cortexode/truth/samples/converted/lh_white'"
   ]
  },
  {
   "cell_type": "markdown",
   "id": "c7ea201c",
   "metadata": {},
   "source": [
    "## vtk output to a file"
   ]
  },
  {
   "cell_type": "code",
   "execution_count": 9,
   "id": "fb517b09",
   "metadata": {},
   "outputs": [],
   "source": [
    "# redirect vtk info to a log file\n",
    "import vtk\n",
    "output=vtk.vtkFileOutputWindow()\n",
    "output.SetFileName(\"log.txt\")\n",
    "vtk.vtkOutputWindow().SetInstance(output)"
   ]
  },
  {
   "cell_type": "markdown",
   "id": "d2746a9d",
   "metadata": {},
   "source": [
    "### ignore warnings"
   ]
  },
  {
   "cell_type": "code",
   "execution_count": 10,
   "id": "f8219eac",
   "metadata": {},
   "outputs": [],
   "source": [
    "import warnings\n",
    "warnings.filterwarnings(\"ignore\")\n",
    "\n",
    "with warnings.catch_warnings():\n",
    "    warnings.simplefilter(\"ignore\")\n",
    "    \n",
    "from vtkmodules.vtkCommonCore import vtkLogger\n",
    "vtkLogger.SetStderrVerbosity(vtkLogger.VERBOSITY_OFF)\n",
    "\n",
    "from IPython.display import Audio\n",
    "sound_file = 'hey.m4a'\n",
    "notify=Audio(sound_file, autoplay=True)"
   ]
  },
  {
   "cell_type": "markdown",
   "id": "3d268f04",
   "metadata": {},
   "source": [
    "# Prepare data"
   ]
  },
  {
   "cell_type": "code",
   "execution_count": 11,
   "id": "04f19379",
   "metadata": {},
   "outputs": [],
   "source": [
    "files = [[code_pial, code_white],\n",
    "         [cf_pial, cf_white],\n",
    "         [dcsr_pial, dcsr_white], \n",
    "         [v2c_pial, v2c_white], \n",
    "         [freesurfer_pial, freesurfer_white]]\n",
    "model_names = ['cortexode',\n",
    "               'corticalflow',\n",
    "               'deepcsr',\n",
    "               'vox2cortex',\n",
    "               'freesurfer'\n",
    "              ]"
   ]
  },
  {
   "cell_type": "code",
   "execution_count": 12,
   "id": "620e9fd9",
   "metadata": {},
   "outputs": [],
   "source": [
    "# ----- select model index -------\n",
    "\n",
    "def get_file_pairs(index):\n",
    "    prepial, prewhite = files[index]\n",
    "    mn = model_names[index]\n",
    "    filepairs = get_pairs(prepial, prewhite)\n",
    "    return filepairs"
   ]
  },
  {
   "cell_type": "markdown",
   "id": "b32ba190",
   "metadata": {},
   "source": [
    "# batch process"
   ]
  },
  {
   "cell_type": "markdown",
   "id": "f8aca75e",
   "metadata": {},
   "source": [
    "### processing"
   ]
  },
  {
   "cell_type": "code",
   "execution_count": 13,
   "id": "1a7e1695",
   "metadata": {},
   "outputs": [],
   "source": [
    "def get_xyz_limits(s1,ratio_x0 = 0.23, ratio_y0 = 0.807, ratio_y1 = 0.205, ratio_z1 = 0.388, extend = 20):\n",
    "    maxvalues = np.max(np.array(s1.points), axis = 0)\n",
    "    minvalues = np.min(np.array(s1.points), axis = 0)\n",
    "    ux,uy,uz = maxvalues\n",
    "    lx,ly,lz = minvalues\n",
    "    x0 = ux - ratio_x0 * (ux - lx)\n",
    "    x1 = ux + extend\n",
    "    y0 = uy - ratio_y0 * (uy - ly)\n",
    "    y1 = uy - ratio_y1 * (uy - ly)\n",
    "    z0 = -uz - extend\n",
    "    z1 = uz - ratio_z1 * (uz - lz)\n",
    "    bounds = [x0,x1,y0,y1,z0,z1]\n",
    "    return bounds\n",
    "\n",
    "def removecells(s1,bounds):\n",
    "    remove_idx = list(s1.find_cells_within_bounds(bounds))\n",
    "    return s1.remove_cells(remove_idx)\n",
    "\n",
    "def calc_after_remove_ratio(f1, f2):\n",
    "    \"\"\"\n",
    "    for m1, m2: removing triangles\n",
    "    for m3: removing lines\n",
    "    \"\"\"\n",
    "    s1, s2 = pv.read(f1),pv.read(f2)\n",
    "    d, _, _ = s1.intersection(s2); \n",
    "    bounds = get_xyz_limits(s1)\n",
    "    m1 = removecells(s1,bounds)\n",
    "    m2 = removecells(s2,bounds)\n",
    "    m3 = removecells(d, bounds)\n",
    "    if len(d.points):\n",
    "        ratioPercent1 = (d.n_points) / (s1.n_cells + s2.n_cells) * 2 * 100  # not removing anything\n",
    "    else:\n",
    "        ratioPercent1 = 0\n",
    "    if len(m3.points):\n",
    "        ratioPercent2 = (m3.n_points) / (m1.n_cells + m2.n_cells) * 2 * 100  # after removing medial wall\n",
    "        tmp = m3.n_points\n",
    "    else:\n",
    "        tmp = 0\n",
    "        ratioPercent2 = 0\n",
    "    \n",
    "    return tmp, m1.n_cells, m2.n_cells, ratioPercent1, ratioPercent2"
   ]
  },
  {
   "cell_type": "markdown",
   "id": "f42a6030",
   "metadata": {},
   "source": [
    "# 1 mesh collision calc"
   ]
  },
  {
   "cell_type": "markdown",
   "id": "194e542d",
   "metadata": {},
   "source": [
    "       calculate collision with `collision.pickle` file and original `.stl` file. \n",
    "       - calculate the boundaries with pre-designed ratios.\n",
    "       - remove the area within medial wall with boundaries.\n",
    "       - calculate the new collision rate."
   ]
  },
  {
   "cell_type": "markdown",
   "id": "204eeaa1",
   "metadata": {},
   "source": [
    "    Steps:\n",
    "    1. function 1: \n",
    "        given a single .pickle file and a .stl file, calculate 2 collision numbers, with and without removing the boundaries.\n",
    "        note: the collision should be Percent. *100\n",
    "        return .pickle file name; .stl file name; collision ratio 1; collision ratio2.\n",
    "    2. function 2:\n",
    "        take a folder, given the results, combining the folder name, with the return from function 1.\n",
    "    3. function 3:\n",
    "        loop to run all the folders.\n",
    "        with the results from funtion 2, save the results in csv file."
   ]
  },
  {
   "cell_type": "code",
   "execution_count": 92,
   "id": "2543cc71",
   "metadata": {},
   "outputs": [],
   "source": [
    "def get_xyz_limits(s1,ratio_x0 = 0.23, ratio_y0 = 0.807, ratio_y1 = 0.205, ratio_z1 = 0.388, extend = 20):\n",
    "    maxvalues = np.max(np.array(s1.points), axis = 0)\n",
    "    minvalues = np.min(np.array(s1.points), axis = 0)\n",
    "    ux,uy,uz = maxvalues\n",
    "    lx,ly,lz = minvalues\n",
    "    x0 = ux - ratio_x0 * (ux - lx)\n",
    "    x1 = ux + extend\n",
    "    y0 = uy - ratio_y0 * (uy - ly)\n",
    "    y1 = uy - ratio_y1 * (uy - ly)\n",
    "    z0 = -uz - extend\n",
    "    z1 = uz - ratio_z1 * (uz - lz)\n",
    "    bounds = [x0,x1,y0,y1,z0,z1]\n",
    "    return bounds\n",
    "\n",
    "def removecells(s1,bounds):\n",
    "    remove_idx = list(s1.find_cells_within_bounds(bounds))\n",
    "    return set(remove_idx), s1.remove_cells(remove_idx)\n",
    "\n",
    "def removecells_self_intersection(d, remove_idx):\n",
    "    res = 0\n",
    "    for idx1, idx2 in d:\n",
    "        if (idx1 not in remove_idx) and (idx2 not in remove_idx):\n",
    "            res += 1\n",
    "    return res\n",
    "\n",
    "def function1(picklefile, stlfile):\n",
    "    s1 = pv.read(stlfile)\n",
    "    with open(picklefile, 'rb') as f:\n",
    "        d = pickle.load(f)\n",
    "#     print('stl file triangles: ', s1.n_cells)\n",
    "    bounds = get_xyz_limits(s1)\n",
    "    \n",
    "    remove_idx, m1 = removecells(s1,bounds)\n",
    "#     print('stl file after removal triangles: ', m1.n_cells)\n",
    "    remain_len = removecells_self_intersection(d, remove_idx)\n",
    "    \n",
    "    ratioPercent1 = len(d) / s1.n_cells * 100\n",
    "    ratioPercent2 = remain_len / m1.n_cells * 100\n",
    "#     print(ratioPercent1, ratioPercent2)\n",
    "    return ratioPercent1, ratioPercent2\n",
    "    "
   ]
  },
  {
   "cell_type": "code",
   "execution_count": 91,
   "id": "262c8a7b",
   "metadata": {},
   "outputs": [],
   "source": [
    "def freesurfer_files_pial():\n",
    "    res = []\n",
    "    pre_stl = variables.freesurfer['lh_pial']\n",
    "    pre_pickle = '../collision_data_csv/allCollisions/freesurfer/lh_pial/'\n",
    "    files = os.listdir(pre_pickle)\n",
    "\n",
    "    len_postfix = '-collisions.pkl'\n",
    "    for f in files:\n",
    "        _, f1, _ = f.split('-')\n",
    "        file_stl_path = pre_stl + f1\n",
    "        file_pkl_path = pre_pickle + f\n",
    "\n",
    "        res.append([file_pkl_path, file_stl_path])\n",
    "    return res\n",
    "\n",
    "def freesurfer_files_white():\n",
    "    res = []\n",
    "    pre_stl = variables.freesurfer['lh_white']\n",
    "    pre_pickle = '../collision_data_csv/allCollisions/freesurfer/lh_white/'\n",
    "    files = os.listdir(pre_pickle)\n",
    "\n",
    "    len_postfix = '-collisions.pkl'\n",
    "    for f in files:\n",
    "        _, f1, _ = f.split('-')\n",
    "        \n",
    "        file_stl_path = pre_stl + f1\n",
    "        file_pkl_path = pre_pickle + f\n",
    "\n",
    "        res.append([file_pkl_path, file_stl_path])\n",
    "    return res"
   ]
  },
  {
   "cell_type": "code",
   "execution_count": 95,
   "id": "00715b9b",
   "metadata": {},
   "outputs": [],
   "source": [
    "res = freesurfer_files_pial()\n"
   ]
  },
  {
   "cell_type": "code",
   "execution_count": 97,
   "id": "18a2b2ec",
   "metadata": {},
   "outputs": [],
   "source": [
    "s1 = pv.read(res[0][1])\n",
    "with open(res[0][0], 'rb') as f:\n",
    "    d = pickle.load(f)"
   ]
  },
  {
   "cell_type": "code",
   "execution_count": 137,
   "id": "a57ac8de",
   "metadata": {},
   "outputs": [],
   "source": [
    "x = trimesh.load(res[0][1])"
   ]
  },
  {
   "cell_type": "code",
   "execution_count": null,
   "id": "8e8a4fed",
   "metadata": {},
   "outputs": [],
   "source": []
  },
  {
   "cell_type": "code",
   "execution_count": null,
   "id": "756a25fb",
   "metadata": {},
   "outputs": [],
   "source": []
  },
  {
   "cell_type": "code",
   "execution_count": null,
   "id": "b35036d4",
   "metadata": {},
   "outputs": [],
   "source": []
  },
  {
   "cell_type": "code",
   "execution_count": null,
   "id": "1a00eda0",
   "metadata": {},
   "outputs": [],
   "source": []
  },
  {
   "cell_type": "code",
   "execution_count": 138,
   "id": "64ed6afd",
   "metadata": {},
   "outputs": [
    {
     "data": {
      "text/plain": [
       "['__abstractmethods__',\n",
       " '__add__',\n",
       " '__class__',\n",
       " '__copy__',\n",
       " '__deepcopy__',\n",
       " '__delattr__',\n",
       " '__dict__',\n",
       " '__dir__',\n",
       " '__doc__',\n",
       " '__eq__',\n",
       " '__format__',\n",
       " '__ge__',\n",
       " '__getattribute__',\n",
       " '__gt__',\n",
       " '__hash__',\n",
       " '__init__',\n",
       " '__init_subclass__',\n",
       " '__le__',\n",
       " '__lt__',\n",
       " '__module__',\n",
       " '__ne__',\n",
       " '__new__',\n",
       " '__radd__',\n",
       " '__reduce__',\n",
       " '__reduce_ex__',\n",
       " '__repr__',\n",
       " '__setattr__',\n",
       " '__sizeof__',\n",
       " '__slots__',\n",
       " '__str__',\n",
       " '__subclasshook__',\n",
       " '__weakref__',\n",
       " '_abc_impl',\n",
       " '_cache',\n",
       " '_center_mass',\n",
       " '_data',\n",
       " '_density',\n",
       " '_kwargs',\n",
       " '_visual',\n",
       " 'apply_obb',\n",
       " 'apply_scale',\n",
       " 'apply_transform',\n",
       " 'apply_translation',\n",
       " 'area',\n",
       " 'area_faces',\n",
       " 'as_open3d',\n",
       " 'body_count',\n",
       " 'bounding_box',\n",
       " 'bounding_box_oriented',\n",
       " 'bounding_cylinder',\n",
       " 'bounding_primitive',\n",
       " 'bounding_sphere',\n",
       " 'bounds',\n",
       " 'center_mass',\n",
       " 'centroid',\n",
       " 'compute_stable_poses',\n",
       " 'contains',\n",
       " 'convert_units',\n",
       " 'convex_decomposition',\n",
       " 'convex_hull',\n",
       " 'copy',\n",
       " 'crc',\n",
       " 'density',\n",
       " 'difference',\n",
       " 'edges',\n",
       " 'edges_face',\n",
       " 'edges_sorted',\n",
       " 'edges_sorted_tree',\n",
       " 'edges_sparse',\n",
       " 'edges_unique',\n",
       " 'edges_unique_inverse',\n",
       " 'edges_unique_length',\n",
       " 'euler_number',\n",
       " 'eval_cached',\n",
       " 'export',\n",
       " 'extents',\n",
       " 'face_adjacency',\n",
       " 'face_adjacency_angles',\n",
       " 'face_adjacency_convex',\n",
       " 'face_adjacency_edges',\n",
       " 'face_adjacency_edges_tree',\n",
       " 'face_adjacency_projections',\n",
       " 'face_adjacency_radius',\n",
       " 'face_adjacency_span',\n",
       " 'face_adjacency_tree',\n",
       " 'face_adjacency_unshared',\n",
       " 'face_angles',\n",
       " 'face_angles_sparse',\n",
       " 'face_attributes',\n",
       " 'face_neighborhood',\n",
       " 'face_normals',\n",
       " 'faces',\n",
       " 'faces_sparse',\n",
       " 'faces_unique_edges',\n",
       " 'facets',\n",
       " 'facets_area',\n",
       " 'facets_boundary',\n",
       " 'facets_normal',\n",
       " 'facets_on_hull',\n",
       " 'facets_origin',\n",
       " 'fill_holes',\n",
       " 'fix_normals',\n",
       " 'hash',\n",
       " 'identifier',\n",
       " 'identifier_hash',\n",
       " 'identifier_md5',\n",
       " 'integral_mean_curvature',\n",
       " 'intersection',\n",
       " 'invert',\n",
       " 'is_convex',\n",
       " 'is_empty',\n",
       " 'is_volume',\n",
       " 'is_watertight',\n",
       " 'is_winding_consistent',\n",
       " 'kdtree',\n",
       " 'mass',\n",
       " 'mass_properties',\n",
       " 'md5',\n",
       " 'merge_vertices',\n",
       " 'metadata',\n",
       " 'moment_inertia',\n",
       " 'moment_inertia_frame',\n",
       " 'nearest',\n",
       " 'outline',\n",
       " 'permutate',\n",
       " 'principal_inertia_components',\n",
       " 'principal_inertia_transform',\n",
       " 'principal_inertia_vectors',\n",
       " 'process',\n",
       " 'projected',\n",
       " 'ray',\n",
       " 'referenced_vertices',\n",
       " 'register',\n",
       " 'remove_degenerate_faces',\n",
       " 'remove_duplicate_faces',\n",
       " 'remove_infinite_values',\n",
       " 'remove_unreferenced_vertices',\n",
       " 'rezero',\n",
       " 'sample',\n",
       " 'scale',\n",
       " 'scene',\n",
       " 'section',\n",
       " 'section_multiplane',\n",
       " 'show',\n",
       " 'simplify_quadratic_decimation',\n",
       " 'simplify_quadric_decimation',\n",
       " 'slice_plane',\n",
       " 'smoothed',\n",
       " 'split',\n",
       " 'subdivide',\n",
       " 'subdivide_loop',\n",
       " 'subdivide_to_size',\n",
       " 'submesh',\n",
       " 'symmetry',\n",
       " 'symmetry_axis',\n",
       " 'symmetry_section',\n",
       " 'to_dict',\n",
       " 'triangles',\n",
       " 'triangles_center',\n",
       " 'triangles_cross',\n",
       " 'triangles_tree',\n",
       " 'union',\n",
       " 'units',\n",
       " 'unmerge_vertices',\n",
       " 'unwrap',\n",
       " 'update_faces',\n",
       " 'update_vertices',\n",
       " 'vertex_adjacency_graph',\n",
       " 'vertex_attributes',\n",
       " 'vertex_defects',\n",
       " 'vertex_degree',\n",
       " 'vertex_faces',\n",
       " 'vertex_neighbors',\n",
       " 'vertex_normals',\n",
       " 'vertices',\n",
       " 'visual',\n",
       " 'volume',\n",
       " 'voxelized']"
      ]
     },
     "execution_count": 138,
     "metadata": {},
     "output_type": "execute_result"
    }
   ],
   "source": [
    "dir(x)"
   ]
  },
  {
   "cell_type": "code",
   "execution_count": 104,
   "id": "a53ce11e",
   "metadata": {},
   "outputs": [
    {
     "data": {
      "text/plain": [
       "array([[125179, 127470],\n",
       "       [125178, 127470],\n",
       "       [ 97562, 101923],\n",
       "       ...,\n",
       "       [  5660,   5688],\n",
       "       [170785, 172906],\n",
       "       [188188, 188192]])"
      ]
     },
     "execution_count": 104,
     "metadata": {},
     "output_type": "execute_result"
    }
   ],
   "source": [
    "d"
   ]
  },
  {
   "cell_type": "code",
   "execution_count": 120,
   "id": "2617059b",
   "metadata": {},
   "outputs": [
    {
     "data": {
      "text/plain": [
       "Cell (0x7f61117f0040)\n",
       "  Type:        <CellType.TRIANGLE: 5>\n",
       "  Linear:      True\n",
       "  Dimension:   2\n",
       "  N Points:    3\n",
       "  N Faces:     0\n",
       "  N Edges:     3\n",
       "  X Bounds:    -4.410e+01, -4.376e+01\n",
       "  Y Bounds:    -5.014e+00, -4.785e+00\n",
       "  Z Bounds:    -2.531e+01, -2.477e+01"
      ]
     },
     "execution_count": 120,
     "metadata": {},
     "output_type": "execute_result"
    }
   ],
   "source": [
    "s1.cell[125179]"
   ]
  },
  {
   "cell_type": "code",
   "execution_count": 121,
   "id": "abeb65e6",
   "metadata": {},
   "outputs": [
    {
     "data": {
      "text/plain": [
       "Cell (0x7f611164b9a0)\n",
       "  Type:        <CellType.TRIANGLE: 5>\n",
       "  Linear:      True\n",
       "  Dimension:   2\n",
       "  N Points:    3\n",
       "  N Faces:     0\n",
       "  N Edges:     3\n",
       "  X Bounds:    -4.403e+01, -4.339e+01\n",
       "  Y Bounds:    -5.311e+00, -4.820e+00\n",
       "  Z Bounds:    -2.509e+01, -2.436e+01"
      ]
     },
     "execution_count": 121,
     "metadata": {},
     "output_type": "execute_result"
    }
   ],
   "source": [
    "s1.cell[127470]"
   ]
  },
  {
   "cell_type": "code",
   "execution_count": null,
   "id": "2193fd46",
   "metadata": {},
   "outputs": [],
   "source": [
    "x: -44.1, -43.76   -44.03\n",
    "y: -5.01, -4.785\n",
    "z: -2.531, -2.477"
   ]
  },
  {
   "cell_type": "code",
   "execution_count": 127,
   "id": "b74a553c",
   "metadata": {},
   "outputs": [
    {
     "ename": "IndexError",
     "evalue": "list index out of range",
     "output_type": "error",
     "traceback": [
      "\u001b[0;31m---------------------------------------------------------------------------\u001b[0m",
      "\u001b[0;31mIndexError\u001b[0m                                Traceback (most recent call last)",
      "Cell \u001b[0;32mIn[127], line 1\u001b[0m\n\u001b[0;32m----> 1\u001b[0m \u001b[43ms1\u001b[49m\u001b[38;5;241;43m.\u001b[39;49m\u001b[43mcell\u001b[49m\u001b[43m[\u001b[49m\u001b[38;5;241;43m257072\u001b[39;49m\u001b[43m]\u001b[49m\n",
      "\u001b[0;31mIndexError\u001b[0m: list index out of range"
     ]
    }
   ],
   "source": [
    "s1.cell[257072]"
   ]
  },
  {
   "cell_type": "code",
   "execution_count": 129,
   "id": "0a8094a5",
   "metadata": {},
   "outputs": [
    {
     "data": {
      "text/plain": [
       "257072"
      ]
     },
     "execution_count": 129,
     "metadata": {},
     "output_type": "execute_result"
    }
   ],
   "source": [
    "s1.n_cells"
   ]
  },
  {
   "cell_type": "code",
   "execution_count": 131,
   "id": "32d0d737",
   "metadata": {},
   "outputs": [],
   "source": [
    "tmp1 = set([i for i in range(s1.n_cells)])\n",
    "tmp1.remove(125179)\n",
    "tmp_mesh1 = s1.remove_cells(list(tmp1))"
   ]
  },
  {
   "cell_type": "code",
   "execution_count": 132,
   "id": "c940a387",
   "metadata": {},
   "outputs": [],
   "source": [
    "tmp1 = set([i for i in range(s1.n_cells)])\n",
    "tmp1.remove(127470)\n",
    "tmp_mesh2 = s1.remove_cells(list(tmp1))"
   ]
  },
  {
   "cell_type": "code",
   "execution_count": 134,
   "id": "bc4f2136",
   "metadata": {},
   "outputs": [
    {
     "name": "stderr",
     "output_type": "stream",
     "text": [
      "ERROR:root:No points to subdivide\n",
      "\u001b[0m\u001b[31m2023-05-19 20:39:56.676 (3632.792s) [        7EF55740]    vtkPointLocator.cxx:868    ERR| vtkPointLocator (0x2313340): No points to subdivide\u001b[0m\n",
      "\u001b[0m\u001b[33m2023-05-19 20:39:56.679 (3632.794s) [        7EF55740]vtkIntersectionPolyData:2410  WARN| No Intersection between objects \u001b[0m\n"
     ]
    }
   ],
   "source": [
    "d, _, _ = tmp_mesh1.intersection(tmp_mesh2)"
   ]
  },
  {
   "cell_type": "code",
   "execution_count": 135,
   "id": "036a8dd4",
   "metadata": {},
   "outputs": [
    {
     "data": {
      "text/html": [
       "\n",
       "<table>\n",
       "<tr><th>PolyData</th><th>Information</th></tr>\n",
       "<tr><td>N Cells</td><td>0</td></tr>\n",
       "<tr><td>N Points</td><td>0</td></tr>\n",
       "<tr><td>N Strips</td><td>0</td></tr>\n",
       "<tr><td>X Bounds</td><td>1.000e+299, -1.000e+299</td></tr>\n",
       "<tr><td>Y Bounds</td><td>1.000e+299, -1.000e+299</td></tr>\n",
       "<tr><td>Z Bounds</td><td>1.000e+299, -1.000e+299</td></tr>\n",
       "<tr><td>N Arrays</td><td>0</td></tr>\n",
       "</table>\n",
       "\n"
      ],
      "text/plain": [
       "PolyData (0x7f611d9c6d00)\n",
       "  N Cells:    0\n",
       "  N Points:   0\n",
       "  N Strips:   0\n",
       "  X Bounds:   1.000e+299, -1.000e+299\n",
       "  Y Bounds:   1.000e+299, -1.000e+299\n",
       "  Z Bounds:   1.000e+299, -1.000e+299\n",
       "  N Arrays:   0"
      ]
     },
     "execution_count": 135,
     "metadata": {},
     "output_type": "execute_result"
    }
   ],
   "source": [
    "d"
   ]
  },
  {
   "cell_type": "code",
   "execution_count": 103,
   "id": "f52560d5",
   "metadata": {},
   "outputs": [
    {
     "data": {
      "text/plain": [
       "256567"
      ]
     },
     "execution_count": 103,
     "metadata": {},
     "output_type": "execute_result"
    }
   ],
   "source": [
    "np.max(d)"
   ]
  },
  {
   "cell_type": "markdown",
   "id": "572f8495",
   "metadata": {},
   "source": [
    "## all models"
   ]
  },
  {
   "cell_type": "code",
   "execution_count": 89,
   "id": "c36669a7",
   "metadata": {},
   "outputs": [
    {
     "data": {
      "text/plain": [
       "['freesurfer',\n",
       " 'cortexode',\n",
       " 'corticalflow',\n",
       " 'deepcsr',\n",
       " 'vox2cortex',\n",
       " 'pialnn',\n",
       " 'topofit']"
      ]
     },
     "execution_count": 89,
     "metadata": {},
     "output_type": "execute_result"
    }
   ],
   "source": [
    "dic_ratios = {}\n",
    "variables.models"
   ]
  },
  {
   "cell_type": "code",
   "execution_count": 85,
   "id": "08258033",
   "metadata": {},
   "outputs": [
    {
     "data": {
      "text/plain": [
       "'freesurfer'"
      ]
     },
     "execution_count": 85,
     "metadata": {},
     "output_type": "execute_result"
    }
   ],
   "source": [
    "model = variables.models[0]\n",
    "model"
   ]
  },
  {
   "cell_type": "code",
   "execution_count": 86,
   "id": "2ca7ced1",
   "metadata": {},
   "outputs": [],
   "source": [
    "files_white = freesurfer_files_white()\n",
    "files_pial = freesurfer_files_pial()"
   ]
  },
  {
   "cell_type": "code",
   "execution_count": 79,
   "id": "2de66465",
   "metadata": {},
   "outputs": [],
   "source": [
    "def get_all(pkl_stl_files):\n",
    "    ratios = []\n",
    "    for i,j in pkl_stl_files:\n",
    "        ratios.append(function1(i,j))\n",
    "    return ratios"
   ]
  },
  {
   "cell_type": "code",
   "execution_count": 93,
   "id": "af1e932b",
   "metadata": {},
   "outputs": [],
   "source": [
    "dic_ratios[model] = {'lh_pial':get_all(files_pial),\n",
    "                     'lh_white':get_all(files_white)\n",
    "                    }"
   ]
  },
  {
   "cell_type": "code",
   "execution_count": null,
   "id": "84840a1f",
   "metadata": {},
   "outputs": [],
   "source": []
  },
  {
   "cell_type": "code",
   "execution_count": 71,
   "id": "b410d6a1",
   "metadata": {},
   "outputs": [],
   "source": [
    "with open(res[100][0], 'rb') as f:\n",
    "    d = pickle.load(f)"
   ]
  },
  {
   "cell_type": "code",
   "execution_count": 72,
   "id": "36cf1593",
   "metadata": {},
   "outputs": [
    {
     "data": {
      "text/plain": [
       "array([], shape=(0, 2), dtype=int64)"
      ]
     },
     "execution_count": 72,
     "metadata": {},
     "output_type": "execute_result"
    }
   ],
   "source": [
    "d"
   ]
  },
  {
   "cell_type": "code",
   "execution_count": 45,
   "id": "d8ece4e0",
   "metadata": {},
   "outputs": [
    {
     "data": {
      "text/plain": [
       "['0-200008_lh.pial_converted.stl-collisions.pkl',\n",
       " '100-290136_lh.pial_converted.stl-collisions.pkl',\n",
       " '101-293748_lh.pial_converted.stl-collisions.pkl',\n",
       " '102-295146_lh.pial_converted.stl-collisions.pkl',\n",
       " '103-297655_lh.pial_converted.stl-collisions.pkl',\n",
       " '104-298051_lh.pial_converted.stl-collisions.pkl',\n",
       " '105-298455_lh.pial_converted.stl-collisions.pkl',\n",
       " '106-299154_lh.pial_converted.stl-collisions.pkl',\n",
       " '11-202113_lh.pial_converted.stl-collisions.pkl',\n",
       " '1-200109_lh.pial_converted.stl-collisions.pkl',\n",
       " '12-202719_lh.pial_converted.stl-collisions.pkl',\n",
       " '13-203418_lh.pial_converted.stl-collisions.pkl',\n",
       " '14-203721_lh.pial_converted.stl-collisions.pkl',\n",
       " '15-203923_lh.pial_converted.stl-collisions.pkl',\n",
       " '16-204016_lh.pial_converted.stl-collisions.pkl',\n",
       " '17-204319_lh.pial_converted.stl-collisions.pkl',\n",
       " '18-204420_lh.pial_converted.stl-collisions.pkl',\n",
       " '20-204622_lh.pial_converted.stl-collisions.pkl',\n",
       " '21-205119_lh.pial_converted.stl-collisions.pkl',\n",
       " '2-200210_lh.pial_converted.stl-collisions.pkl',\n",
       " '22-205220_lh.pial_converted.stl-collisions.pkl',\n",
       " '23-205725_lh.pial_converted.stl-collisions.pkl',\n",
       " '24-205826_lh.pial_converted.stl-collisions.pkl',\n",
       " '25-206222_lh.pial_converted.stl-collisions.pkl',\n",
       " '26-207123_lh.pial_converted.stl-collisions.pkl',\n",
       " '27-207426_lh.pial_converted.stl-collisions.pkl',\n",
       " '28-207628_lh.pial_converted.stl-collisions.pkl',\n",
       " '29-208024_lh.pial_converted.stl-collisions.pkl',\n",
       " '30-208125_lh.pial_converted.stl-collisions.pkl',\n",
       " '31-208226_lh.pial_converted.stl-collisions.pkl',\n",
       " '3-200311_lh.pial_converted.stl-collisions.pkl',\n",
       " '32-208327_lh.pial_converted.stl-collisions.pkl',\n",
       " '33-208428_lh.pial_converted.stl-collisions.pkl',\n",
       " '34-209127_lh.pial_converted.stl-collisions.pkl',\n",
       " '35-209228_lh.pial_converted.stl-collisions.pkl',\n",
       " '36-209329_lh.pial_converted.stl-collisions.pkl',\n",
       " '37-209834_lh.pial_converted.stl-collisions.pkl',\n",
       " '38-209935_lh.pial_converted.stl-collisions.pkl',\n",
       " '39-210011_lh.pial_converted.stl-collisions.pkl',\n",
       " '40-210415_lh.pial_converted.stl-collisions.pkl',\n",
       " '41-210617_lh.pial_converted.stl-collisions.pkl',\n",
       " '4-200614_lh.pial_converted.stl-collisions.pkl',\n",
       " '42-211114_lh.pial_converted.stl-collisions.pkl',\n",
       " '43-211215_lh.pial_converted.stl-collisions.pkl',\n",
       " '44-211316_lh.pial_converted.stl-collisions.pkl',\n",
       " '45-211417_lh.pial_converted.stl-collisions.pkl',\n",
       " '46-211720_lh.pial_converted.stl-collisions.pkl',\n",
       " '47-211922_lh.pial_converted.stl-collisions.pkl',\n",
       " '48-212015_lh.pial_converted.stl-collisions.pkl',\n",
       " '49-212116_lh.pial_converted.stl-collisions.pkl',\n",
       " '50-212217_lh.pial_converted.stl-collisions.pkl',\n",
       " '51-212318_lh.pial_converted.stl-collisions.pkl',\n",
       " '5-200917_lh.pial_converted.stl-collisions.pkl',\n",
       " '52-212419_lh.pial_converted.stl-collisions.pkl',\n",
       " '53-212823_lh.pial_converted.stl-collisions.pkl',\n",
       " '54-213421_lh.pial_converted.stl-collisions.pkl',\n",
       " '55-214019_lh.pial_converted.stl-collisions.pkl',\n",
       " '56-214221_lh.pial_converted.stl-collisions.pkl',\n",
       " '57-214423_lh.pial_converted.stl-collisions.pkl',\n",
       " '58-214524_lh.pial_converted.stl-collisions.pkl',\n",
       " '59-214625_lh.pial_converted.stl-collisions.pkl',\n",
       " '60-214726_lh.pial_converted.stl-collisions.pkl',\n",
       " '61-217126_lh.pial_converted.stl-collisions.pkl',\n",
       " '6-201111_lh.pial_converted.stl-collisions.pkl',\n",
       " '62-217429_lh.pial_converted.stl-collisions.pkl',\n",
       " '63-220721_lh.pial_converted.stl-collisions.pkl',\n",
       " '64-221218_lh.pial_converted.stl-collisions.pkl',\n",
       " '65-221319_lh.pial_converted.stl-collisions.pkl',\n",
       " '67-224022_lh.pial_converted.stl-collisions.pkl',\n",
       " '68-227432_lh.pial_converted.stl-collisions.pkl',\n",
       " '69-228434_lh.pial_converted.stl-collisions.pkl',\n",
       " '70-231928_lh.pial_converted.stl-collisions.pkl',\n",
       " '71-233326_lh.pial_converted.stl-collisions.pkl',\n",
       " '7-201414_lh.pial_converted.stl-collisions.pkl',\n",
       " '72-236130_lh.pial_converted.stl-collisions.pkl',\n",
       " '73-237334_lh.pial_converted.stl-collisions.pkl',\n",
       " '74-239944_lh.pial_converted.stl-collisions.pkl',\n",
       " '75-245333_lh.pial_converted.stl-collisions.pkl',\n",
       " '76-246133_lh.pial_converted.stl-collisions.pkl',\n",
       " '77-248339_lh.pial_converted.stl-collisions.pkl',\n",
       " '78-249947_lh.pial_converted.stl-collisions.pkl',\n",
       " '79-250427_lh.pial_converted.stl-collisions.pkl',\n",
       " '80-250932_lh.pial_converted.stl-collisions.pkl',\n",
       " '81-251833_lh.pial_converted.stl-collisions.pkl',\n",
       " '8-201515_lh.pial_converted.stl-collisions.pkl',\n",
       " '82-255639_lh.pial_converted.stl-collisions.pkl',\n",
       " '83-256540_lh.pial_converted.stl-collisions.pkl',\n",
       " '84-257542_lh.pial_converted.stl-collisions.pkl',\n",
       " '85-257845_lh.pial_converted.stl-collisions.pkl',\n",
       " '86-263436_lh.pial_converted.stl-collisions.pkl',\n",
       " '87-268749_lh.pial_converted.stl-collisions.pkl',\n",
       " '88-268850_lh.pial_converted.stl-collisions.pkl',\n",
       " '89-270332_lh.pial_converted.stl-collisions.pkl',\n",
       " '90-275645_lh.pial_converted.stl-collisions.pkl',\n",
       " '91-280739_lh.pial_converted.stl-collisions.pkl',\n",
       " '9-201717_lh.pial_converted.stl-collisions.pkl',\n",
       " '92-280941_lh.pial_converted.stl-collisions.pkl',\n",
       " '93-283543_lh.pial_converted.stl-collisions.pkl',\n",
       " '94-284646_lh.pial_converted.stl-collisions.pkl',\n",
       " '95-285345_lh.pial_converted.stl-collisions.pkl',\n",
       " '96-285446_lh.pial_converted.stl-collisions.pkl',\n",
       " '97-286650_lh.pial_converted.stl-collisions.pkl',\n",
       " '98-287248_lh.pial_converted.stl-collisions.pkl',\n",
       " '99-289555_lh.pial_converted.stl-collisions.pkl']"
      ]
     },
     "execution_count": 45,
     "metadata": {},
     "output_type": "execute_result"
    }
   ],
   "source": [
    "files"
   ]
  },
  {
   "cell_type": "code",
   "execution_count": null,
   "id": "1cedc899",
   "metadata": {},
   "outputs": [],
   "source": [
    "r"
   ]
  },
  {
   "cell_type": "code",
   "execution_count": 41,
   "id": "c8765c2c",
   "metadata": {},
   "outputs": [
    {
     "data": {
      "text/plain": [
       "'lh.pial_converted.stl'"
      ]
     },
     "execution_count": 41,
     "metadata": {},
     "output_type": "execute_result"
    }
   ],
   "source": [
    "files[-1]"
   ]
  },
  {
   "cell_type": "code",
   "execution_count": 5,
   "id": "a756a0a2",
   "metadata": {},
   "outputs": [
    {
     "data": {
      "text/plain": [
       "['freesurfer',\n",
       " '.ipynb_checkpoints',\n",
       " 'cortexode',\n",
       " 'corticalflow',\n",
       " 'deepcsr',\n",
       " 'pialnn',\n",
       " 'topofit',\n",
       " 'v2c']"
      ]
     },
     "execution_count": 5,
     "metadata": {},
     "output_type": "execute_result"
    }
   ],
   "source": [
    "import os\n",
    "os.listdir('../collision_data_csv/allCollisions/')"
   ]
  },
  {
   "cell_type": "code",
   "execution_count": 16,
   "id": "538605af",
   "metadata": {},
   "outputs": [
    {
     "data": {
      "text/plain": [
       "'/data/users2/llu13/output/cortexode/truth/samples/converted/lh_pial/'"
      ]
     },
     "execution_count": 16,
     "metadata": {},
     "output_type": "execute_result"
    }
   ],
   "source": [
    "f1 = '../collision_data_csv/allCollisions/freesurfer/lh_pial/1-200109_lh.pial_converted.stl-collisions.pkl'\n"
   ]
  },
  {
   "cell_type": "code",
   "execution_count": 23,
   "id": "b132dac0",
   "metadata": {},
   "outputs": [],
   "source": [
    "pre = '/data/users2/llu13/output/cortexode/truth/samples/converted/lh_pial/'\n",
    "f2 = os.listdir(pre)[1]"
   ]
  },
  {
   "cell_type": "code",
   "execution_count": 28,
   "id": "c63690ef",
   "metadata": {},
   "outputs": [
    {
     "name": "stdout",
     "output_type": "stream",
     "text": [
      "stl file triangles:  280218\n",
      "stl file after removal triangles:  256801\n",
      "1266 1194\n"
     ]
    },
    {
     "data": {
      "text/plain": [
       "(0.4517911054964349, 0.46495146046939073)"
      ]
     },
     "execution_count": 28,
     "metadata": {},
     "output_type": "execute_result"
    }
   ],
   "source": [
    "function1(f1, pre + f2)"
   ]
  },
  {
   "cell_type": "code",
   "execution_count": 31,
   "id": "46d8ee38",
   "metadata": {},
   "outputs": [
    {
     "data": {
      "text/plain": [
       "0.004517911054964349"
      ]
     },
     "execution_count": 31,
     "metadata": {},
     "output_type": "execute_result"
    }
   ],
   "source": [
    "1266/280218"
   ]
  },
  {
   "cell_type": "code",
   "execution_count": 12,
   "id": "fc0fc3cb",
   "metadata": {},
   "outputs": [],
   "source": [
    "with open(f1, 'rb') as f:\n",
    "    c = pickle.load(f)"
   ]
  },
  {
   "cell_type": "code",
   "execution_count": 14,
   "id": "b10f72b8",
   "metadata": {},
   "outputs": [
    {
     "data": {
      "text/plain": [
       "array([80710, 82705])"
      ]
     },
     "execution_count": 14,
     "metadata": {},
     "output_type": "execute_result"
    }
   ],
   "source": [
    "c[0]"
   ]
  },
  {
   "cell_type": "code",
   "execution_count": null,
   "id": "58f00355",
   "metadata": {},
   "outputs": [],
   "source": [
    "def function1()"
   ]
  },
  {
   "cell_type": "code",
   "execution_count": null,
   "id": "5be3f14c",
   "metadata": {},
   "outputs": [],
   "source": []
  },
  {
   "cell_type": "markdown",
   "id": "abbeb4fb",
   "metadata": {},
   "source": []
  },
  {
   "cell_type": "markdown",
   "id": "1f1979d5",
   "metadata": {},
   "source": [
    "# 2 mesh collision calc"
   ]
  },
  {
   "cell_type": "code",
   "execution_count": 14,
   "id": "b1ae219a",
   "metadata": {},
   "outputs": [],
   "source": [
    "results = []\n",
    "csvfile = 'Intersection.csv'"
   ]
  },
  {
   "cell_type": "markdown",
   "id": "af367c75",
   "metadata": {},
   "source": [
    " Calculate"
   ]
  },
  {
   "cell_type": "code",
   "execution_count": 22,
   "id": "194cd9cc",
   "metadata": {},
   "outputs": [
    {
     "data": {
      "text/plain": [
       "'freesurfer'"
      ]
     },
     "execution_count": 22,
     "metadata": {},
     "output_type": "execute_result"
    }
   ],
   "source": [
    "index = 4\n",
    "filepairs = get_file_pairs(index)\n",
    "mn = model_names[index]\n",
    "mn"
   ]
  },
  {
   "cell_type": "code",
   "execution_count": 23,
   "id": "c171e917",
   "metadata": {
    "collapsed": true
   },
   "outputs": [
    {
     "name": "stdout",
     "output_type": "stream",
     "text": [
      "0\n",
      "1\n",
      "2\n",
      "3\n",
      "4\n",
      "5\n",
      "6\n",
      "7\n",
      "8\n",
      "9\n",
      "10\n",
      "11\n",
      "12\n",
      "13\n",
      "14\n",
      "15\n",
      "16\n",
      "17\n",
      "18\n",
      "19\n",
      "20\n",
      "21\n",
      "22\n",
      "23\n",
      "24\n",
      "25\n",
      "26\n",
      "27\n",
      "28\n",
      "29\n",
      "30\n",
      "31\n",
      "32\n",
      "33\n",
      "34\n",
      "35\n",
      "36\n",
      "37\n",
      "38\n",
      "39\n",
      "40\n",
      "41\n",
      "42\n",
      "43\n",
      "44\n",
      "45\n",
      "46\n",
      "47\n",
      "48\n",
      "49\n",
      "50\n",
      "51\n",
      "52\n",
      "53\n",
      "54\n",
      "55\n",
      "56\n",
      "57\n",
      "58\n",
      "59\n",
      "60\n",
      "61\n",
      "62\n",
      "63\n",
      "64\n",
      "65\n",
      "66\n",
      "67\n",
      "68\n",
      "69\n",
      "70\n",
      "71\n",
      "72\n",
      "73\n",
      "74\n",
      "75\n",
      "76\n",
      "77\n",
      "78\n",
      "79\n",
      "80\n",
      "81\n",
      "82\n",
      "83\n",
      "84\n",
      "85\n",
      "86\n",
      "87\n",
      "88\n",
      "89\n",
      "90\n",
      "91\n",
      "92\n",
      "93\n",
      "94\n",
      "95\n",
      "96\n",
      "97\n",
      "98\n",
      "99\n",
      "100\n",
      "101\n",
      "102\n",
      "103\n",
      "104\n",
      "105\n",
      "106\n",
      "107\n"
     ]
    },
    {
     "data": {
      "text/html": [
       "\n",
       "                <audio  controls=\"controls\" autoplay=\"autoplay\">\n",
       "                    <source src=\"data:audio/mpeg;base64,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\" type=\"audio/mpeg\" />\n",
       "                    Your browser does not support the audio element.\n",
       "                </audio>\n",
       "              "
      ],
      "text/plain": [
       "<IPython.lib.display.Audio object>"
      ]
     },
     "execution_count": 23,
     "metadata": {},
     "output_type": "execute_result"
    }
   ],
   "source": [
    "start = 0\n",
    "end = start + 30\n",
    "\n",
    "with open(\"Intersection.csv\", \"a\") as csvfile:\n",
    "    writer = csv.writer(csvfile)\n",
    "    for i,(f1,f2) in enumerate(filepairs[start:]):\n",
    "        real_idx = i + start\n",
    "        print(real_idx)\n",
    "        if index == 2:\n",
    "            if real_idx in dcsr_csv:\n",
    "                m3,m1,m2,ratioPercent1,ratioPercent2 = calc_after_remove_ratio(f1, f2)\n",
    "                row = [mn, real_idx, ratioPercent1, ratioPercent2, f1]\n",
    "                results.append(row)\n",
    "                writer.writerow(row)\n",
    "        else:\n",
    "            m3,m1,m2,ratioPercent1,ratioPercent2 = calc_after_remove_ratio(f1, f2)\n",
    "            row = [mn, real_idx, ratioPercent1, ratioPercent2, f1]\n",
    "            results.append(row)\n",
    "            writer.writerow(row)\n",
    "        \n",
    "notify"
   ]
  },
  {
   "cell_type": "code",
   "execution_count": null,
   "id": "c642372e",
   "metadata": {},
   "outputs": [],
   "source": []
  },
  {
   "cell_type": "code",
   "execution_count": null,
   "id": "26518de7",
   "metadata": {},
   "outputs": [],
   "source": []
  },
  {
   "cell_type": "code",
   "execution_count": null,
   "id": "5a7501df",
   "metadata": {},
   "outputs": [],
   "source": []
  },
  {
   "cell_type": "code",
   "execution_count": null,
   "id": "df07e089",
   "metadata": {},
   "outputs": [],
   "source": []
  },
  {
   "cell_type": "code",
   "execution_count": 24,
   "id": "72782bff",
   "metadata": {},
   "outputs": [],
   "source": [
    "f1, f2 = filepairs[1]"
   ]
  },
  {
   "cell_type": "code",
   "execution_count": 25,
   "id": "2d34fd3a",
   "metadata": {},
   "outputs": [],
   "source": [
    "s1, s2 = pv.read(f1),pv.read(f2)"
   ]
  },
  {
   "cell_type": "code",
   "execution_count": 26,
   "id": "099da053",
   "metadata": {},
   "outputs": [],
   "source": [
    "d, _, _ = s1.intersection(s2); "
   ]
  },
  {
   "cell_type": "code",
   "execution_count": 28,
   "id": "082b7c29",
   "metadata": {},
   "outputs": [
    {
     "ename": "AttributeError",
     "evalue": "'PolyData' object has no attribute 'shape'",
     "output_type": "error",
     "traceback": [
      "\u001b[0;31m---------------------------------------------------------------------------\u001b[0m",
      "\u001b[0;31mAttributeError\u001b[0m                            Traceback (most recent call last)",
      "Cell \u001b[0;32mIn[28], line 1\u001b[0m\n\u001b[0;32m----> 1\u001b[0m \u001b[43md\u001b[49m\u001b[38;5;241;43m.\u001b[39;49m\u001b[43mshape\u001b[49m\n",
      "File \u001b[0;32m~/.local/lib/python3.8/site-packages/pyvista/core/dataset.py:122\u001b[0m, in \u001b[0;36mDataSet.__getattr__\u001b[0;34m(self, item)\u001b[0m\n\u001b[1;32m    120\u001b[0m \u001b[38;5;28;01mdef\u001b[39;00m \u001b[38;5;21m__getattr__\u001b[39m(\u001b[38;5;28mself\u001b[39m, item) \u001b[38;5;241m-\u001b[39m\u001b[38;5;241m>\u001b[39m Any:\n\u001b[1;32m    121\u001b[0m \u001b[38;5;250m    \u001b[39m\u001b[38;5;124;03m\"\"\"Get attribute from base class if not found.\"\"\"\u001b[39;00m\n\u001b[0;32m--> 122\u001b[0m     \u001b[38;5;28;01mreturn\u001b[39;00m \u001b[38;5;28;43msuper\u001b[39;49m\u001b[43m(\u001b[49m\u001b[43m)\u001b[49m\u001b[38;5;241;43m.\u001b[39;49m\u001b[38;5;21;43m__getattribute__\u001b[39;49m\u001b[43m(\u001b[49m\u001b[43mitem\u001b[49m\u001b[43m)\u001b[49m\n",
      "\u001b[0;31mAttributeError\u001b[0m: 'PolyData' object has no attribute 'shape'"
     ]
    }
   ],
   "source": [
    "d.shape"
   ]
  },
  {
   "cell_type": "code",
   "execution_count": 27,
   "id": "3de3a10c",
   "metadata": {},
   "outputs": [
    {
     "data": {
      "text/plain": [
       "4519"
      ]
     },
     "execution_count": 27,
     "metadata": {},
     "output_type": "execute_result"
    }
   ],
   "source": [
    "d.n_points"
   ]
  },
  {
   "cell_type": "code",
   "execution_count": 18,
   "id": "6beaa864",
   "metadata": {},
   "outputs": [],
   "source": [
    "bounds = get_xyz_limits(s1)\n",
    "m1 = removecells(s1,bounds)\n",
    "m2 = removecells(s2,bounds)\n",
    "m3 = removecells(d, bounds)"
   ]
  },
  {
   "cell_type": "code",
   "execution_count": 21,
   "id": "1de9ecb7",
   "metadata": {},
   "outputs": [
    {
     "data": {
      "text/plain": [
       "187"
      ]
     },
     "execution_count": 21,
     "metadata": {},
     "output_type": "execute_result"
    }
   ],
   "source": [
    "m3.n_points"
   ]
  },
  {
   "cell_type": "code",
   "execution_count": null,
   "id": "201d1f0e",
   "metadata": {},
   "outputs": [],
   "source": [
    "m3,m1,m2,ratioPercent1,ratioPercent2 = calc_after_remove_ratio(f1, f2)"
   ]
  },
  {
   "cell_type": "code",
   "execution_count": 1,
   "id": "cb832519",
   "metadata": {},
   "outputs": [
    {
     "ename": "NameError",
     "evalue": "name 'results' is not defined",
     "output_type": "error",
     "traceback": [
      "\u001b[0;31m---------------------------------------------------------------------------\u001b[0m",
      "\u001b[0;31mNameError\u001b[0m                                 Traceback (most recent call last)",
      "Cell \u001b[0;32mIn[1], line 1\u001b[0m\n\u001b[0;32m----> 1\u001b[0m \u001b[43mresults\u001b[49m\n",
      "\u001b[0;31mNameError\u001b[0m: name 'results' is not defined"
     ]
    }
   ],
   "source": [
    "results"
   ]
  },
  {
   "cell_type": "code",
   "execution_count": 29,
   "id": "1019cdc3",
   "metadata": {},
   "outputs": [
    {
     "data": {
      "text/html": [
       "\n",
       "                <audio  controls=\"controls\" autoplay=\"autoplay\">\n",
       "                    <source src=\"data:audio/mpeg;base64,AAAAHGZ0eXBNNEEgAAAAAE00QSBpc29tbXA0MgAAAAFtZGF0AAAAAAAAeaYA0AAHAQYUrYxUKRAIIQU/HTJzpTcqRlAYXKypcIe8QABAjyl+IJhlk7+RJ57OE8PI+/kyKJwIROJFJnQTQXAz2VlQhA5OKcnjJjD/5/a4lFFGDt7qsKO+aUO/ZLdQq9nQVt6e0MvUACOoGB1DS4GVbeR6/bH809VR4pE7xeFYEQ/KI4ABCBSv4KFYYGghEjwWOuOFTrMS1b4BVTbnecgZvP5LLnMPtcC4kmYDQgcjKCBUMOu9XsDxSRW/pPdew7PLJ5iY3/5yanE5dEnWmUGr69Ca3DY8OtA1i3KquPyaWk6E63l3cQmoFDFlpMoCyaQmBPSfFmbe+6fusnJe0uHcx21yR4t9k/J8R4rwcWYMHITM7rut4tFwvshMBZXZncvZ5MJiY4BN6CZi/+WZPScrj+nZMbaA5h641TZhY5+v4tGefIW6U9sd853TgpPbLsHLhs6iyeggEfeG8/Z3H+U+Ynwj63v7BUorpNvfNlxSuO9Z79e0ZrSlLoBki1wTB4lCPGc1KEG5L/JzEqYfFbnXOHRO4owyw4XRxX2G/ev4hBpQZWgW9zRqjLua/W48pzLthUOHL3MWcO//G45znVVtu7bXi2MbbbJVzeL/vvvO49AeLRes4WLllw4T9BaKO5aT438zbKw19/6jwQHKGtxNPqt8NDBoh0UgrOq9U9rGa9oo8y8XPj2m0p93074tP3ducSQWgOLoIOG/eGZgk5lBbgt+3lebPYgoESKR9fx6v0LlqXAOARYUqixUSKitzUodwEXuL3pYIszQ3fQs5TZR32Wvuwa+5N5waEMSjnuz+G5DVhjEyBgqRXRsNOQ9zSvhWs2B8vxDIcXGqk09DHFYCLhFEq9JQT9GZsl037u1iUubTiIbeSsAd6mGM2p05UUYhgoZhynnt9xraL5/OiLIH5Kb2EO+aGxVHGqV+MP4ydcmW3aXE+jRNtn5a+tnjR5AXeL9/slaBOM/xZdrN99ruqAJxBwBIBSiCFYKCIaBI4hIYiCIYd1UdBAi1ho3Y1ObpoKF/3kVMWO70XqTIAnm2Mashb39NPcQEg7EWI5lIQomFuWOp1j47ojB4v4RxB5+/W27JZzhiHLHm43TsksqqTAurjJMd2+rdeEG183SYsxrdHE150UWRnvZ5DrotatjfZtm+w7mVYf6k51JjqP0k2QVhL0hSUqjcKDd9036bHFp3aWWU1uTma3CZqBMCwDgASQUqVBmMgyQKEhVLeqsNWZNEqyWSAK//j/z8ln1JeIBKisEiwgTg2ny6uwGBEfEOFUpCWhU3HIvyUkOGnACKIEXByBr0WWe644OUoyWyXbEHBMHOKBd459U0W4+JuFAGCvtXATVrMH/I6LT1sHrLYFS4/WxyVRmJdYkDM+O+x1QcQzSx2FmJBiRt+qCtKeGUlF2ax7z7TTdFUIUrEq3Ur8h9F9KcQcBLBShzHQxKEiR5reVu+dNx7KVNIJqbsulhyUvoYiY7c2dRQmWiRBDKw4YMrkznDAGUachDgh+jydIY+97TkYrZapYbMIaHEnQDBkfvt12+1x/YCIajwXhBSZoXCyibOzN4mwNWReBXehfocALRj4JFKjpYEjcX4oZV+XbP6lx8ZJAJ1AgaakpoHN7orrNduOkHESFrQvXW4tkxGNB1BhdYbc+vD075OvbxYQcASIUqJDUYRhMmS3cplRS0Q0kFgLQaoP+rJyci+CMMx2BzKQwX6Kc+pjozQAZmtTD0y7j2H/2aMdVGW+QMCqRbNLBNWo0ek1l/SbS0BcKFVJxaqTmnKMyD6bOZwlY5ArBcIaIY/KRKc6fY4tldJWLUk1KUH/78jT17NexqFKLpVMtMXh0Bo/OGKuoVQqGVwzSioaVFlGeYQCKIFjvPDADgAEuFKhw1CsJBkwRvY13Q2ykeWJqAXYgsHRXrF7V2DCYNGiu2YqWkUGsmrRIisR7Cc4oxI5HkM1FfXjqXEsKY/PJRzG2tHGGJ+v++W1tZKUVcM57dJG2gM8mHxSAGvRiw00WBrgT8M4ZsZvOQAJxZcmVDJ3r/LMdecMmIiWJDPzbHw4352LHfPYFBLhxQhJgFWt3KUKUhdjgmUvYIsdKAegAwghfHiuDgAEsFKIsVEipoumTCds8vLtLWIjSoaBOTurtCgZAEwslsFAtGZIl0Y07fz2kHxEpTVXdxyqdssumE6ygBWwkgLKyM8NbQ0ng6GMTsqUKeB5HwSiYWxYq0XdGZM3DQl6lek1T8SphkQSQUUMtt5BTrJAPFRi8fKubZmTSCHc31WwMlCQTaVvSzP/1zzOOKASg0TQWJ1gAAIBADgEsFKBsmCINhooREQRuGMoqz06aQmrKRC7FhDT1tb2AB4SaX35zQazxzphJI4FVHbQpvwuqy04U/KCFQAvLuLMrBgwVl2Jj07FdiozEwn0B0B5qN9MIzReNrrqz8RQxPVIX8U2sfB3Rk3TeB1rUnbxqTpJbLrPfQu6SpfVfteinXhaUlYeOsjeMsw7u/W0SACMIkLS9DvpBHCLInTOVEIgCxPigmDgBKhSiBDYKJFICEKpObRMwxd8TtrRBaRVzQTxLq4sRT1hU1gU3Fk01t4wJkgKBani02hykfUuviJgTp0jr4IMY13whqedEeeOp2hDvQ6joW9k9sWJJ0wR09tUsrDGtI7RcDos5rliLoL4vkVw1zbHsoW5Xpgs2fDyQePie691NM1fDXaajlrL39jH+mmld4Ak7FNP6Lw4Xnd+AHAEoFKHsciIEXCDKN0L6jMnReLLi2OgDl7FOsIqqaiZtlMfTPCpOScmOo4VvrKW+CdTsbhucnOrja7iAsAOp1yQoqYvZ4MEknZLbycawOeAjxcPDyJXntpc0WJLA+UTHRzw0r8vOL1/VPXp/3H4fv87Wq0XwwkF7d1NVu2/qiLi8Zb9UtNw/TgZWHh4OGlbKRAAE4C1O0wcBJhShtCRhEE4CEK7O9ybsYeTmuJdzFwtooCxvWzEv/eAC5nBhhTRVXyBpodldqwKQbWTGW6b/HBWNiez+5+RzqsEFo5dnrVR/1abggoOKB0D9wFvUP34VVhWVhHqWJBjuesg49I0EQtmxZuOzJ556j4FAfWasH7eCK3kVJMvmJLy5K1VKcKtHwyTrZ5sxlbP++qtfJLln2R5bYoxQAcABKhShlEQyhJCCEwCHSniCPT2G5xaxLssBDN2cL1t3rmYnIagmElJPxgq7YV04KUduqHAeJDEexpwpZKUcELaFNjyMofSHe9vRuVMShvPf3axKCXVQoPJchZ50WnkYpAXOg5mTw/xO76pOqNtuF9/cBp+jaj/OVapw8QGd8WR5YtmIll7v7PvIPlGdvt891VyUn4PipJTpsONQgBwBKBSo0KRJKEgCa1ib72l4HBM6aiiRatAET+8Kc18vsjYyS4pJSdQ+J54+EtAmONmYsbaSGzypI5jp9vAibJ3iHg2OaOsd5N5W3Zwaar/0KeisekdpztLxwpL9JT1J/acmbslmC1+H71MqT3Io81najyT2xQBr1p3xBmXnQDBBlK2swXWSrTDovOtpF3ONbZ12JObzO+avW9rybIgmFOABLBSp7CELDQ5DQQoSy2Z41FJGmLtwUllpYEwnay1OclKAiKKFMhaKSLSnHv7FqUMEQc4YmznSit76oaiQbaaIdaGuGqjOSMbZyW2bKQ8VwmQr59sB9Td1WbgCAVmq7Fu40NA1J8svK5vIo8H9Xn7T/1xuSQM95PYiDE9e9VYTG9y+efnmAQeqIW7gI+K1wg47VZwEv70TVle6iU/IqQhNWFFNYgABwAEmFKIIYmiIBCJ3OEHiAXec8NXIRrfSl0LLXRIHgR4UnoYkzcRp45sbAKUNtASTg2Up1Vqfs+B9m3YR2YHnwutC9xn3BZKPSFSmfK5dmmazoCwT6jRyJ+9sANUC+x41nE+GkvoHz54ekub/c7fNdmE48Hb7FAXdD/9OXH9hpmAICs+gow44ZTIUOGVVvvVf56czkAqd7AHAASAUqNCkORUCQxOAgPTWYUX0C7XvSDjJLEBmXRnckwcK4x1UlTkIt9OqgSJJtxPvnC+kduQhppU2PJkzYQu11gjoyMgnRhuoPm2uo/z8GhPgocEcVfCnedFKSzWxKM4DBnQen65jAO+gWhauy+saJIiMNj5jMriHOujt8SIx2ZIyy4CLKA876eXvw5dQ1pWyq1CQBTt4g4ABJBSpMHITEQZDQJJAYRlBlJL65WkWuIssIC8eRp7ZNEEibKiCr4gBqWWNiYxJwKReJIVAK62UaLoWF1xCgQe+fMFZqcXcBYEOcNRXXJJuxpFvl5nlqokoM77aGsOsvggaZSxP9BqSzRQaYMKAWrZ3dFjuM9Gd8xhzzI4F3VjOHXoCAE7YDVNM6vUiZQDmy0JrdFodAYkk9DQDSGNPzmTwASwUoOyiEw0OKgEdLlU73ZjzJrLRLsIWsDl8IjWP4H8BT8pvk77vmncUm2scUZZlg7tXDvFMMb5XGuUBdre+EleSjaezCdzk6yOGKRfw18CwRaK0S6rFihbxhOUmD0y9K4Ue5GBWEQ7lwzjcZ88EUJ690NnrmHGtmWTInqT0VrTlqne/mjBNHHhneghWEYV/NeTXGBzw6hTLqy5rz/aUOAEmFKxQuhIsmgJo6qdhM5PoJcBJIJYe4Z4y5cqSjH0cduxB+sXDNM/x/TUyGXhsyqVgIwqmA3panaJtf1MXY1enrJwfD5M8qMEiXPSMhWVcD54ShoLRnwooSDPAOxsT1G3W+CUIB18OiRPeMV3A484QBxYgXQBSM5pRGK94iOw9e/jLBkHm/cwZmpTNJjZYgGL7CekIBw6AcAdbTMwuY5wBJFSocNQjCKADaOEzAIuWYLJIGgYU/shBq7gPbNyTUBJJVSAlwYVRwiC0g0msKzYtiyRptdwnNPBnutpzltgpNujN1gMVUqlLyF9XV/y1WBbotYbWtNROnZ9K2VcT/oY1RASn1JdLQ3b5mHr5z61MYvoWhGZfB/r8vkowMZcdesG6uw16KZLblGHIPMC5RSL6ViRgURCTwp4BDpnuiyRk2IkDaSrUtojrwpUqWcBcyuXCfvCPMXX03B7IWxBGy+kFW+iMSLz1hgWc/RWVuw3JYz61tCgGpEbXrjFsCOZmHMsy9UUE7QR+mKmWmUTRgAeyhkJEJEygYCpqaQBN5Zux8gAAhFptFG5lBjanhYTzkWEftuzAsVENytlMqvX6FtXl2VC8bpj0Jv54rNb7vn6eHfIUai3b9Xy/hXoqmbsbh9nbWbbyG6Du8uQLAEA4ASjUociicIQEdNTjazMF5awJUvLSKDG5+SCdPpDalyaUkDCjghBCdkJd9iq1drj1klI4VrDP3TG4RIqd55Nez+ZZBRJ1vhNIfcADv7YZzM8VJvqrrZkPAhS8Xj+EhfZLLvURor5ffKhQOJAsIeW3WDlE5G//DocwDwsEI8fI6JgiWhAYwljCdFuil0qwcczShXzrUZutyEwOASRUqHCmSS0EIwGalrMVI0HOg1iywDZsPPwBlW1fFe4iXsDxkBPgIj3pgzwNPQ+MkJ6uzjJbdlKr9fel5yYwhsk04tzGusLEYQIRAgd/ClTvqz7snwXzxzOVobtkX6RyydPp/YC16IefbsVQEyrUY66lSbGqEkRw4ALEGTT0DJENSwdVHX4chaLztgbzQIKqGnfgM35r4UqnsWrU4AEamfoLJMKA3Wxl5tXDVb4+0fjNhZAdW1QEVQvWiKdCqefnHYNF8Kveivlmo80HTF1aCyZAxb7JyoqQc/UPTrtlc5RCuG6QtYvYppRRA2kXfaJmIwHrwzRdzcVR6+5HfFuEN3U4BLd8VKimefJWVTJxWLLRSrUE/dAkRDUvYwy/xeOyAIC4xu1lonwde2AD37Tj9PIiUabZhoiSRs+VPCewUs6ysY5gVD89icABEpje1WhqaLZESMw0UFIxMozpSlz9u4k7zh5m2u9vtfm+j14U4fHwDb/5T9rQ4uw9Sxeu3raeA4vJsPc1raz4hXhu2fBZ8zGsZhW/LmIBXfprSg+zHAGM+vTWfCyV5/v3IZUSOl7BoZAEayVgAEQn+RNTvQACwkl3u1LvpBBrL+puQH6TpK+bp2hyBzC+4Yaaz24Vx//+rgRHke6dZnC6sS7pxK0HlBXfckueBGGwRdlzimijFQJiVdordIIClXDUh8h0WsYTM6o2vGd/skgSQNsu/zdmLm3Zs1ulbImHQEY/BJR82DchdJQMM+LO1zPcy9kTw1fxAdMiccTthwEm1KjMqxMaBMNBEkwvCQwpCNqKyvBN6i1wBu8MlS/o+QTXt7cMUuWjTXZYfKj5+Gd2WyGa6hRe51G+9PXqavkFHVsQdDwxrx8iNvJSi52Sdg3brrBYVBFsfZRLZDxJjYtOrquhFZkSlpVtP3vWxZYHl2WG0IZKrmKlqTq4RxecaZFUUsTte6doBGvd4THPt/3B74eWa82s3szDyTihk/kxOLa4qRX2yNu0TgC0hdF3oMt5ljtVAjCuU93EPbwiq/td8S1Ei5AefYtx4X/zQzp7LjGpLxAcATIUqMyoEwyCw4CgRcfPsctWpMzO9BuuRNLNKIGKld9x10lYbeLEa0RMITPXy2U2/7y2+uzizGVq/fMD88z1AwUbZl30SwCWCcCMIhFieTRkV6pkPMcXLFrAM3RmIRESE0wRa3gUpCRBwZxzQa5424CdNIv99sZgMmjnhZGDxKYqen98VonevWoe+EZ1iDLg6wIx3ilFOGm3ojCDyPFxS/cBWuykaT4pBPgBwAEsFKxw6gsMxsIkCQBCFXhrJKuG2Vicr765yXLaBAyY0s6M/DIJ605KKKpEkLTKFBtn7+akkIaGEhI4zqOYdSC6PLABqcX2XQnoIJ1ZACmMat/rk/58NzGkW7X/ou10kAQE3QK/51oKHJSZVdejGd+DLmDAH/gzH8ws5sz9bb7o0A7YRNu+Qz6DoEIASvJmcz+7sJ8gpbBTUw4JzCoy4PCZXOPPyfxB5AHAASgUrWxYEwxEw0GKQGz1o13Bdt8jnVwCyabADzBTVVa87/4ma6W5qTMP7diOsSwJAEIOUUFlHCo2psR5vKMsYMTFB5M9nn2ZTVLvEAYBRd3S8DqM6xJeLoqkkciEwVUNQE3axpfzmDyJOWhxmWhQVTinvoaDkrQV57ApY8k/NeMDjG9IEpGhffl/GGnpSXg0ViMWb4xQSdkiemGZpusv3BbgASQUrJKoMhhEgWCaQE8djt5RrZWzOBlzpuosA7IqpyK1R/Z0XbYzw0/z353F6mXzXAxY6Oh5HYtfm5YwG4YctSOrGyXnxabDQwkuRGc6hFXoVAJTOXFeNoUE8YOLqsR4nb935Wr2bzaJXPAiOf5+bJaUW6xXspw8AE4kpsbPeUOQWa+xi0Ofp1C+7th3rSxyw2a+fPEcE91y2AAJT+z7HU5mXk32LJldVSd6cHABLBSs7ooSnYQjUJDMZDATb1Da087zW0KVql3OYhwBzFoEru3TWBDpZhrFkA/e2Mnk68wPOZy63atj5O8DEAeb2ocxFm+9etq9gx1/66+Nbx4WgwB9BmM9swLgIrVMnev6GCHN/tVDmTgOT2lTanzgM75OeM+P/vQiTqShh+HGc4WecGdQyf03dmv7/6c6bW4lTokcnPAFejRH2iFD9H7b5qMVhhY21nx4ASoUrPJmIpWCowC40CIUCJgEv1zG99COUVLRfj4YyIuYECKHuZp6Kn8aI0weAXUeKSuO29TYrvzEKV7KUDaP16bJXPz41Qeq/ZAOAVwzGep9fRvae/pF6+zPgYtmYgrg2T2a1c9//yAngDLNVVKwBaJpOHLqDLWiLbuJ+nhlWAWfzQnDTIs85JT4WwKCjZXiCC35T0qIRR1+j1YaxoAlH+GEjJ/GPXfDcPwozfPgASwUrUwnFQ3Kg1IwTCgzOnyTxNEqAMmhxed3AlbsDqzhPLst3cttiGsm72m/RBAKkS9lWVPl9hKF/jqxwL9k0ldZaqGHaQQkJvhrxp07Qzlq6ui/kwQjq8Vp/tY2zGdzMisDyz3ZEdvd5cKoSAW305YSAErys39+OQMRkQ14bfzUWdD+W5EqhJadxcaC2I6NQTW0J9n8fmMdW++INQw2MmfqcTHrgEkIWv3M6db8+XHdHFpWuBEA4AEwFKyEKwkKwwWTKhhGpM9BAzceTIJaY3pEMA1c1LMG8lqRCq2j0BWc6O+DylOBda8Y3KX8hlkEjy6xG1RoingIInDJFGllnn0fbfkcqNfw4Z1cdvCJi3RAQG8SXu+2pwn6oChVjUOzxAAAkVrjUuwgAIz0tIsCzzJ387VoeeYRgCABK8ui9LxM/Mz7VsTznp39z3GvVl+RxbMNIDlJRppUmCJPk6OT4oZQyAOAASoUrU6aEqGEIkGIiEIVV6udtejRaW2y9ZdacuGF8dg53mMTlzz43BSJEZR54+KmiMU4rZEOVdxn6rMT/HXEquf3fDnW2RqRcsY7/INYk84kyAoCGgf0TJxlj9utZi9xqaW2GBObibuePTcYVIANzmYxfsbAABcE22zpDRQCqs/j2SUY0krAzWoaiKDFrgAnC/LAWc882qTcuXENw2rA8SnssCpHU7gAiCTIMvZJT+trabZ0MiA4AS4UrPCGLAUKo2EIkCZ0+TEbkYebX8pwLvdHXdtVuBC44gWdccvObRQGvX5FVWcZ+6vFnE7lxggAvs6o6BwafZNAqckGIBdPgTuWVagBR4aK5lm/WsIUn/pqrP9gaTtyyHF8Kh3J+qTXSpN3FmJYj0/DBAAC7u6315kAA4AwVdc9duOMzKLjy7SiBGJVEowAAQ9gZnUK1qa33N9gROHPwc3lAAyuw0YgFXX8OcAA4AEyFK0yuAsIzIIxoIypf8fTau2mLstjWVa23AW3wEL7ey3ZUdSYjRCzkPtZbaQnjyh+csR5BjljfvO244t/7PQ44aOGcrhXfxMsdAFTjxdEXqWcBQGkmetzMV68UIU/6Xq+NbS22PK9j9QpjBvP5t3QAbFAk3zvoM/LNSdhHjipDTDFAAR42C68Hd6ByBs/1bnAOsuiursxD87HAFstfrwDUtwsAFwHASoUrVKoGZnCgTU3vbALxjpAF3mLncnWAjp9JEKKTUTIMUw1l7/XA5RRxrl4S+pwevIavO/UObnWfL/5v0tQjOQcaJmsOCGGjDKR01MkrBsjhOETZsCWCe24+HhODutmnS+s+U0ud7EDdfT+cAV3vY/8ZBU6XKV1fw+DOq+SBMIB0T8+FGjqgFaEWmji/4v1n/p6Gn+O6pubBREAOQ0efqViGvGxPoXLqABwASoUrS5aCpWIQlHATGwROp4Tk/PxLw6A0XvrO5qdtFAormtCpSm+VWiAWkrcsskOlmH6jDgXW/tcZqvmfm0w3+7+qlgi3fYGM9hW4k3uzU/hf6rznbCsVSBgL5pqrEKuBYAG2nGAaJ+21RpbqwEGfToAAAu9xfzlZToBDpsS4EkMy7SJrq599zMnpsozkAmatcRWsoqtPeOWy48b7fX/C6VBAIgJRycgEPwKQ+zvUAHAAS4UreqCGo2CghCwhMxze8DpCLCWI2XiHMXKLZPR44u4eTHO4CYOoasIgRpkwsqF7YxlAB9pVTB2OAJTg6OBVTsa/jH03LuiREKRHXagrnvS/sd+NzF5TV334XFko6F/QY5cxuzwnUANT0b5Y/dKQAADTdMSCBhlo54b+ubDO+GUaepciqprCQiRq1wKWVAKcxvOHDX6nkAXOg5cYscjFwo74gDGUt29ZgCXN4dnj3zIkgDgATIUrayUIYkCwUKAjIVQ0LinCQSDrYZw5BEcWktbsJCE1nC2Cw9OVSi18JkrfZoIBBBDRXbBYg40tfk2r/SM9q0Ia3PjQRgbcSFkQypi2th4XgfgbuAEa+a9800UEOxbOOyvooWahJxbrf+F1oFpiHMol2ozIGpxxJ9eh5CP/lJQI1m2TizwC/mqjC1oZa5nHAbhZb+c49125V+ZVceFRNNGl5k4LhSd+b0WH53xVVQA4AEyVK1M0RIERII1pklw2cZfRAS01VBLMARmsrd0p1LDT4iu20s9rbaW5JyzjEirYeAAYfu8AHP4duKn4eD3kpk5sANMxIzTTUIlBYDULJ3RFzghy04kLnj2xjU5q1uYE0yW2u2qvSDwFFLFMNXGZSroJrf8JOzQyUhp1oSdlfRjOSFDSnbX5U6W8WdPx+PmCUKlw1Re1R2kwiDMnCVAAcABJpk6EqRwWRqi2KAaKdEQN8VHJP3x10PX8J5vh3rNf1r2+N9X0P+Hx18+30BAdfiqHL8mm/fi1qmx24nb9D4fsejaW0ON6XiCJwhKoT+7+cUBwL1xBb/LazqCfHZv8vUib/r+f+YDoA4Vt4Pc5tStCETFI/vN8BrMG/HJ8ZKbAvDCa3G9TK/X7mZn11uoMj8DdVu64Lm3hsgmMYJwtfnFH8E538NgBgH5ZRgVDGYORXEzSvN3QhjvNdeZ+7dN5G520ThDSagcUOYNkYOTw6xEfa2R1aeHlwzFsDAwcicdepHVKrjlr+riMXDf7dA1cFgzvsRlHp/C2A4BINStMHQUDILIQ7BMb52yxvHQOizIC8pGsWHZFHedyPurbmpnP2v/H/5v9dDVZpOty5SwCliMH5/bgmP3eP36Dk32yJ49JGj8IXFSGiwknQ+StitRHo5nN6oIgvR57I3TdWHVEjPVP3ZhLShpv2ebdzuVEfLguqzHu82n6xD4DXIgNZO9Lj4V1NXJXh1wNMLRXgndZGFWLRjWt+fQ7qO9DDVs8+hMQulpkB7DUsKs8ofRGebxT+8FsvaiqBsbYHEk4qpnioKzlqrQx52GWXKLtvJaZidNc002Fc2W8E8TS0Vp37bp+pedsNum7HZRBwEwFK1QVkIIxAJRGpX2FY8jJfC8QY+O1iZe4D8YsEl+btIgyj3ZrZqWtcbtNA3P6yE1xzHzhy+YWiX5ZAlUKiMcolAghkAokEFQD7JdmFg9nqnUSdRBGBXQTp/H/Zk5aw+LZEFrUvuGkT0vms/2LWAMY5+3jn6/bw931ewXgVq7zznlSIA3u6pfdb3bovuWls4v1XZaNYzw6Ins0j2W43OjbPHkAEAl1PzrhvKjaaIDgAEmFK2qZiCFgoIBMERsITPfkbxBF9QE12+/a2IlBBTz3jMmAVxTHJMoTy0o9RalLKjt1AazdR0cRgziKYbIn7mOv18oc+0vjBv4RbI6+BmFOGrG7REQAAdlord1fbBiEN90jKiKrYauld2wj7ho/9IhkvO5gAFEYFd/GvJ2w9896uv0eaUkATp/B3h/1IBQMAZJruuvD675Ob9WaoVPjUCiAAP4YKfpUAR0VxqyjqeKerFp6AOAASQUrO46Go0HAlMAmCgRFAjEpHfhyzdOoW6mr90WfHa5hes0IUWsNsmcYg4qvVoFJKxDwae5EXj4QFAXseiQFMXmMP5dE5aH2qb+SmgrT7KgJqTsNvUUH2SgQiLV8p3XaTeQDUzW4hr0/u6N1Sdvj9v//e6+fX7O2YAAEEFyVG++Gvvi+bHWI4u0Hf+luAU9duP7ZFOU5ThBEQk1Ebm1MGhmkl4UEvKBjyaSLUz+yaWVjABViAAEZb32ItNdt7mFVMF76+fHv7PY+QAOASgUrapoCpGEYlGIoEgQEIUCoXynJvjux5Oo2tfJ9PDV7cXYXtJ6ScmFSjKPB1UwX+bKYg6l7o8gJjOgRDB7INToVNdC+U2/TGpoPkmFsY3nY8vARI0n8JZxKe9avn3/PHr3shATkbGh0t7fR55bJhc4xiLl3VO6AAAI0LNeuJl7P9/L7/Ru4Ibq+jelZAEo38iwZjFnANwGApNVPZ3MJEBihBLNbEtrucQj4wJ58OyuO4uhTwfxfvEIr0kmpP333cPH5doAOAEoFK1wRCQFCMIRsFAgEgsJQgIRn8aG5kzjo6Te06bx9PHDb2QFJojUCONThZdMq5Y+1paCWaGjyykO44aALjmqeldAIF3c05pE2vHjwCXCzljPwTfREl/S5ZOMQNQYA+gnFFcHRsmqIeGjwk1A9SaacfR4FuX8P4gACdODujz1WbeklVPbR213CsFpbbWRY56Gzj1/BmKAytF+mB0+o5lmFiJBiXrv8zg+FzU8K0iwEnLvT+Gipb3/yy+8DgEoFK2sWBqNhGOAmNhgIRu8ZjG04a1o2STMfDtrVNWBTiMj+hozaOC9JDGsu7NRAGe9NGlG6lPlufNaqeUqMcJoFJArc99MrMHMGCYUBT6nGpKTRumFRs/iCN/GFc73x8u3HHAYwCiCBvPExfxJr1d4zb+5ce3Rl0QAA87xKWNM5ZquKUEGCq3FT4vUf0H4OFVQBXelrIN3KFE9Zz59/ZIb2je1WG97RkteMDL64ZyIDCAiQgLymtur5P4yncHAAS4UrayhDAhGwTGwwGIj1I8UWtw4K3NXfo9nc6HkDF5yo4eahxHJ7KdLr/USYFDJM1NNcb8BFlmQjGD3TQoDHg5XBBDQAPOpJvkgyEHZkoWKOwmmW0ziBNDRweaCJACphIgBTZZS/iJN8CxuRIKSD4oQAAG/sRE49vb1eqWWqSnPV9GjXr8oANjB/U9IOuiQMLpUERJh4dt2fYtCaVs8J6BKgmElZe2mUnQ2YYCf1Pf683m98QOAASYUrNR1cIkCI2CQhCAhEfsTMyypo60yLdntm3lh1wHp+15XeEzgUZRjhLOcHkDw7ZTniE0qINf8yLPoMmQABgdo2AzEMnPKPlrXZ3/yxOPPJutszu8l7yAWkXqmPX+DPLWJzTt7ITYAABWU+hGwx+Z6eN00iAADF1iboisBFhhMZX7+JD6F3O+/h9oWH+++xhUzAAbrs0AcATAUrJSWSQoEIlGASCwUGJDtubeNQk+ECdPT4d10yaXLAxyR+Ow98nZv6jIRNfzVqTjHDDEP7WbLagKGtes1O/JUVap0tIY1ERALVwqCDAy8+2Ouebju2k2FKIojJQaF22hShZ5AMAam8FRacpGOa+2MJlOC6AABKZxrnW99udaene/6ZiGHV8p4zVNUKUEIr9kA/myMDKVt0d2v8ZSzdoU/faMs3u0ac4qNYvseRjOwPoO7uAaPoBIYv88cHniBwAEsFKy0hDQJSgJhiJhmVzyo7Do8gPLv49SSVDVga8Ifyl6oI9vYY3XR3NfIAoqZcStmrjMoFlPb9WUC2Md4HdZvl8K6OhHcEviYrBqWHQvTmkghrefgxiZRU4M5yFxLVTMdf6f6cP2/Y8vrGaCAoUuQCydVjTsc8FVTlWLkoDSMpzUgQABwokB2PJhgbCwyWvCAx1/PTz62KuQGOm3tkU8TrrzOmZVrvYtEm55uhYUQAMWvgiXt0+2uZZf4cuyBwAEyFKIENhENgqEBMJAiJBgIRvWLjZZ5GpN8NX48941Odcbgc83WDso4JL06wn9zhmaakcNk2BOoqpKWrwRzHEVhSLCIYDrAHr9OXM93aacM98qYKA+DoPr+jgp5gGotJw3W/v3+X3Rq+fPQAILony77myrbveLaO+TfbdbFzpWaVP+3pvnTnAC5pj/js6ed+mF/1UHvjcLR5M8s7i+INDVawYsN5fHl8J2DvawDgAEsFKGoQAsUQsFAgJBKEBGIBmN3tWptbRwvQOPnzyvd4CFXRX2zVHNMKc1DFpVVUOSyNhR8k2x1talrl0fipQKazBQWvCQiOnwKR8JFeYEAnEzamafvoNgb+JlGiGVv8fz5MBYkEOu7goLFPS+egvzUsJMPRVjv93z7WReMYwNLovDvfov/K4fddFgAXxau1r//9smXEAHAATAUoKyEMw4CgzEwjHASII0zidsVpdunRsE0zlw21nPIQNZ/w2w8r/3AmA/CqMduGhsCfWSFLbxoSrSr1PrltNQM1kgI7xRpnrNybtpqJYBxQIMkU3pph0P55mu5CiuONg/Solqy6/OUHOk1L2QBUGjPaYRLMKh1jish0yaB30u+PQgIABKDPOLnDAQ5MDbc4P0fhjv9/VftY6rEyHDAITng6VajUHMsQddHh9ufUDydsIADgAEwFKDMdDMJEiNhCJAiMWctM6yLt8OVGkYFb0xYgbmwwu3EeYaXTNDfoxs0kJ+/grNcDW9a3GP2dnGxTkxQ878JdXZLZMgGUXeo4+38UFaq2Kxxtj4OiSxcKVgjDxAVbRdTjLr3nciq2SfWvGgAJ+QoGiePs+GWAqkNqmFyrf0fb0KlRuZL3VR2v14uAV4DDk7ijqZgBT4QN8Z/Mn/dNDZHk80ArcAA4AEmFKGsRSIVgkRAkQSuzJerE30IjRWjAtQBKfuuDI86cneerQR4xStdnIjWmO8Ihiy01Io6C7mzPp6cKmqkHmFTYnG8yev+3fGsv6ZfM3cZ6F+C6ZltOMXKrA+9YnFPN6vCbFGMzYDdRF1SIsZ5dKse2XaQtMwAWmMEsyzbtAP8kuCK2CNer/r38D7fslFfwFy++gfHx8W2i6UCLH5vE792LCU2p5CXiAA4ASgUqayEMI0CwSDAQCQQCgRG9ZbUp5A1aEtkgnersAvYaL9p3WxGdDbpmqMYeiAEMvicMN2hVhIL0hQPpAPPcwkiW4Vg5kWIq7ghkJXVGN11vf15GJ8s0q/eqLeRH1mkACmSVdqYrQSowL8gajkxv7aBr+anZw42/Fa2A+TfD3pGS7Mq3uSxn4+FVvwJaKr2WH/UdsL9CJoBXZi54FKMK/sXlesF67IvtJqubgK8k+2hguAHASZUrHSGGhmERFCRICwjO+cx5dLCkeyoDRG5XEmwfxPqmISYKhCw8tFMBJZJWsaGGAi9W//l8FPLh8r9ur00ImShUBDA/eRu7pkPtKdpVy/EmDTMwEIgXrAWcjQoJh7UCa4h2+5buncqOydtHp7OGrRU4FhhLBHCsy/u1P8lufcdJTiQ2vfum0p4XNANIhkUxl4ZTQVePOTgSEAoyAGX7Dr6nldK1Es0RpRaNPzvK5fVAL1AAHABIpluzFMwSNoDaZwUYpzaaImKGC5PPxc/P7/n26/6L9mVTnj7/04Zlt/cIdfgIB4UNDsnHsNq1Y96NMAijOvHjV7BxNDEmjLu8fK+vLAo1Pb8PhhFO9mA68DDC8IpzSGxNiZgEZlmls/vneGjJ4VERJi2ZFEKQyQJDugQqNVhI4LDwgW0j9CUVfzyHEZ9TxTsGjCDVG+ZwtUMcP8b6dPZ8/1LUxt6qtV8VgqQn2+K3v4f+08tgNsSD/P///dBO8h5IAiHSaIOpFJap5AxrIOM571RmzgTvDQI6WReoEKxUoZSRYw98rv1Vl+HcJuelWiKdlYXi3m7yespEj9fJciQ/urYbyIiAFDMALuz63zAvkwBiBwBLNStcKYaEYKCFACP6/HEYSeXIQmZBkxNGA5fTcmiItgfrHVmqDfj7QVgbXa6UVDfZoosksAx3SHBO8NS5fTXAxkEjkUE3SwzIYURlAPCc6FxWJhH8vOmJpxUSdpEOKxHfR6V7OHTvDF3BsIN5D/6pT0nxr3LxzlGvQLB2bXd1iltQ5Iktlx1eW+dd/9TZR1Op1AoNniaFAZVIgu3qAnhip4Nc4Z5VwL6t9efLdHq0+N1Me/XNOBwATxUrFSYKhmCQhGwTSAhCd6q6vUjy7i038OQ1zZN3WvZb5pCDwFBIwpzBCeJY05VZajPcAqQQFaFAJM5annGF0tT4HHQqmdFRqWKEcJ6nQ51ttc7h+tHVXXcHjwYelhw24zFoJZTNT/TL4SOz7ZMFQBQkNgIn7c58OCS81CgIK3m2qBjF+Rp0m0d6TwberuAAnwY4AA1+yBz9dwcASaZ/sslhEWBdNdLqs+ASWW8SKxNBJLJBIoNBCRXvkiNFIEhOj0iE/vOsPqFT6mbLne0KfYnmo3aKaHSlnCJKKetxahIVcRrKolezPtV3pjjusKTeJnvmCbTMRWbYBUXKbTVjXRSosu+eVEKatJfUs4dBBY8iSIvI5rIcoNME4sUVS0WwkLQKkdUMqqBQXcBKpj240GWYS0ShUmaLNKyMuvj67Nr4z/XitXWXOrv++V+MyX9B61RAAeAZWHGpo9eQT8h5xYuZVel7nVpyhJ523rzoH6nQPWob9daOyo15pni8UtbZlIaDwsB8L/G9mE3N+0TLfVj1XNbhVaXOP4XEdBPXa6ucbxeMRcPhA0YGEZvKGKkjcfHWDuBEIgo3+VLuMTLFN0wGXtvs30/P3fT8+3nHxm4m8oLzJE5k/2UAESA5cD0b4XhawoS6MT9sK3d2HHMCT13qnwf39pfFiwvNHtnNzaa9ivuqvi9FALGIhWI7o4BPNSs7korEQUDILBALCMSDEyYC6FpCOmO+NYdY3K0A08X/0/RZObKVqjdoZ5zQIy+geTHFq2sOJK6CCZXQzKxf148bAff06DvrU0ESHqgAUG6/bZgXfljyBzY04Ml0zW/kWBFqnCiUQtagOVLsKgiRZ1adKyjpWfKN2xZ1qASQAAgATkO5oYrWle//k3Ty0SgpRFtz3eoAAwanII7rh74PD/Z/T18XhjTQEp7QGd0h+EAAJ6QSjCQAHABMBSs8JUcBQTBILBM6lEh73baMk2L8t+W7w42mgyAQoE1cL3uBnqkqlNinDaEadPIxTGgrjjTxjKBmuceMJUnsDLP4oygdoyJXrspmyxmAUZZ9I/3EnMgeDi7SMn7wB9s7bZ8++1qnpxXjbX6n//XvZ9OACcpT3T7n//o//mdK8ZeGrv4gAE1vd9uqqJWbISr6r33z1SbikWbhV1MAAAumNcmKKAH7JlleHbqAA4BJhSs7koqGYaENj3w5oey2HQspencWhtOFysySiQSBzJyoK0TvovV9BC1S3nrsfikxrSV7Z+K4OQKDVLiiRVHcdBVhYOsuTbmmNGVXtLlvyBDmvmtYhrkDoyDqFPDnjL9kcAcoYBZqWd3NvhmBtb58MoWBb4kVtj3uXQweA7cDYV19nroQGzqgAGjur4epc2gl6dHlR6+1ox58eCDOwbO731O9zI9JbABlAXsTTaG/A4BLBSs8JRBFEZJYzTl9Cg6LwLjJaEAIBpIwIWy0eibw2iI6qpioi1IrCnoyQI8SjpvnUFyxAEmFDInCYPqIrBBpKqCnfH4tomopuFYyZN9UQ6KqgNUSfvJVzuesDkXQ08mJp7kEzus+TX5y7u8rdKBza/RkFy7falghTfO/0N8wbyaKzEsifM0QCLJjH3Tbv83zc/Nmhbhb0Zs4Xkdcd5t0wyZ5nX90zuVuEAAcAEsVKzwtRIUkCYBG+oIiB5BllkQgBa1GfiO0nmB+2/4GLoytcC2msIx6uU8qHoqCQXEUGc4nadtKJ02tfC1bGMdgIVkudqkO5XnjgGJubYuwf74oXTmZcrm1GuQV0avzYtDmzQF8zGdbdjEpJCXsk2ZSaWtBwBVlGjduNgiZj2H0BKTPtMrbFwQ+F6XbxV6q47cUL9axq9qMqFBW2CBZwEkmTaLcCwNcsxLNFBaSoTdGXXHULy5/TiJ5Drv+gju/wfH7T3Zl3wF17kIAH+vCnF4+BOTlnvxfGrddVST7/DgChTDE0j5gpFA4MoAlVq1yg4GuLbh/go/K9yeqVRVrvb+SembvSuuPwYPue2Q3U+NTrbKS+Wo4WxwMc+yuxdwu8svZddnayMdC2yPO21GXs8lcJhoEKBV0LnuyQUGEdJbAWBAxgC2M7pBGpIoQkTIl3/kA1Axcndvl0zuv7GGARlhx55fd/S+v8f8XnOAVG0H///+n/RAl2kmWtGMROAggsSWPT0Wt7Je+ibOL/PbEUCsn1k8vqoZ77k22q6Qw2lEwznLlF9dsBISu5Sfx4n9GOABLNSpaCokDYqCYSCEKFEhsEt4iWq3Nd8zGi2hQBKXqXKC0qr2daqnVjZiyLQUGmY85iqjvVTerSkjoVfExnvlPRKN/BlUNjSwMNhMswxKJTlRBXHy/FCc2YfcmETeZX1WS9vSgmGYAOitcNVZq5yTWqaih2rR1uNx2++wrsGHuRgsmEDzRXhwrv00gfyObRHRhh1kcvmvOd4UbKvVaJqFXr55jqIECQ2XHIgG6BWUMHmAR2+kEsB4pFmCLLVqZRbmkXedb36Ry9vhs9nq4MuWXx1J8gOAATAUoYyoChxWG6evhIeOXtDbwjLXBcY6Ce5vRpqS6uJMI2XAYGNO3wlkTfrb1ryRWjinIedzWJuHfWgkUJ4T8gZzBjZltuAe/8rjMjkCMyMj6YMOVpdqATyJ35TBUo2JwLhIRYxgKCitrdUjQlKyLoy3rdQ+qsLNA4KGO7yWw64FMP6Bl9yVlamvQJaR/HpuRIzWoy38lZBi1/RlnZlvBcExMwbgOAEyFKIIaAoMXhkyzNKzCy3Zu0vQac3BhgnMiO3470Go00siBGZlSLAZMx6KE89I0wsmZSajT4kzc1m7gztqhyzWT4V+d8tA3RPSOrZWmbsiomTLvNokBvjRlD9FF+tgH+fdgxlPRiT8SmKz3MUfM324zuYfVG5Ul4nw3JZBhvf+AsTHKKEBjtWHW6E3mhvieHmeQAGXqdQDgAEoFKzQpBsgiCNAiYzcolF7xvzNG2IDjBYCVvaJkxhBo8UnIyhnyeGNABiMNKopBgaWQk4aKRSAEr6bdtpcXczYpk9H/qqNX1Wg0P3dL/N5qGcjVBMsRGt5nSFOkRQhFpJWZjreRwNhBiFsWcqZ5DQnwEjzWA5lBurJ78sx3dHPCOnl45nSYAkAB+Pnt74+LBpHDipU9uzbnp3MvbKkl4xnQMBScQK3hDP0q06EQDgBMBSs7JQbCELBQzBMSBEKBMzlLTEyYR1al8pZgAoChzFeV4aIJJ73y6/WqYoqMbvXLT2fZkyxFChgWnjh1cuy6TsnaobJ9LEbdlbJuqzyrWkMSD2smjCu727OYoVjw2t2EwaVd1MtiKKEoNo98FNGpDqd4LaEFtydrcqafLnwMzGUcwr9TqABpvpBDhGTqhdKDPHtugF7jU2fDibRsu29dkMCIAASRZ/l6ABwASoUrPCGShWCZkCAhEzxrlNEiqdBAs2iqmvFhAtt204/lxqjg6EJQJ3yB7sT64ESEJZJmItIacgo9Xd/ZmCqOIIx7ZUGJUMwcAYDn50R5ZGCgnJUABIgB3bXXw7pjUhiL29d03rW+UVgTGkxk8+L2NKiJqyeGNyRZAha19QthqUxoi29ukbYADT4rfB2nnWLdYd6JW59dDPo4m1rYYwFl3StUv0JpLXCWAAOASoUrNCkMxEIZwEInOUtpBezgw3LkbkCwJnYiuk3AnhP1Bfyj2xbzoZxjyWJKSRSlRoArmhEEdEE/ciS2kYc8vtImHyDNeVPuRLyM60DLmCr1LGPMCIAgoixFUrUcFUyB7jkhSQyVvWSuczgqYu4e7rgJ8vh1vt0PmWnNmyGARkFs2fT6zZ176CWHqLSNGn9c6VFfXAEzlcd1c0YvywgBwEuFKzQmgsagsdAmpRNbI1bZDleycO7itMXgDsKv6hWaVRS5mcQretInEpbNWM8OgjAqiyA6UKS301T7NhJLZc7ZFAWKKAhC5jBAWUMMea6mqQQZYgouLJzhM4sLreZHQsctDiUHVnEiwqHFs7Yc6raa1AZYmRByi+Ug3zxR0umqm39RuopOBBv42WdmGSiauTXE0WZrYulk4/58wQpSTKGNBoZOXp/xdafP03OyYCCLeYL4+Gjp9tPPuMiWzM4qpgBkvQMWA3FEgDgASwUrHDWHRCCxKFA2MomZXSjRGbdYxz3pJZoiRuBm+4pXBZeadBfty38cg5gyTrdYRm/EEYAJpoEXmC7JAQxQ7GwIXNAOwdFkT1GKSFIEDpKnbqw+KzKaTw55pYyVqLYMDudgaEmvNAi5mKEh4q2bc87Jwvk5LEZT5JC0LypvqcZlTatnL4tLeoRHCITWTzW9NCVxRIpnYAselzu1wj9b12+eEaWwGYndtEFYnDSrI8yDIwqyy3lrsMQIxmq7i5fIgmVbeWkTCWxY213XVD/97/LEKvQqtnjhM8/Ydc909SWZ3yjAqOctLoGVl1OkMrOHVnKivMU/UCHy2JG1VX57BdidrbjgGhTORCZVlu6qaXmdcGzTSmoABwBKhSscOQVBYaGYKBJJhMbmoFMGT0o2KizhEgQnZ6yGPiTiTsnxLJt5a4s3ApB+Coa5aqb9yto5MtbYwOcJ+PxIPKApOlA5Nap5+4Yh990k9ROJtiev9f/Oa3A6pjE6rvxFUJrTX9QMSVehMlMS2eNKxD7+L4wrjdBS1pTemYsLEClwmldwOjeH/DMzNmIKJQODITgUzzXya7mxwE6gJwDAMZPsekn7aq4uRA+BWTu1oNgpPgJQkbqVBvbLr+DwAcBJhSssLcjDRAqOxwKKxyre5DBtNFqqwMe3bWr5CAyJHjxlRDJuYToPBk4edGiYpwoJwtkhjwrMMXj/W8zIRdxYz1PA6zusHVaNjEQIQFm1kLU0SEkX7z40/gMmFRPUsreYxyEm+b1giwjG9SSAVv+vkvP0H2iMN54AwBRPTtggRUcytYFOWDF31X4509FGjfkjFX6jlDL6JvnSvnUEVlrjOAIqaoFwHABKhSpjKRIBQQnQhlBzMjPGARuvKzAHSqe4X3wyApVp6le2rSW5cFHCBJ15baqK1fWuaOY0qQLXd3yjxkI1gymd6nl67eNb5dizA4IBU50A5XD9cIP5PaQHZPkMPgzhM7vsDeQuU866JpShttn0gkZNFPRu7/s9MdLdu5CbZHykuhuKrvMUeUtk6wexWRWw3SuxWv26wt8rqXpVHAMMUoFBsfwtxyxAcABLhSo7IgKCgTDRAjQYkLLHczJHrp3RgVvVnBhoOg6HqXZXWmqRbt2oYttrp5uRnLbPbWMMAiRDNUBmsXNaHYUS2kTPiawTqJtVLxazzgBmduGvrWIDaFBtAGFNPber1cvRlo+bJVKH8XnOuLQqXUehXoUAbMvIOq9pVDcuS3eR7CzYsqauYS9wSrhSHgn+BVloiKYjVNwY5ztWqWpbvZLXBNup66ZOOILIJk1qYSvi1AcASgUrPCSHBEQKmNFVlqO2CgKrfDgrWIA6+OIy3h/+EEHIDFy5p5MAqnBijwOZJt00wVGL/uvCQyzAoac851nAtvDbsmj/r2gNcKU5+IlE79UIIXBcKfFgGyyIQkinGlaeEFxVKRcai1yZBatgtTtRRKsTHbLazrq/hel3K0kvFSZb6VwKLhGgrgDL1jHJDyfxeJXFsl74VCgGA8Pi8OX3DJLBIc4sIFIwsXAcAEyFKzS5hGdgoFRgISlYxwK6d4UhwaBHTAFOBTBtky0PwOyVzDXIJmFtpj8j3LJfeeRqTDpcMz7Z0XGyy7b6zRHLhcXzQyFdl2vS6KXndiEGxQKahZQQ5d/hJ1WNkrTSdbh6VfXo3TdWi67cjXlhum0cE32Fq1AmxDZQoUWeSaASEmb41GqpKXMtjWhg2pQLgtl1ffmi/OApFr49rADgAE0FKzOeBMSAsNRIRgoNRAIyNwxodTY3xhwtdu6ap5pYZGiAoEEozcBQ8pjxTGYr4nCHYerqM5z0WSRRA4d353g8Au5WQ5nyNEBcHFW8XOGYQ/1oYAXzE4xPIgDGJsZWuyrh8/Lt7W1rcVStimENU6DnInzDVTAFWBSI1+thBs2M+F9dZccFLCpODXbrMtaFE9ju751SPhaCh2QdoHsybJjjPs5Iqsw0uQA2j5TrP/v/EwvSei8rVxIWfUq9EjzeUBwATQUrVCGIR0EZAEJE28+nsWUA0WWpCuCwyXq4vfUaLQ7Rv/13EThZ0cxtAF13WuehqJxaJ1mUIoCc3uTQ7VA7Jlyqqku1nHNmZ3GwkitmAABt2GeNwPfB7Fa0LJ+Chm+HpFn4BHOhFIBAMQDgxvVb7XchLJX+V0L/C6fOkcpyjl4tmxcQYs21zdX+azbe9/J+5eUaQAtjxRABiQsAOABKhSpbMQRIEwCPXmzggblgQhNGosL4hYywter0OWo7h0ZEBkFgIc5Au/qgTSpaS1ufgrv33/RzJ1Mga/U1AigvTX+YzTCgJjpAGwO5AZ9TiRkCUb+d6l3OyugwGHmMZZ9pTNHLERHJKohEHlDqNz1NKN8GLxTZ5XZWSmc3ItZyHCAGSKxHlWyB1vwlqhkBKBb6zyxhWkYChwBJhSokLQjDI6CEaFEQM64KwYuABLWtaUBRqeTWXmucyAYNnHrS8JV/jbp7+HYwlgVCqMiSozgAJoIQnO6tj5lYbr8JX3wN0NODA4pbY4oqPCy/EDLL3xJuw5OkmO2pXcqES/NUlv2aHgQSeIO1gpR0AxgAMltDq2VaeedRDbMX0G0WhcYowfuKfF47RF8QQcLSI+P5ZCKmItuu+UbaB3b+YD8B+3n/RGg/LQDgAEkFK2QpBMMjoQhCEwPbLX2ImWySVhwLLAVFejU77xzAICUh5C1ilZ8zQ703IY3aIXn/P/3vR7/fN3jbglQCLRNDST38iZBMebFcVD9RMGaYTLKoTCJc8c+w4DJRj0G6t+ry256zEtg+YsI78Fkv0wNuW3o0/l2Bh34lCP9OmUMgGFy+SdcFPObHz0Y7fUIw6cPF9intvkMF8mEhSwFYuEJwA0seS1PGRQx5zMD2ZiyDso68o/og+pIWunFg5CkmRhZZ4djGTwOtRxDjVlkqv/bqBwBJBStdNcMCQ7BIoBeDVALKIcObolwukFyk6eXnhAgoW5HVIadckOKMUcXaGOJ52z+PFM8fkN06igmEDNPtVxWwpbjIn12qZc9KscWpTr1Bo1UZ8JLOvxYrgRcJkZD95P6GXr/PrQm+aUa6Orux3uMX2ZROGIxKbcpW5ksQ4J0wJ1QiY+Ny09CRSH/2DediNITc9PBEfgmDYcL0fQhVOZAzkFSxrvttCD3wnqtbI0jrsdiIaT88DHYqe+Q8xgk6epY28VOIJ1GjC9ghLeeDt75Zxc5bS7I1XYxxc4TTF0YWw++gJYpWSwDNHvBk0LUd9Y4AToUoVYYIwxDBFFAkGIkKIUEIXsXOflCzlra5qxZJeRpax1JDed9G/BFmNyMbxfpEfyRR/m/B2Q1jkprLl0tPY6NifHZqTMsiMwO790bpUP+qZq6EdEUh0Z6GcjpaikswRkxjTThFnj2DeeH1/f4buBi4DuyanyvzXbxcfV5N9fiuZUaSBEgv6l85+7Vspb3JGEru+NoIEp6vBHMuS/YTS6j7ZHnvDsjXqvFnwd6bcooiB8a641bLlnYOwzxeEl7aE86NaKm9OQLMLZG+wcJs6HV2IxFm/P4aAcBPhSsdKYajgYjYJvfRb7KlEGgrQvhEwlAOO+LFaSEGgCZ4vF7kMoZS0JhmBYxKpuY65vGHdFCqMLGsCmxYrZnc55UUTW/uw3S1N0repJmyRNCGg29L1tF5znu+0cCKuTUBcsM/D7y1/4C+i/5rtYodF8LDQW6T2delCeb+l/Ff/qtbrorCl1VwtHadV/S6vS2a5Row3vK5uDHAMnQOh7nQ3Pa6MmzmF2EACnBmwTADgFCFKz0ZCwJCQJCCJBqEBCMb+6eHMuNaavtnwO/bQYbAq93SGw7iaSiyrnkF6mz/hiVNT/VskqeB4+MmxG8G0gjg5SQO9ze96iQDu0AwKaO/MY3M2IERf+zyqEWUeZi9kfYXnmZV9O+ABnGONEmHsTbKhUqZ0Vcxd3VWhiprcXLMkdecSLmtlYVWq8hqeNm/TBSYe+qngm9m8WsKkfA0WxeUuJM3lAitdHj0enPDp0JYdO/qgnNEAcBRBStjEQbBQkCEzBILCAKDEK0TlQdPgeF/BunnjLYEBSZonJLojo0Dso8Knp9wgoSKUfwz2j5aHPWfFFsj4uAG72Zk5J1kI5sMawCwGWzvxggUB1T08b8DcCGxasohgDMsQ1RsAFGMNhre6WdFYZQ49QAMEg65/ytHb5e8JaDtDF56YAGgIc7EU0S142bZlzsNInyC6CGda5UIbwVDVnb/lHfP2YaZ0ELcLXsNkK+lmUToKSYGqlrnNsc0GMAHAE2FK2MIhsURQJQgEhqJBMEAoFgmIwfIjq3HWsxDrl7GRjhlijlY9OhaFIIj6nj8pO0voEFgPJ5noqIPMd5rjUC3v7OkCETEc0+Dz2U4OzoYx++yN7WRP7OLVnXl5c50B7z3AFDRWQrkpyrdygSmmh2xCFlK93hvhEgKXHNg80HZWCzxCXOaP+yyRJSSAFCnekj3dUfucR886TweK82OcSEzK77zYiDqx5S9OBghgBp1AjrFfydfN4hQnPVMkq3psS4fC6DuIanQMmAHAE2FK1odiCKBKEAkRQoJggEgsIwlVne1Rrry4TWyTWb9g5q9ED2M08Vdmr4BYgVYqB20eEpQ6AX3Gprkwk7tfIu/q0QXlLP5Pa7r5UbkTMkW4VRN68zwls02RfXUwIB1AGYCwoDhXLMVJnsrCSApDV/T077AAdq/ebPVKAqUNzBPNlbX3LA76DCJNbQzkVeO72cg84WDMEgJ/rSPmhNYMoXd6fN5sZxFCKEB9KvvMpdZABgZ4wTqZHSZOzCXm0BecFm34//+4DgATwUrNBkOwxFAlCAVGgmIIiCITFYJPM6ebOR5nbUvGU1jQCjJ5NAtj4zsMxBrkQyuuZ1PhBl6qugIuYoj0j6/1U/94/8mS7WXuMoeVrM79vV9sNSRfZjscTRA5caAhgRMUUV42qpbLLzA3GUcXl07giQlWJxJdCUQJGAasxcwhnh8facDXUp6kuygdKV4gXoZPGaUkDbM3o6b7fxMRc7IxgjN6p3AnpI0AnkdwY579s9RzCgOAEMC+6AMk7gz6DfHw7diAcBKBStaIYSDUZEQgmd+CZZp1p5TIdHLrIyYIgH2UJrpj+DpTkpfCuJL1yIF6E8s6C45FbrYB2RykuI/DSfVN8Ru0kWFKMiSZeXaIvIgoJexreI69egJuINIvWuz3+rskvHd2dsmO//WokoXN+OmiaZFzVD6REjovWQXrOYXMw57tqCXd145E6Nlx8GpIRTnXS86mF0YmjWaFnDg8gy9YU/iiCeGwAFIwAA4AEiFKxQlloMmCIBPHZcUW8uhZZu0LFlh4TIa5b05HSzDpfuMQJgg9V6Xgjmsy0ZBMjVUqaWgzO6hd9sRPKM0FAAxBM6YbwtpeQXV7BVwImJqX8HDTWerEnFvswobEibn+HEIB7wDi+i9CgnFY7TgM0gMUHDML27QqsoTVjt8FR+348/T9MfTZ9WBRjwKLR7AFwEKTrJRHUYqonH4Rr1OHABKBSsUJZSFIzCEoCKyG6PJxIsxwCQEsGJRcZBCfaZw9K+9rMQZ5pZKeuMU1Re80+RZ4GQtI+emu7RhNdJNRw9k8nPZWqqSWsldMrDTQcFb4jNuaqmZDJTYDJLT47UFaA9IM5Ui7THW9z9uCkZWHzvaiqAoNEDH1VRiqXnwOTQWbmkF4gQIUIJhbeKWVFTL2ShnK4MKoGuVdR8s/BFfOYjRTWvX0z6cKac+68+37ouATIUrMy0QwSOwTKAkg2xOOjUQaC8mKS4oGH4RP0GzGKsDtUHE0TVxeN3WG+6SlY3UitDtg6zPSzE4H4MNddbhPfNGjltdH+f/jkjkN6rLmOzgyUQPLOp8KroBsnjmBTKPkmYBeYUnatYk5hKAvJTi3Fvd3i1fZRdGQABGPGdQCVaYM4y7KroUQNVHmbEbRaFkqQG82Pvz+R/TeJ0DAAHBtc2o4ABJBStqGgajoIjgQiYcBEQCZ9khR9x0IrgnfA5kQBMpp60reOoTYveRb18hwgVOB9xsQ70aWgnimM2oc/wZha4eJ34gRb/nZhtJh9HI/YFTJ5maZrCWTHEkTPLEB13cb0u01MZp1RE+uMVNkWeTf2exf1NOvJLPAjbRovPwIF/l+dOewHZ07E7kokLkmDQUFOYqLi9cVEgKSBhfMDi+bNOUPU8eHkpXLTON/bkmPkhJqyCmogOCKl3gxSNqiCgACaxMQBkcBKtTq9eaW238QCDN9/lZwEsFK3sShMJBQExUJggFCMERAJ72yZ4X1Pucaow0w1zvW4bgcruYfq/FKbT7qA8hfGu3wngbaATGFjstvtlCrUxB95YAJwQdrvyjF6bNA3RGXemzLq38RckBAKcVA8HUcY8VONn2k0G7Y+udrCZ2KdWF1qpcU3n5tsidYHrNjn6Oog/0ELgC70jq//17ohwiOUQ7e49nM4DlgruPk3ptKMBHjjqiwRmVaSbwukCCBBHlgIPbecAu35gQN8jmf05mNVcA/Rn6jVK1+QGN3d4Mhsn7sEwkMjNABZo+cJOASoUrapWKowCoYCZEEIQEQhC377hl7dWnXU1zCw+eGsOKAYItj2I2zDegSgjpkEDnAz32+4SkaYYImsrpziwp2e4nXEycZit1GvYcAUjE+KWVXNr6kLdpNZYc4crRhEgkuUgz2Xi5Jiuv0de//NVjtUXdp1crr28hEPiqcuCs2/C3rXLtOj4O2y8NeB5zPW197GgAAphrWHYAXmMRtDSxVQvtZDEuG4xYPOfiF41SYLYpkwOASQUrSzhIgYCgjIRBE8eGVfLdzTp8DFzrmU9XBwNwHkMLJR2OJnifKIzBMJR//udFvs5C6kfewrIQ/PmgYBYQgzqLQ0tMZCiwEEKq3d1TdUtVrwCGjQwBaVaiglIPXCX0/2woGhCsuNNjnt84YjcrAkpEqXOxdI1j4tJ6y3eaTl5bdBU1s1Tj0NXa5gUAwelw2kckcIBAps/pSR+1wMDeBSUMsPLV0/bsj1Yil749ua4+4DgASQUrRB0OpmCgRGgSKIn5lOYw0nw1GSGsm21zoZmaDokRyyoG/Jv0qUSllxjovY834q1NkOJjCSmmhkFAuyTBzjieQs+WqKkzFb1wuXwUUn+KuJBSh39/b6Iq5xsCbuozabVlokDFqN4n5KRiSJzixMEwUb9Q8/hzl/nR1BZN7mIPgtEGy/HWAAr9aGmjoSjzsmbSwTVrWx/PC3nhQHaVc39+qaXJj9XQzMnRXur79G4DJ9sIOABMBSsrJgRDYilYRrdnMFifSeY2BU7mljjMBSbsI9NOD/wlcMb2c/8+lBfkarkWbYB0AVqpBinfeHKmGUoFX/+XNH/TKreNdcLLskp6mHlM5GMn3omSrUdNQLhgZslE5ibwVBdJW3rfLh8yAuAhIxW+/L+fb4dT4DZcULOAIkMCf7zxNEAdCAA1+xEOaBt4+n78ABPqOodLYdTptAcrm5QABwBKBStMHEkBYSCc4nATxgiKXc0dNrGqeJp1nLyCJQebWZNVHpVEXXvvER+ejQSPoMIlLmOXhU43NOLkkAk3jyM14I24d9Pi4W1r3BKCEBVtDGAwdj4YaXDd2d9YClTKkY2AClzcmnlfU6RJIzCss64fE73X+d13RwtRysKwgxNSZjbhMJmkAAJioAApHnd1/P/cSmJi/h+f+gQALertoLoHyl9uNeAASgUrW6YCh4CggEYwGInjMu5DINH1na5cie9+2NWBDuRceFFRRgvKxv+xRVUohmJvhjRDWbGcnbPk1Yd0fPXu9Xe7gFQAqKLMctAjQUCZJHOF4PZFxnVR/kz4W8mqoyKaAGwUt7kDuVE0ZE7544mG5bjLZls2vkXOJ/Tv+85rjRAfbVaZJtPnm8hOX0blYFwrwy/2G92V0wBcHABLBStDJUcBQoiYRrYM26jM56dPLtq13jmHWSKvQZD6wyqNAy7epAeA70FMbYAumK/rI/6E9eR6/9nCuC8mwjoJIzUhJE0rc1i4rzQ6E/HfBzwHd73Cfuk29fGzSI6lvyVFfotkvrovoVup9Pz7QQADogGJfvnqTz4twtn/PXdEGPOz8PTrfZ8Da1seAAABfh/purAN903oYhSKcpgTgSAIgN2A4ABNhSszKIcCM8CUICFC4UhvLtHwYSLTl0us6AYOeJHE/S4BMgDqh07G7/nxlLyTmfCDRVPRm+3qur11V6qLeVL9bNd8CQsB8AGOUDI4/m31/3v4/1TWzYP995v7rOFW+1R6RjuBKWqugOGMLhGgCuk14PvmLQSFdzHqAWU7INev93yM7nCy2QFN4BD/PkH274ZWNdwBk8IyOfg5AAHASwUrJDBGxRI4WCoQEKG8C7GYh9PF6y2rc17WbtYFYptn2b4eeM3PPSS/tWBWS+QlOiSu6wtqXEhJmqfOciBRiwkpL0RBYFz6vLuOf9noO8xg0EBULMZb06smVAAAOsCz864ZyuDCl62nii2Scq2t3c8y8K7JJtEo1Y195tv6f9MRGZgGAXTAnJbb0+sPxlKalNFNfriAQuHRABQBwEqFK1sURwJRkRhigBHhcZbEmQ+mxpfT0S9ABj9zWjcoZiuK346OJm73oYAzaXALAVsAPJD+8rVN8Xx/f0dUd3CEoGTF+YknqtOKkvV9lr4nTOunAjs9fp6eeM/ZxzICCtyddFPb3PVAgAh7J7y6tAQHQWiKxTlr1Z4w6aPdda3fdh7R8Ov5XaQhHAwYwZLATACvgJgJRxSt+5/nlEKfvaKvj6aKQAdeAEuFK2sQQsVQkRwsExoESAM/P0wuEN+Z13zNNHl4y5xuwIk563VfvFVaUdYoxynMjAGb9XiPbpmMYAbbM9CtjrcP/BMnb1yqyKLJmCgLkY3o4/fvMel2mWp2VkEAWmrqaarjw9ewW03YtnPX4cV9TAAB4phLvLmUthleUsOX8/ZqZT5jsTCvO5bsPsX7X0DVcUW7qAAX3rfcOjpZowAb+C8gHmup5/AOAEgFKiwhBQIx0FhKESMGAoEBKFBCIBvn9PqATF9Cgca1rvvylA2NpjHzpZ6LH0RkZ9kQZ0F84oMG7niZ4p7gknEOx25OsGNQyAXDdeJxfZCdhzBmvKjh1AJwq1Ec1NEvV99RIAbsvftjv+vOChJ/4E16GZipjf46n3HepeGkiUkQBsyAsv0/0nR9ubWY3U1j0W557/L5BzbvYCXAAAwrl9G+3WYf+MgovbKy+b7/fgBKBStyFgSEYSCgLBESHMJ+1zURAOHaHGnDnZwkJoJavo3dWcOBjjoOh4JTlMYZ7ZdgNuRSAyPG7AfaNdY4AfmLK47PDVZqSKKl83Q46+OwXjDY/vHCvkKdS3ewxCAhmwf1S0LI/Xvs3z93dTAiSyAYgkuee7yzab9/fQJghgAXaes/19gAldwaW9iBKU4aadxuFEmoPHTbsFtd1N0IEQSQhbb9wAOvhwm6gbKWaz/X8BBiNbbiIshFfOBTvXdy2OFd8qSPzAdYgPd4jCADSUWxD1P/P6zADgBLBStrIQbDETBQQBYQjQRhd53qqxob410c1V8XCVk63moAjWhIBxKWkFlF3DvRhKRXFoVIgRPe9yxBzvKjkOBIvNRSGffOAPwKAiyCDXxA1v2dINye5LtXLkujC0Yl6dWN1FQ7OR3zkOmCuQ7Eudv6l2jfgzOKre7wCgAQcXvHn5kuxGLLSM0tt+0Gw+/wjRlS9CHkFLGZWobqWeHSJDs4Oe3t+p3ZfifIoBXSXvzlDa7MuFJoDa+/+FCGHuJ+w2PMiY0yc1DGB3T/EPvABwBLBStDjsSlYaEYQiYKCESBMzseG8jQ8rOWuBI3CqcQD2WnULTBMxE5jHEOVRDRGW+1Rv+TziCwo0EGWfyrjo7/xorojJ0XhfKDv+eLIFb182195MB/j5YlCuaLq5N4O684paF0LsT0RLQUsr3oBQ8xArvuASUoSJRj2juevOSarBuKcv0cZslyvlc0FJWdVdprA6VjWPPF36XWx/Hvg8rfSAABVEK7aW1Xofbbf2e+teX9ZxwBwEuFK0IKxqaBmNgiNgmNBGZm4522jRfQE1lXc50mEoB1xKrFuXwRKMLEvZzwGDdsQEuREBpZkZx6aiUueX1iY8tyT1l30kuOUT3+CTy3oZ8wv90e4ROQqESrELtf7szMMBua+0yaRFGun83S6knD/G2OO8hQKAYAcdd+wVxlBkWPQvmthXg0fouW8b25tiKweAqN+pfzaQwNF6bzmK/n/+/8r+++7uwABEADoWSGxyexUxSA4ABIhStBCoiEYgjYQiYJjUYjYJheuT05JbR0FuAk5amU4gHpaVy4xllKFeJ0PBhxhS73e9srlIoDcSsMhQFxDBQNvfUOlzgsvirBuYARcAtLn2+186onPqv4WAcqW/v1iDDMxRfn+9MtV0+HVOpms8BAZwRCYAODXVe1D3LyZhTh9v9HwGT/uF6xXNlWABnF3vu+acX1YqsklK9HL5X5cY6JAAADcJ+bjdAysRBbl+b1n+IhBN9vhoDgAEqFK2qZiCJhAFCKQyszZ6VJg+hZoZ5zbTZaAYUwpbjl1wCBJ4t6iAPJPOwxYro4rHPItEX88jOcYP4uYvsgv2sazLaoRvGl3chyd/7+Tt69Omnrw76SkaDSJ11XmOqRc5c+ABbu6Z9R+yEuuuqVgMIIgYmd3wBnD0f8l8p00HoLzHhE3ujfCTF7XMpXwVqdQKAKbqbvfKYzexUiovurl4VHfvXVmbJAAKAAB3/Pf6fX2fS7gOAASgUrchWGQ4CgQCwkEAVGAhGfIegadQI1J303XGLwD7hkaI/P8qjCl9usIpazwQYQVv8SdRY1wOMtGg6caTwCMDyLgwEhLIR2L8ZqyHXbv7cDw7BmCl56gfUwaoAo6iADztPapy0WA0NllXm8fQaeq0+8kgCqgUQiqoRl1CO2+TChIRViC4aGT+eZxRhsr45uVdLT2t+/s+N6rdaDV9/tz0fV238c76tgCQAddOuEqAOAS4UrTBGUAUDATEg1KJXgZvGUj6sFvbfM4zGr3TiuQexkK+0RLJiNz8lPIgrby6qoLA9E4xh8Ip1P9EwQEIIBrrIu9jVzRxhWYINgvuCE09+i7YstMI0Vl3GZWKjkApV1P+8ssBkLHVt9ngJFW/1nm99OuzGgL5N4oQWgFcVhgFLZJPYYI5VqjIjGZFKsg3IAAVDOb+fr77+5vGpTLXXrr+VV30ym6oAAMu+IAAJ8gBwATIUrPBkNAUGYmEIkGIYCwjKdjv5Hnb215Ux062S9y7xviuAQiKG8/Dl4gsEHQtcjxUypA3DTgEqoycnx1dU4GKtgnw7MpMV1kdIXabkU6ON1NH1zEoR7jdnudzICKv1//2YCFwW7s5WflVi50sJiCHqAAQ5bnzOi+D2XQS9fHFb+kfQ11ZRVa/bJGBc5bhiGYygispWkpo9bStQTK46HHrwa8OzzSD8KqlQDEQACEbmwAC3Zf6b+y5/a+wA4AEkFKxUpjwJSQFAgJQoJSCV34nLfMqF37NB0tzw3euy1gPTqe3TlgfQe0kutO9LoGWxFsazRy1C5FoO4xHk5mRxcJAIYWnBAimgs1wGMpXTSg6XWdZrTLWBube6d7lr33cFXdxIBiJnOViMiQRU7nvFoI/038LfEvgbw8sfKyElwT/Mgh3X+kpig5sBUlW3TeUhchFzUWXXv6+fHnmfmqOmMBmM9fPpxXPutZWiAASU3YAAO2jfm90QOAEmFKxUdmISgqERoJRIISvXYzc5y3l9wrOuo7edqa3miwelsXqJJXNCuxGyoy/KnmW2+PrWd8EGvx1z6TYSedHEP3W4YO0RpCHgEMb2auvyfts4TWUK7pQyhFRjfJYbhY+fs1lxkF2FfmmpryjaNNwjb7e35BRcAKaaC7H840djOOmSYomIwCNdkqJJ3lUAADcZgzitca9SJPvcTivd+4SyatCdFu2+kUhODXz2dkQADb/TJ6ZRBwEqFKx0pjQJBGKAqERMJSMEQoExuyPmm5cvjqxvOtMx5pi9nACmknFJzBXQZIWxBPPoxU2tGsG/LjKVBKnEr8CQ5YgI0XIxu6bUsNowWWh5zN3t1tteOViydJNMSIbrA3k1ZIGDlQxRCEfCGdFMzNHqfP4eCv6vT0eiYCKuAa1L+4QMOrsK8VKIUAiAlHDYtOla9Dm8Yqc66+U4NllGgAKlYvGvh8fj6b9fdvukVhjPTNlLra2CyoUIagN5s9mzVBGoIy9FraTAA9K7D6GBwAEyFKxwpDMMx0ExsJRoFgoIAqImKdsp8J0YNajw8tmubtLCFl1Ifafd0UdArUsk/Lb3syrNxhVnAoXwyrQrtht6k2ZnULJnVLuJNZoyOny56RZhSkjAio1DzGxExVL30f9aAEUZRFY0FPqO2bH4n0LaAAW7feeXEAp78sbaTbM1dAAGEr7geF8BtWcxrvbjcmYgoAAKhcKR7vbH+/2kvE6U6sTJT/iEoq5ZvNCV5Dcx1k/QkRWpbNcgyamBBOASTKNnzz9Xbv35ABwBKBSpjCIjFQTBMTCMbBQQDETwchLHlrNN30O3nnE65zilvqyQkACQajj07o4W3cgQHBmhXcEVGrnlYYrwlpx2PjWPDjgiSCz2DfKgyZVKIrIq95d92gTQBJXPVNuxZGVqVBaDEdeMu9O/ycZ5yQcuxfl6sPgddQADUgBFJbyCWwoCfLqTW9ZrDWNO+v//pp/HOEmAiAihAiAgxWy/zV4APbQrro+96VGou+DNow9JgBwBNhShjGQZDQMBIbBEaDEpEMlOJq5JiZ1pW7MlzBnkt9WfiAAOUXizT1KMkRxAGjTBK99CaQ+8qdVo1MujNHDKHczjflsE+mdkLYo411IgaHjZk9O1katCmCppPTAAleraMsCSwhRsdA03O2AFsF9HWa9IL9l9PYTZHbL/8vgQgSNv7ezxK/rg1WUsBrITfCCqqtyII1X7vVu7HeAaVMkp5AopWaOkNFfi0bgATp9YU+nypDkBwAEiVKiwhGMEiIEUAIwZlM1aa30aWMBGIgXV/tQXJSBhcqUmOMUJidmhVCXCiWMSU9ZJylGvRCuuc7CKBvXjrW0Fa2/OE3R/eoxKHKHES+eF+6GnaZoYuLDf3MJP0GYrQ3pRlgSfjC3M02SfNzLSrF8aIzcppnS1ejFaCsMvr9T1z565lNnrRxjww8M8gx0kxeHsY3ueQJZfFjwZDgEYmdoSJihYjAMNHBNMXUJugLOOuA0/pHWdLro/K/bvy1NB/EX2lsr+QmdVxGqgbJXTFn0zmUKt6Avh7rJTxbYK5eGW1GSNyA9hulNSJ/tpLb8E8UKcEZl37uUGGXfHv9WcAbON8d7SVstDaUISqcMQtwgK54sdvddbCPBKzTuPHGNvThOEI5335fg0nQf8GaXK0VHk1yS6PxjIznMzCbFz8mcseM1pqcgO59F5gfG4cAAPzMSs6tqXWK2AFqrIpoqGwc5gQpJgqKEI14ABHtSsMMYqKIYoATlz8NlRpegAstVkAo3l7cT9jFJisxbybgS4pc9oK2MCk3yUsVm1YpQpgVCCTHy3BSJIltj2Hr/g9C9ojlIToElWPWpK5Ouhaw3xmxmC8u/C5CgXC9DtFRFS7SE8DBIXtQMDGe6AXGLPGxpgfoJQgQqnGPfySw9mVSOHk8e+ifZXk93dmXKyriAUBccBIhShqOERIEQCGX0chbgZLCEkIVAjH+3vW0ZGap4kUMyNtb9vInMQyknJvSsBbjEas8ijehUJriK93hipF4a9XGzXfcBQMk6ptGEonL5lW7D1DG6ndFIu/jmiqtPAMl1s5nyc2f9cSQ8DWZwBrqY/cuKRdwWS8J4fEwbIyjRBrFWEJn1rWEAF5qxIAAugcAEoFKmoZhIIhIElCMBOE04ehUvQtvWNUIuADusZ5QPzW6cMXhOYpA5DHNX8Rk/BxoARS1wYXrysYcllf6WC+kdn6pZSKKN8w0LW5s9tWk/adcYM1VIepupKAZ++KXzLlQku6MzTHMBSlLstJhPOe05ABPMpn7X4MJIWlsAzr4zLWJkfOlrfBHTFDznzhg/vpGlCgvfgMKqVF6hLoDgBIhShTIRBEQInAZq5MGDoYiAtELQHyfvP+hKjxya6NZAVHY09uTz/oVvGpKpa4+f1tJrcWOAW+S+uKZnO9meA3FdvpY+pHg07znBxCq1XXW4tcbK4ixo84SRJE9zbDoIoX1+qH/VHNrVYFl7WucxbGLvzVHnHfR/xLmq3975abtU+ZNEmi3OH6VheliX63reG3QtL8a8BIhSsULR5KAa0QY4ZnWF2qEIhaBOYy61aciRXxKcJaDZ2kcJTjpHO4yMyhJSseaY2Evf+H7hWJSKtBD2e5FpfZYCUYb1AAaUgCEsJS7cHcE2YUV0VHaQFF+uuVnrksuQE35nU1PhLHB7W9CTgRL55fcUquMF00ryM1XXrR559TARrCnL7iWDu88yziXXYg5yS+aXgZ/NO1vrChwEcFKxMtHkkRAJBRZlW0gpoCLQqCc1Z/SifoXWdgssEBcu+6R4raZqdtc27ZtrRXOl/5/AU3Wa2/e0+dOukmC+JZa84O/Uwe26EcZIwmq/IL5AlnAGQ9P46OHbUIoWnlfyrwU14c04PAaMf0dBWrdGaG3q17C9xJAwBcEzcLSzg1N9qvEVqxWrmQDaAhpBkVtBdSSvBwkk1MNYOAR4UqSx0YSRIXaMvE3BwAQSLUZKF/2//a8toGllPjZUWavziZtdDpsjAckP14phrHMbmG+BpcKkTY/+N26f8gO0n2x/8/PBwfYsbOBSPi6EUnjbv43JMbpDeqkVFCvJXNoGFPZmcPTqAWkLVJKKf/veS0FkPPpWz8oTKy8yzn5WNxZb2qIJMBVV4BAQKSlAYTCttnncOIANw2wAOAS4UqcxkORECRhG49nCzug0RuQWLAVYAJs0CxwLYFZURAC2t0sV6zFZTYRILtAAh6KVaIsIeRloI6zp0bKzUlsKIu7SuE5HcCZtS7JsLOYzC8IJHvE5HzGjI3DuqzV5A0uOxbdvs655tfNSrE2tNrUxlokszVEuExra2nCRU6uvO/d88/JEGOjuWBeScA4C/zbSEilac6mH5w0v4YsjKHiv0AFGSH6eGW5hBwAEgFKiQpkEJREsRAJB9JlKYvfQYmSyQXFBkx+PPNDsHIja9EIYrb+hIo4AERFoyGgbvsixFBJqFBBe/vdxS6BpZ0gYvSyyc4vQjkFWJRuYRLxoeJLlctZuuhLlWpQY/xu6HPjb+vRKHNLUiU9swqSezg2jFzYOc4mM1feEtHpTn/5v/i20daWSETv8qiEiFAEHsOv5DFnnnMaJVYRuUr9khQ5q8ARoUqSxkUoUISQEdLKYVEBAELLKBPd/+wcKIiTuxnmlSLmgjPGc2v0ZIPTsFLo8VojyV0NC/rnujB3p6oBAXwd/DWtYD0pjWJPSoCTxUBhNNt2qPdX2LaZvX1flmW8D+oIOIoVoBsdsm+u9WhO4k1VfKk3mwS4tBYBHDhlLXtG1G9aZfZJFijmYALmCcFf9ryLioJgtJgaZNvJj0zAACJvgBIhSokJYyHIooASe1LA7WdAwEFqtAbpPS0muC31qW2cN4e+CloGLE8RRQSZl+GbPJkpN1gAKAHQhIU8Pdi0OfDA1opn7FRIxk//c2Ir/Z5CdSa1SiMCpAv+yjx+soRN4FQ6GTQzN3MjQgUJtMmkwkScMn6z1waYmCoXBKz/ZGdbfgiiPKqK3/D0gXHYvBrHABKBShrEQpQAauuouAxNtDGgFloLGLxNOFQ4CF4FOIe8JgCQ57kSQtaaT2FaBgRJWsM5pu/OQVC+9Y2Y8vnhEZBynHcxYVkg1iNwfNohHCWKOvn2wzX/Injol0yds/Ow3TKwobPoZKxal4Oz3kfWZASkIpVytOI21MDl5qec4BKQLmO+dx+sP+wlUEnAUhUZC+McABHBSsjKRhFFACSFrKlDM4IBILJuCFm1MB+u9XNhq32HbS0ksvs5CPhdeK9Xh9Cmnhdd8JN8g5vaspIGbOQXdRw8aoLGWExAMDyQ2sRSf2KUtxDT5hW0zUOd3dx2MTaaXrp0nUjk0kOskeol3RkE/yo3zFMIO61471xPrgJ/5ZeemiVBZZhoxOF8mXnKwABBwBGhSsjIoLHIqBJgDIjfRW+oC+wshZEBhjD76tw/Gq0abLTsakipubCIhDJVJz1vMsba3EYiwRw62U9vaU2CHe6KuZwU3aqCxfRwueX35TdYYxnoR3F58rZVTNL51cWRIjSH05GjTosGSz7cdNrLWBpSFqDcSJOnmnDJAjh6rEgcCUAX1LQVYSF4hWoIQI3CtgBwblH3AcASIUqEy0YQ0CRBMAkZ5PLsgxGgFiCKFGy/KusxYu/8sGwFb9/nZBosQltPZq9GTG6gqPSfCbmWRSXxLIm9ehqppdN2LDIPGJ4PfCUchTyVnqNG9Mt7or7TvuNMVMZBhAcy9nUQa9V4iip/Lg01MSuGRdK2BHpi1NGVCq9Ilgl9//Qb2M+ZArXJQtCjaXC4DgASIUqMy0MUAEa1Iumwq3BzaljQID7dT9lh6UNgaSSnJBj4MvLb3sE2Uw+DbN2rwqrRhoFhRk0NBB5Tjfp5Ly1ty3WeXJcx+FmjOvoRL5FD1puQK95h6Hcx9PLhuPXSWX5ngpt2yAnm2DpZLgDOWatrd/iRNbjs6xnrceS91929av8ZJqEJOe1AEziWAuTpD0aHI4AQcEAVfBwwDOAR4UqOhaCyEOKgGWdPEiIkDLICyKDc73+cONXanRDlDyoEU0Lqgu9bijkGGMIkGSxBG2oEvHTa9wzZVkzNdaYOKy0wwu1byPUfLXUoPTmio+OvRiUOXoSYsRoEbty1MmXOC6TrHZ9Vv4ZLtD8t9LvQ0eONa4PCtFKlcUV7yh8+XeEUp1nWIdaI1B5YqAKZg4ASIUqIzUGShSAjpYN2YskzUyosskyw2V/4+JYlIdKl90NdVQa47RvdEoHXM/O7GTb7yqVAK8ye08cLD5/LxqNVDohyMTje7+47s6P9NIl4wGCRDI+3YczxwofSz0zzO9Osp43mNt8/bXPOFwutcVpwwfTx3J+qf27l0i/SP+Ldr87e3NdAlQ3IvMAUcBJhSsUPR5GAb4EsqKBhoIWESAVY/4JbLR8T8dpnffm2V54giNEYOTMJmj02b98iKCWS0soT5L0mIeBjneWS1SqmCPbksoE6FKHZ9898LTn6bC82xeeR2relwQ0Ft1q3WJnoN+xtHUxR1lTNNpVb/2cyqd1ATLsw55PUf3sZVjeoz2lB1awBIxA/a7EHCSZV3LF1IyVwKAUwmAbmlcASQUoaxkMSBCQhGAj2lFo3FhlhvhAaAAs/TV+HvFPRE70EJyBvuFHeTpsKWWCwar+0aEabh0ssXVe6PesxYSRcbXYLQN1+rPhDkPEJprdKUF3rBeiNosDSrK0E8AfA830RTzLn406cz6LM0zcdXKDpjtl25gBf4w6qVnBpcLy7Gn6JAu3RCjdq0w42G0LtMbK9fOnEkEqtEYTnG5wAEaFKhNJDkcQkMBh5BtVSIEiClpl6AvzvumzO2nLbVvm9dPnPs8zeal65rJI5ePd+2pTs911xFK192D0yKEFjggrUowYzw+OAVhY/A4XACYxUEN9QTjt2agAjDe3MefzfvbYbmDwt/eS7r2Jx8BPk4nOo0FR4arwE1Ao9/axgSDnUdEUOUYWM6BEhmBRa+fNIGb4I0KUVEMu6N/BI4BIhSocKYyIJIiAbUexuhEoZrFkCyAc/WP+JQs0SLw6gF5iXQWSuG+ykjDCWSL4l10mFuz6pJs0el6hqnKGVFep1qKJbqG17u1MOIZuZvvuqCtaKTNzC7otDb5HuTUaSrPIG9kdFRrGLanqyIX1ioWoA/gD5tRdLKpDC8eMyJ8IrLgpLAMN2Gvm61MYlA6jqhOjwEzdInbgAEcFKykOCosliQBJ0zdccMMRhqBASEUG7untFv0i8IKTLZV24Tjwl0gNvs3jn2E2jcGf5sCi9H+laY0ApOmbXFNleuaLfXyLs0lnGqtTJLxhQKCCOJk4PNZ2R8sxvKk1v6J9DD1oycuhKpERKsyiZgpMCSiFYBMUFN4SgPsDWjZZbsw3Cgh0KzJwRqyou2be7QFAHABJBSoTQQpHMqDEICW+DcLdtAsTEiJV2YMHWveoP6Bj1d1Wq8dzyQYvv5XvgndnVpm7ZThJzdxbm4gE19c/KwTKCf1+YnSC8pjAgF96jT9UniTbGvK+CcdsidhztQdngrMFN3LBJQSiqyeMR3uoG+qN3fNFg3ehbjvodnLpdYzjWxGIIb/fal6J3KPdmG4jEddg+6i9hi/BdzEKzbArXgBKhSsVHZhQEQCfCnwyfLUxwQyFkEADdG8lRKWx9Iye5yxYkBVIwFaStWF0Uw/PV8pod6UEhtHX6vsNOh9x443drMj4LNYEj00KADgGs7nQj7uqe8FCRHBa1d/yfjVWU3a6hu5AjNCEY04tPyzHwagDTBlzpINUdSDN4oVcaeZoJBzpQgfEL4lmM0Deh9wfaayNRCgjNLIRCoK8AEoFKhs5GiIiiIBOC71rbW6llABcyyzdhPqHukEdDG8jJTdhdIqJblLNrgE1p1es75XxwmAKzHl443IP0zZtQpwTV4Tvule21+wsqIJ7Hbh02L4EYVXAggCI1S1ZxpWDDKAZA7y5NVffI3LSraR85riOiWNX67PDNe43aEsbT1Z/8FggERV8EWey1GBkay8zn4A5qz0AAfqOAEeFKxoOjsZEEgSAIm9PYiNlsCFiAsE/j4D9TXra3WRcYaltiU6VYSbLkiDjaoGOs2ldlV3ruVKQWlMZD5BxyYYaGaZrDmb2BBcoVumx9E1eFBnt7wHTyGRmQnJVtynTJgDPIYDR+UXdfceZjq9f+8Ozt4YyjP9B4djV/PRz93KsTAzO6rjN6mK5VmgMztqhtD0Q2PCOj5L1lLqfSMbtWvR6d7mOAEgFKhM9CFEBoL0gqxSAFxEQH3Kn4hfjjLU8VWvp656S0hVjWnAeOd938d41BwgyQpml7pK7MfLm3VuuM36bQtHiC/RWEatzs1C5XoEPdD5M5rva+ZX36DlGutIkH0+goL793t4Jy9yJRa+8magsXL3Xy/UQ8xCOwvx7JgdLya0Zg6H2Xj/cPH97bJVOdShaJfAHwPqxHkOASAUqIyKExUKTBGAiTrISKBYjEQLgCoqvOkb9SqKx0bmwtrncQwutKXRgHWp02zm312e5tYnFpzeFBwsEh12KNsb9dEZ8SCiDGkBdbeHjpoTPTEQXaUyb8ZqoCf7qfGKJ8mmocP2Y5qCsZR+OBwwNd6+pt48y4cvk2AhrEMrAHx/WwgAPMXRMtOWzq0M+sACJBmorYuSiyxocAEeFKhs5DEoSARDoukvN64Zvq8BAlQXKrSSSI/QPKf6KRixlTwvuvJ47S66er21nr79deKHF6GCSIIMuiQqSxiZZZq3k1FhrNo7ewaih/JmRubU86acGfyJdSRk4kCZ8P9+LzRx3EZEPOIQEpcOEhpQC6ATDqJ4oHWwowANeUb7pgBdwAEGFKGB15VOZ5LLlZEwnoAAeAggjVNlTvTqKBwqOzKbi0sMy2ycE+K1DwAABjtob292AAAAbG12aGQAAAAA4IwIm+CMCKAAALuAAAKYVgABAAABAAAAAAAAAAAAAAAAAQAAAAAAAAAAAAAAAAAAAAEAAAAAAAAAAAAAAAAAAEAAAAAAAAAAAAAAAAAAAAAAAAAAAAAAAAAAAAAAAAACAAAEgHRyYWsAAABcdGtoZAAAAAHgjAic4IwIoAAAAAEAAAAAAAKYVgAAAAAAAAAAAAAAAAEAAAAAAQAAAAAAAAAAAAAAAAAAAAEAAAAAAAAAAAAAAAAAAEAAAAAAAAAAAAAAAAAABBxtZGlhAAAAIG1kaGQAAAAA4IwInOCMCKAAALuAAAKkAFXEAAAAAAAxaGRscgAAAAAAAAAAc291bgAAAAAAAAAAAAAAAENvcmUgTWVkaWEgQXVkaW8AAAADw21pbmYAAAAQc21oZAAAAAAAAAAAAAAAJGRpbmYAAAAcZHJlZgAAAAAAAAABAAAADHVybCAAAAABAAADh3N0YmwAAABnc3RzZAAAAAAAAAABAAAAV21wNGEAAAAAAAAAAQAAAAAAAAAAAAIAEAAAAAC7gAAAAAAAM2VzZHMAAAAAA4CAgCIAAAAEgICAFEAUABgAAAD6AAAA+gAFgICAAhGIBoCAgAECAAAAGHN0dHMAAAAAAAAAAQAAAKkAAAQAAAAAKHN0c2MAAAAAAAAAAgAAAAEAAAAuAAAAAQAAAAQAAAAfAAAAAQAAArhzdHN6AAAAAAAAAAAAAACpAAAABAAAAIAAAAGxAAAAsAAAAKwAAACnAAAArAAAAKAAAACoAAAAmQAAAKYAAACbAAAAlwAAAJ8AAACcAAAAnwAAAKcAAACYAAAAmAAAAKAAAACgAAAAoAAAAJkAAAC1AAAAmQAAAJ0AAACsAAAA/gAAANcAAACsAAAAqgAAAKIAAACtAAAAqQAAAK4AAAC4AAAArQAAALcAAACvAAAApwAAAKsAAACxAAAAtAAAALIAAACgAAAA+QAAAO8AAACxAAAAtgAAAMwAAADHAAAAvQAAAL8AAAC3AAAAmQAAAMEAAADAAAAArgAAAJgAAAC1AAAAqAAAAKoAAAC0AAAAtgAAARQAAAC4AAAAnAAAAI8AAADkAAAAugAAAK4AAACxAAAArQAAAJ8AAAESAAAA1gAAAKYAAACZAAAArwAAAKwAAACrAAAAoAAAAMsAAAEZAAAAwAAAAKgAAACoAAAAsgAAAKwAAACfAAAAwgAAAJ4AAACZAAAArQAAANMAAADxAAAA2gAAALAAAAC4AAAAvwAAAMwAAADIAAAAxQAAAKoAAACgAAAArwAAAKQAAADUAAAA3QAAALQAAAC0AAAAtgAAAKIAAACmAAAAmwAAAKUAAACdAAAAnQAAAKgAAACoAAAArwAAANgAAADPAAAAtgAAALUAAAC5AAAAtgAAALEAAACxAAAAvgAAALoAAAC3AAAAzwAAAMoAAACxAAAAtgAAAJwAAADNAAAAlgAAAI8AAACdAAAAlgAAAJsAAACbAAAAnAAAAKwAAACkAAAAoQAAAJAAAACTAAAAkAAAAJcAAACQAAAAnAAAAJAAAACMAAAAnQAAAJ0AAACdAAAAmAAAAJQAAACfAAAAmwAAAJkAAAClAAAAmAAAAJoAAACEAAAAKgAAACBzdGNvAAAAAAAAAAQAAAAsAAAfKAAAQHMAAGF/AAABH3VkdGEAAAAcZGF0ZTIwMjMtMDUtMThUMTY6NTM6NDdaAAAA+21ldGEAAAAAAAAAImhkbHIAAAAAAAAAAG1kaXIAAAAAAAAAAAAAAAAAAAAAAM1pbHN0AAAAcy0tLS0AAAAcbWVhbgAAAABjb20uYXBwbGUuaVR1bmVzAAAAG25hbWUAAAAAdm9pY2UtbWVtby11dWlkAAAANGRhdGEAAAABAAAAAEYwMEE1ODE4LUVDMkYtNEU0Ni1BQzE1LUQxQTgxMjlFQzc5NQAAAFKpdG9vAAAASmRhdGEAAAABAAAAAGNvbS5hcHBsZS5Wb2ljZU1lbW9zIChpUGhvbmUgVmVyc2lvbiAxNi4zLjEgKEJ1aWxkIDIwRDY3KSkAAAAobXZleAAAACB0cmV4AAAAAAAAAAEAAAABAAAEAAAAAAQAAAAAAAAGQG1vb3YAAABsbXZoZAAAAADgjAib4IwIoAAAu4AAAphWAAEAAAEAAAAAAAAAAAAAAAABAAAAAAAAAAAAAAAAAAAAAQAAAAAAAAAAAAAAAAAAQAAAAAAAAAAAAAAAAAAAAAAAAAAAAAAAAAAAAAAAAAIAAASAdHJhawAAAFx0a2hkAAAAAeCMCJzgjAigAAAAAQAAAAAAAphWAAAAAAAAAAAAAAAAAQAAAAABAAAAAAAAAAAAAAAAAAAAAQAAAAAAAAAAAAAAAAAAQAAAAAAAAAAAAAAAAAAEHG1kaWEAAAAgbWRoZAAAAADgjAic4IwIoAAAu4AAAqQAVcQAAAAAADFoZGxyAAAAAAAAAABzb3VuAAAAAAAAAAAAAAAAQ29yZSBNZWRpYSBBdWRpbwAAAAPDbWluZgAAABBzbWhkAAAAAAAAAAAAAAAkZGluZgAAABxkcmVmAAAAAAAAAAEAAAAMdXJsIAAAAAEAAAOHc3RibAAAAGdzdHNkAAAAAAAAAAEAAABXbXA0YQAAAAAAAAABAAAAAAAAAAAAAgAQAAAAALuAAAAAAAAzZXNkcwAAAAADgICAIgAAAASAgIAUQBQAGAAAAPoAAAD6AAWAgIACEYgGgICAAQIAAAAYc3R0cwAAAAAAAAABAAAAqQAABAAAAAAoc3RzYwAAAAAAAAACAAAAAQAAAC4AAAABAAAABAAAAB8AAAABAAACuHN0c3oAAAAAAAAAAAAAAKkAAAAEAAAAgAAAAbEAAACwAAAArAAAAKcAAACsAAAAoAAAAKgAAACZAAAApgAAAJsAAACXAAAAnwAAAJwAAACfAAAApwAAAJgAAACYAAAAoAAAAKAAAACgAAAAmQAAALUAAACZAAAAnQAAAKwAAAD+AAAA1wAAAKwAAACqAAAAogAAAK0AAACpAAAArgAAALgAAACtAAAAtwAAAK8AAACnAAAAqwAAALEAAAC0AAAAsgAAAKAAAAD5AAAA7wAAALEAAAC2AAAAzAAAAMcAAAC9AAAAvwAAALcAAACZAAAAwQAAAMAAAACuAAAAmAAAALUAAACoAAAAqgAAALQAAAC2AAABFAAAALgAAACcAAAAjwAAAOQAAAC6AAAArgAAALEAAACtAAAAnwAAARIAAADWAAAApgAAAJkAAACvAAAArAAAAKsAAACgAAAAywAAARkAAADAAAAAqAAAAKgAAACyAAAArAAAAJ8AAADCAAAAngAAAJkAAACtAAAA0wAAAPEAAADaAAAAsAAAALgAAAC/AAAAzAAAAMgAAADFAAAAqgAAAKAAAACvAAAApAAAANQAAADdAAAAtAAAALQAAAC2AAAAogAAAKYAAACbAAAApQAAAJ0AAACdAAAAqAAAAKgAAACvAAAA2AAAAM8AAAC2AAAAtQAAALkAAAC2AAAAsQAAALEAAAC+AAAAugAAALcAAADPAAAAygAAALEAAAC2AAAAnAAAAM0AAACWAAAAjwAAAJ0AAACWAAAAmwAAAJsAAACcAAAArAAAAKQAAAChAAAAkAAAAJMAAACQAAAAlwAAAJAAAACcAAAAkAAAAIwAAACdAAAAnQAAAJ0AAACYAAAAlAAAAJ8AAACbAAAAmQAAAKUAAACYAAAAmgAAAIQAAAAqAAAAIHN0Y28AAAAAAAAABAAAACwAAB8oAABAcwAAYX8AAAFMdWR0YQAAABxkYXRlMjAyMy0wNS0xOFQxNjo1Mzo0N1oAAAEobWV0YQAAAAAAAAAiaGRscgAAAAAAAAAAbWRpcgAAAAAAAAAAAAAAAAAAAAAA+mlsc3QAAAAtqW5hbQAAACVkYXRhAAAAAQAAAABXaWxsb3cgRmllbGQgQ3Jvc3NpbmcAAABzLS0tLQAAABxtZWFuAAAAAGNvbS5hcHBsZS5pVHVuZXMAAAAbbmFtZQAAAAB2b2ljZS1tZW1vLXV1aWQAAAA0ZGF0YQAAAAEAAAAARjAwQTU4MTgtRUMyRi00RTQ2LUFDMTUtRDFBODEyOUVDNzk1AAAAUql0b28AAABKZGF0YQAAAAEAAAAAY29tLmFwcGxlLlZvaWNlTWVtb3MgKGlQaG9uZSBWZXJzaW9uIDE2LjMuMSAoQnVpbGQgMjBENjcpKQAAAI9mcmVlZAAAADRkYXRhAAAAAQAAAABGMDBBNTgxOC1FQzJGLTRFNDYtQUMxNS1EMUE4MTI5RUM3OTUAAABSqXRvbwAAAEpkYXRhAAAAAQAAAABjb20uYXBwbGUuVm9pY2VNZW1vcyAoaVBob25lIFZlcnNpb24gMTYuMy4xIChCdWlsZCAyMEQ2Nykp\" type=\"audio/mpeg\" />\n",
       "                    Your browser does not support the audio element.\n",
       "                </audio>\n",
       "              "
      ],
      "text/plain": [
       "<IPython.lib.display.Audio object>"
      ]
     },
     "execution_count": 29,
     "metadata": {},
     "output_type": "execute_result"
    }
   ],
   "source": [
    "from IPython.display import Audio\n",
    "sound_file = 'hey.m4a'\n",
    "notify=Audio(sound_file, autoplay=True)\n",
    "\n",
    "# -------your code----------\n",
    "# code that run long long long time\n",
    "# code that run long long long time\n",
    "# code that run long long long time\n",
    "# code that run long long long time\n",
    "# code that run long long long time\n",
    "# code that run long long long time\n",
    "# code that run long long long time\n",
    "# code that run long long long time\n",
    "# code that run long long long time\n",
    "# code that run long long long time\n",
    "# code that run long long long time\n",
    "\n",
    "notify"
   ]
  },
  {
   "cell_type": "code",
   "execution_count": null,
   "id": "e79cce0e",
   "metadata": {},
   "outputs": [],
   "source": []
  },
  {
   "cell_type": "code",
   "execution_count": 1,
   "id": "c0e06f2e",
   "metadata": {},
   "outputs": [
    {
     "ename": "NameError",
     "evalue": "name 'start' is not defined",
     "output_type": "error",
     "traceback": [
      "\u001b[0;31m---------------------------------------------------------------------------\u001b[0m",
      "\u001b[0;31mNameError\u001b[0m                                 Traceback (most recent call last)",
      "Cell \u001b[0;32mIn[1], line 1\u001b[0m\n\u001b[0;32m----> 1\u001b[0m \u001b[43mstart\u001b[49m\n",
      "\u001b[0;31mNameError\u001b[0m: name 'start' is not defined"
     ]
    }
   ],
   "source": [
    "start"
   ]
  },
  {
   "cell_type": "code",
   "execution_count": 78,
   "id": "68c6c867",
   "metadata": {},
   "outputs": [
    {
     "data": {
      "text/plain": [
       "60"
      ]
     },
     "execution_count": 78,
     "metadata": {},
     "output_type": "execute_result"
    }
   ],
   "source": []
  },
  {
   "cell_type": "code",
   "execution_count": 74,
   "id": "504c945e",
   "metadata": {},
   "outputs": [
    {
     "data": {
      "text/plain": [
       "[['cortexode',\n",
       "  0,\n",
       "  3.3981876332622605,\n",
       "  1.5923942689837132,\n",
       "  '/data/users2/llu13/output/cortexode/pred/lh_pial/adni_lh_200008.pial_converted.stl'],\n",
       " ['cortexode',\n",
       "  1,\n",
       "  3.9358887124820443,\n",
       "  1.7991047654687027,\n",
       "  '/data/users2/llu13/output/cortexode/pred/lh_pial/adni_lh_200109.pial_converted.stl'],\n",
       " ['cortexode',\n",
       "  2,\n",
       "  2.3206830642321816,\n",
       "  0.9300864529698576,\n",
       "  '/data/users2/llu13/output/cortexode/pred/lh_pial/adni_lh_200210.pial_converted.stl'],\n",
       " ['cortexode',\n",
       "  0,\n",
       "  3.3981876332622605,\n",
       "  1.5923942689837132,\n",
       "  '/data/users2/llu13/output/cortexode/pred/lh_pial/adni_lh_200008.pial_converted.stl'],\n",
       " ['cortexode',\n",
       "  1,\n",
       "  3.9358887124820443,\n",
       "  1.7991047654687027,\n",
       "  '/data/users2/llu13/output/cortexode/pred/lh_pial/adni_lh_200109.pial_converted.stl'],\n",
       " ['cortexode',\n",
       "  2,\n",
       "  2.3206830642321816,\n",
       "  0.9300864529698576,\n",
       "  '/data/users2/llu13/output/cortexode/pred/lh_pial/adni_lh_200210.pial_converted.stl'],\n",
       " ['cortexode',\n",
       "  3,\n",
       "  3.3994432846207374,\n",
       "  1.415855739519439,\n",
       "  '/data/users2/llu13/output/cortexode/pred/lh_pial/adni_lh_200311.pial_converted.stl'],\n",
       " ['cortexode',\n",
       "  4,\n",
       "  3.5930570423612176,\n",
       "  1.5595269812433001,\n",
       "  '/data/users2/llu13/output/cortexode/pred/lh_pial/adni_lh_200614.pial_converted.stl'],\n",
       " ['cortexode',\n",
       "  5,\n",
       "  2.8318737470418887,\n",
       "  1.1198356416939323,\n",
       "  '/data/users2/llu13/output/cortexode/pred/lh_pial/adni_lh_200917.pial_converted.stl'],\n",
       " ['cortexode',\n",
       "  6,\n",
       "  3.412460663277657,\n",
       "  1.5193965075210947,\n",
       "  '/data/users2/llu13/output/cortexode/pred/lh_pial/adni_lh_201111.pial_converted.stl'],\n",
       " ['cortexode',\n",
       "  7,\n",
       "  3.941898446006137,\n",
       "  1.7506130069961532,\n",
       "  '/data/users2/llu13/output/cortexode/pred/lh_pial/adni_lh_201414.pial_converted.stl'],\n",
       " ['cortexode',\n",
       "  8,\n",
       "  3.742678061065678,\n",
       "  2.12211877326176,\n",
       "  '/data/users2/llu13/output/cortexode/pred/lh_pial/adni_lh_201515.pial_converted.stl'],\n",
       " ['cortexode',\n",
       "  9,\n",
       "  2.8792706549507314,\n",
       "  1.1409490443867496,\n",
       "  '/data/users2/llu13/output/cortexode/pred/lh_pial/adni_lh_201717.pial_converted.stl'],\n",
       " ['cortexode',\n",
       "  10,\n",
       "  3.577040124375641,\n",
       "  2.1160586501576044,\n",
       "  '/data/users2/llu13/output/cortexode/pred/lh_pial/adni_lh_201818.pial_converted.stl'],\n",
       " ['cortexode',\n",
       "  11,\n",
       "  3.0786366037897506,\n",
       "  1.2828292945420836,\n",
       "  '/data/users2/llu13/output/cortexode/pred/lh_pial/adni_lh_202113.pial_converted.stl'],\n",
       " ['cortexode',\n",
       "  12,\n",
       "  3.2325770453033775,\n",
       "  1.6265844902627316,\n",
       "  '/data/users2/llu13/output/cortexode/pred/lh_pial/adni_lh_202719.pial_converted.stl'],\n",
       " ['cortexode',\n",
       "  13,\n",
       "  4.026909529400565,\n",
       "  1.9384491541194748,\n",
       "  '/data/users2/llu13/output/cortexode/pred/lh_pial/adni_lh_203418.pial_converted.stl'],\n",
       " ['cortexode',\n",
       "  14,\n",
       "  3.4106211075576502,\n",
       "  1.9081058118602976,\n",
       "  '/data/users2/llu13/output/cortexode/pred/lh_pial/adni_lh_203721.pial_converted.stl'],\n",
       " ['cortexode',\n",
       "  15,\n",
       "  3.1652689711597466,\n",
       "  1.3758825956033136,\n",
       "  '/data/users2/llu13/output/cortexode/pred/lh_pial/adni_lh_203923.pial_converted.stl'],\n",
       " ['cortexode',\n",
       "  16,\n",
       "  3.2034778681120146,\n",
       "  1.4167504318983508,\n",
       "  '/data/users2/llu13/output/cortexode/pred/lh_pial/adni_lh_204016.pial_converted.stl'],\n",
       " ['cortexode',\n",
       "  17,\n",
       "  3.68440821323243,\n",
       "  1.6234685594548166,\n",
       "  '/data/users2/llu13/output/cortexode/pred/lh_pial/adni_lh_204319.pial_converted.stl'],\n",
       " ['cortexode',\n",
       "  18,\n",
       "  3.7275292363933206,\n",
       "  2.1153327943950417,\n",
       "  '/data/users2/llu13/output/cortexode/pred/lh_pial/adni_lh_204420.pial_converted.stl'],\n",
       " ['cortexode',\n",
       "  19,\n",
       "  4.608474992975555,\n",
       "  2.0863890946233123,\n",
       "  '/data/users2/llu13/output/cortexode/pred/lh_pial/adni_lh_204521.pial_converted.stl']]"
      ]
     },
     "execution_count": 74,
     "metadata": {},
     "output_type": "execute_result"
    }
   ],
   "source": [
    "len("
   ]
  },
  {
   "cell_type": "code",
   "execution_count": 58,
   "id": "2761944c",
   "metadata": {},
   "outputs": [
    {
     "data": {
      "text/plain": [
       "3576"
      ]
     },
     "execution_count": 58,
     "metadata": {},
     "output_type": "execute_result"
    }
   ],
   "source": [
    "results[0].n_points"
   ]
  },
  {
   "cell_type": "code",
   "execution_count": 27,
   "id": "7e9eac97",
   "metadata": {},
   "outputs": [
    {
     "data": {
      "text/plain": [
       "pyvista_ndarray([[-29.464205  ,  11.062517  , -62.205467  ],\n",
       "                 [-30.23411   ,  11.516321  , -62.789597  ],\n",
       "                 [-28.742605  ,  11.5973    , -62.61608   ],\n",
       "                 ...,\n",
       "                 [ -9.109061  ,  -0.45121315,  48.731777  ],\n",
       "                 [ -8.293487  ,  -0.7458459 ,  48.619736  ],\n",
       "                 [ -7.108672  ,  -1.1649586 ,  48.384357  ]],\n",
       "                dtype=float32)"
      ]
     },
     "execution_count": 27,
     "metadata": {},
     "output_type": "execute_result"
    }
   ],
   "source": [
    "m1.points"
   ]
  },
  {
   "cell_type": "code",
   "execution_count": 26,
   "id": "93196b08",
   "metadata": {},
   "outputs": [
    {
     "data": {
      "text/plain": [
       "pyvista_ndarray([[-30.999702 ,  12.80227  , -57.85451  ],\n",
       "                 [-31.502422 ,  13.272774 , -57.89746  ],\n",
       "                 [-30.540493 ,  13.407418 , -58.065712 ],\n",
       "                 ...,\n",
       "                 [ -8.927928 ,  -1.1509303,  46.727367 ],\n",
       "                 [ -8.337483 ,  -1.2089436,  47.034237 ],\n",
       "                 [ -7.4900618,  -1.4409716,  46.89572  ]], dtype=float32)"
      ]
     },
     "execution_count": 26,
     "metadata": {},
     "output_type": "execute_result"
    }
   ],
   "source": [
    "m2.points"
   ]
  },
  {
   "cell_type": "code",
   "execution_count": 12,
   "id": "34bfa430",
   "metadata": {},
   "outputs": [],
   "source": [
    "f1,f2 = filepairs[0]"
   ]
  },
  {
   "cell_type": "code",
   "execution_count": 30,
   "id": "33364814",
   "metadata": {},
   "outputs": [],
   "source": []
  },
  {
   "cell_type": "code",
   "execution_count": null,
   "id": "5b5bf935",
   "metadata": {},
   "outputs": [],
   "source": []
  },
  {
   "cell_type": "code",
   "execution_count": null,
   "id": "b3a42f58",
   "metadata": {},
   "outputs": [],
   "source": []
  },
  {
   "cell_type": "code",
   "execution_count": 28,
   "id": "026022bb",
   "metadata": {},
   "outputs": [
    {
     "data": {
      "text/plain": [
       "3576"
      ]
     },
     "execution_count": 28,
     "metadata": {},
     "output_type": "execute_result"
    }
   ],
   "source": [
    "intersection_rate = "
   ]
  },
  {
   "cell_type": "code",
   "execution_count": 23,
   "id": "086bed4a",
   "metadata": {},
   "outputs": [
    {
     "data": {
      "text/html": [
       "\n",
       "<table>\n",
       "<tr><th>PolyData</th><th>Information</th></tr>\n",
       "<tr><td>N Cells</td><td>224131</td></tr>\n",
       "<tr><td>N Points</td><td>112519</td></tr>\n",
       "<tr><td>N Strips</td><td>0</td></tr>\n",
       "<tr><td>X Bounds</td><td>-6.058e+01, 4.911e+00</td></tr>\n",
       "<tr><td>Y Bounds</td><td>-8.309e+01, 8.606e+01</td></tr>\n",
       "<tr><td>Z Bounds</td><td>-6.340e+01, 5.016e+01</td></tr>\n",
       "<tr><td>N Arrays</td><td>0</td></tr>\n",
       "</table>\n",
       "\n"
      ],
      "text/plain": [
       "PolyData (0x7f5d4f31c340)\n",
       "  N Cells:    224131\n",
       "  N Points:   112519\n",
       "  N Strips:   0\n",
       "  X Bounds:   -6.058e+01, 4.911e+00\n",
       "  Y Bounds:   -8.309e+01, 8.606e+01\n",
       "  Z Bounds:   -6.340e+01, 5.016e+01\n",
       "  N Arrays:   0"
      ]
     },
     "execution_count": 23,
     "metadata": {},
     "output_type": "execute_result"
    }
   ],
   "source": [
    "m3. "
   ]
  },
  {
   "cell_type": "code",
   "execution_count": 24,
   "id": "169a029c",
   "metadata": {},
   "outputs": [
    {
     "data": {
      "text/html": [
       "\n",
       "<table>\n",
       "<tr><th>PolyData</th><th>Information</th></tr>\n",
       "<tr><td>N Cells</td><td>225004</td></tr>\n",
       "<tr><td>N Points</td><td>112970</td></tr>\n",
       "<tr><td>N Strips</td><td>0</td></tr>\n",
       "<tr><td>X Bounds</td><td>-5.756e+01, 3.300e+00</td></tr>\n",
       "<tr><td>Y Bounds</td><td>-8.162e+01, 8.278e+01</td></tr>\n",
       "<tr><td>Z Bounds</td><td>-5.884e+01, 4.715e+01</td></tr>\n",
       "<tr><td>N Arrays</td><td>0</td></tr>\n",
       "</table>\n",
       "\n"
      ],
      "text/plain": [
       "PolyData (0x7f5d4fb91d60)\n",
       "  N Cells:    225004\n",
       "  N Points:   112970\n",
       "  N Strips:   0\n",
       "  X Bounds:   -5.756e+01, 3.300e+00\n",
       "  Y Bounds:   -8.162e+01, 8.278e+01\n",
       "  Z Bounds:   -5.884e+01, 4.715e+01\n",
       "  N Arrays:   0"
      ]
     },
     "execution_count": 24,
     "metadata": {},
     "output_type": "execute_result"
    }
   ],
   "source": [
    "m2"
   ]
  },
  {
   "cell_type": "code",
   "execution_count": 25,
   "id": "2119d883",
   "metadata": {},
   "outputs": [
    {
     "data": {
      "text/html": [
       "<table><tr><th>Header</th><th>Data Arrays</th></tr><tr><td>\n",
       "<table>\n",
       "<tr><th>PolyData</th><th>Information</th></tr>\n",
       "<tr><td>N Cells</td><td>3568</td></tr>\n",
       "<tr><td>N Points</td><td>3576</td></tr>\n",
       "<tr><td>N Strips</td><td>0</td></tr>\n",
       "<tr><td>X Bounds</td><td>-4.692e+01, 2.118e+00</td></tr>\n",
       "<tr><td>Y Bounds</td><td>-7.521e+01, 1.520e+01</td></tr>\n",
       "<tr><td>Z Bounds</td><td>-4.600e+01, 3.476e+01</td></tr>\n",
       "<tr><td>N Arrays</td><td>3</td></tr>\n",
       "</table>\n",
       "\n",
       "</td><td>\n",
       "<table>\n",
       "<tr><th>Name</th><th>Field</th><th>Type</th><th>N Comp</th><th>Min</th><th>Max</th></tr>\n",
       "<tr><td>SurfaceID</td><td>Points</td><td>int64</td><td>1</td><td>1.000e+00</td><td>2.000e+00</td></tr>\n",
       "<tr><td>Input0CellID</td><td>Cells</td><td>int64</td><td>1</td><td>5.395e+03</td><td>2.415e+05</td></tr>\n",
       "<tr><td>Input1CellID</td><td>Cells</td><td>int64</td><td>1</td><td>5.396e+03</td><td>2.425e+05</td></tr>\n",
       "</table>\n",
       "\n",
       "</td></tr> </table>"
      ],
      "text/plain": [
       "PolyData (0x7f5d4f31cc40)\n",
       "  N Cells:    3568\n",
       "  N Points:   3576\n",
       "  N Strips:   0\n",
       "  X Bounds:   -4.692e+01, 2.118e+00\n",
       "  Y Bounds:   -7.521e+01, 1.520e+01\n",
       "  Z Bounds:   -4.600e+01, 3.476e+01\n",
       "  N Arrays:   3"
      ]
     },
     "execution_count": 25,
     "metadata": {},
     "output_type": "execute_result"
    }
   ],
   "source": [
    "m3"
   ]
  },
  {
   "cell_type": "code",
   "execution_count": 22,
   "id": "c26e30f5",
   "metadata": {},
   "outputs": [
    {
     "data": {
      "text/plain": [
       "3576"
      ]
     },
     "execution_count": 22,
     "metadata": {},
     "output_type": "execute_result"
    }
   ],
   "source": [
    "m3.n_points"
   ]
  },
  {
   "cell_type": "code",
   "execution_count": 18,
   "id": "c876da5f",
   "metadata": {},
   "outputs": [
    {
     "data": {
      "text/plain": [
       "224131"
      ]
     },
     "execution_count": 18,
     "metadata": {},
     "output_type": "execute_result"
    }
   ],
   "source": [
    "m3. (m1.n_cells + m2.n_cells)"
   ]
  },
  {
   "cell_type": "code",
   "execution_count": 14,
   "id": "b49e3783",
   "metadata": {},
   "outputs": [
    {
     "data": {
      "text/plain": [
       "['ALL_PIECES_EXTENT',\n",
       " 'AddCellReference',\n",
       " 'AddObserver',\n",
       " 'AddReferenceToCell',\n",
       " 'Allocate',\n",
       " 'AllocateCellGhostArray',\n",
       " 'AllocateCopy',\n",
       " 'AllocateEstimate',\n",
       " 'AllocateExact',\n",
       " 'AllocatePointGhostArray',\n",
       " 'AllocateProportional',\n",
       " 'AttributeTypes',\n",
       " 'BOUNDING_BOX',\n",
       " 'BreakOnError',\n",
       " 'BuildCellLocator',\n",
       " 'BuildCells',\n",
       " 'BuildLinks',\n",
       " 'BuildLocator',\n",
       " 'BuildPointLocator',\n",
       " 'CELL',\n",
       " 'CELL_DATA_FIELD',\n",
       " 'CELL_DATA_VECTOR',\n",
       " 'CheckAttributes',\n",
       " 'ComputeBounds',\n",
       " 'ComputeCellsBounds',\n",
       " 'CopyAttributes',\n",
       " 'CopyCells',\n",
       " 'CopyInformationFromPipeline',\n",
       " 'CopyInformationToPipeline',\n",
       " 'CopyStructure',\n",
       " 'Crop',\n",
       " 'DATA_EXTENT',\n",
       " 'DATA_EXTENT_TYPE',\n",
       " 'DATA_NUMBER_OF_GHOST_LEVELS',\n",
       " 'DATA_NUMBER_OF_PIECES',\n",
       " 'DATA_OBJECT',\n",
       " 'DATA_OBJECT_FIELD',\n",
       " 'DATA_PIECE_NUMBER',\n",
       " 'DATA_TIME_STEP',\n",
       " 'DATA_TYPE_NAME',\n",
       " 'DIRECTION',\n",
       " 'DataHasBeenGenerated',\n",
       " 'DebugOff',\n",
       " 'DebugOn',\n",
       " 'DeepCopy',\n",
       " 'DeleteCell',\n",
       " 'DeleteCells',\n",
       " 'DeleteLinks',\n",
       " 'DeletePoint',\n",
       " 'EDGE',\n",
       " 'EDGE_DATA_VECTOR',\n",
       " 'ERR_INCORRECT_FIELD',\n",
       " 'ERR_NON_MANIFOLD_STAR',\n",
       " 'ERR_NO_SUCH_FIELD',\n",
       " 'EditableOff',\n",
       " 'EditableOn',\n",
       " 'ExtendedNew',\n",
       " 'FIELD',\n",
       " 'FIELD_ACTIVE_ATTRIBUTE',\n",
       " 'FIELD_ARRAY_TYPE',\n",
       " 'FIELD_ASSOCIATION',\n",
       " 'FIELD_ASSOCIATION_CELLS',\n",
       " 'FIELD_ASSOCIATION_EDGES',\n",
       " 'FIELD_ASSOCIATION_NONE',\n",
       " 'FIELD_ASSOCIATION_POINTS',\n",
       " 'FIELD_ASSOCIATION_POINTS_THEN_CELLS',\n",
       " 'FIELD_ASSOCIATION_ROWS',\n",
       " 'FIELD_ASSOCIATION_VERTICES',\n",
       " 'FIELD_ATTRIBUTE_TYPE',\n",
       " 'FIELD_NAME',\n",
       " 'FIELD_NUMBER_OF_COMPONENTS',\n",
       " 'FIELD_NUMBER_OF_TUPLES',\n",
       " 'FIELD_OPERATION',\n",
       " 'FIELD_OPERATION_MODIFIED',\n",
       " 'FIELD_OPERATION_PRESERVED',\n",
       " 'FIELD_OPERATION_REINTERPOLATED',\n",
       " 'FIELD_OPERATION_REMOVED',\n",
       " 'FIELD_RANGE',\n",
       " 'FastDelete',\n",
       " 'FieldAssociations',\n",
       " 'FieldDataType',\n",
       " 'FieldOperations',\n",
       " 'FindAndGetCell',\n",
       " 'FindCell',\n",
       " 'FindPoint',\n",
       " 'GenerateGhostArray',\n",
       " 'GetActiveFieldInformation',\n",
       " 'GetActualMemorySize',\n",
       " 'GetAddressAsString',\n",
       " 'GetAssociationTypeAsString',\n",
       " 'GetAssociationTypeFromString',\n",
       " 'GetAttributeTypeForArray',\n",
       " 'GetAttributes',\n",
       " 'GetAttributesAsFieldData',\n",
       " 'GetBounds',\n",
       " 'GetCell',\n",
       " 'GetCellBounds',\n",
       " 'GetCellData',\n",
       " 'GetCellEdgeNeighbors',\n",
       " 'GetCellGhostArray',\n",
       " 'GetCellIdRelativeToCellArray',\n",
       " 'GetCellLocator',\n",
       " 'GetCellNeighbors',\n",
       " 'GetCellPoints',\n",
       " 'GetCellSize',\n",
       " 'GetCellType',\n",
       " 'GetCellTypes',\n",
       " 'GetCellsBounds',\n",
       " 'GetCenter',\n",
       " 'GetClassName',\n",
       " 'GetCommand',\n",
       " 'GetData',\n",
       " 'GetDataObjectType',\n",
       " 'GetDataReleased',\n",
       " 'GetDebug',\n",
       " 'GetEditable',\n",
       " 'GetExtentType',\n",
       " 'GetFieldData',\n",
       " 'GetGhostArray',\n",
       " 'GetGhostLevel',\n",
       " 'GetGlobalReleaseDataFlag',\n",
       " 'GetGlobalWarningDisplay',\n",
       " 'GetInformation',\n",
       " 'GetIsInMemkind',\n",
       " 'GetLength',\n",
       " 'GetLength2',\n",
       " 'GetLines',\n",
       " 'GetLinks',\n",
       " 'GetMTime',\n",
       " 'GetMaxCellSize',\n",
       " 'GetMeshMTime',\n",
       " 'GetNamedFieldInformation',\n",
       " 'GetNumberOfCells',\n",
       " 'GetNumberOfElements',\n",
       " 'GetNumberOfGenerationsFromBase',\n",
       " 'GetNumberOfGenerationsFromBaseType',\n",
       " 'GetNumberOfLines',\n",
       " 'GetNumberOfPieces',\n",
       " 'GetNumberOfPoints',\n",
       " 'GetNumberOfPolys',\n",
       " 'GetNumberOfStrips',\n",
       " 'GetNumberOfVerts',\n",
       " 'GetObjectDescription',\n",
       " 'GetObjectName',\n",
       " 'GetPiece',\n",
       " 'GetPoint',\n",
       " 'GetPointCells',\n",
       " 'GetPointData',\n",
       " 'GetPointGhostArray',\n",
       " 'GetPointLocator',\n",
       " 'GetPoints',\n",
       " 'GetPolys',\n",
       " 'GetReferenceCount',\n",
       " 'GetScalarFieldCriticalIndex',\n",
       " 'GetScalarRange',\n",
       " 'GetStrips',\n",
       " 'GetUpdateTime',\n",
       " 'GetUsingMemkind',\n",
       " 'GetVerts',\n",
       " 'GlobalReleaseDataFlagOff',\n",
       " 'GlobalReleaseDataFlagOn',\n",
       " 'GlobalWarningDisplayOff',\n",
       " 'GlobalWarningDisplayOn',\n",
       " 'HasAnyBlankCells',\n",
       " 'HasAnyBlankPoints',\n",
       " 'HasAnyGhostCells',\n",
       " 'HasAnyGhostPoints',\n",
       " 'HasObserver',\n",
       " 'Initialize',\n",
       " 'InitializeObjectBase',\n",
       " 'InsertNextCell',\n",
       " 'InsertNextLinkedCell',\n",
       " 'InsertNextLinkedPoint',\n",
       " 'InvokeEvent',\n",
       " 'IsA',\n",
       " 'IsEdge',\n",
       " 'IsPointUsedByCell',\n",
       " 'IsTriangle',\n",
       " 'IsTypeOf',\n",
       " 'MAXIMUM',\n",
       " 'MINIMUM',\n",
       " 'Modified',\n",
       " 'NUMBER_OF_ASSOCIATIONS',\n",
       " 'NUMBER_OF_ATTRIBUTE_TYPES',\n",
       " 'NeedToBuildCells',\n",
       " 'NewCellIterator',\n",
       " 'NewInstance',\n",
       " 'ORIGIN',\n",
       " 'PIECE_EXTENT',\n",
       " 'POINT',\n",
       " 'POINT_DATA_FIELD',\n",
       " 'POINT_DATA_VECTOR',\n",
       " 'POINT_THEN_CELL',\n",
       " 'PrepareForNewData',\n",
       " 'REGULAR_POINT',\n",
       " 'ROW',\n",
       " 'Register',\n",
       " 'ReleaseData',\n",
       " 'RemoveAllObservers',\n",
       " 'RemoveCellReference',\n",
       " 'RemoveDeletedCells',\n",
       " 'RemoveGhostCells',\n",
       " 'RemoveNamedFieldInformation',\n",
       " 'RemoveObserver',\n",
       " 'RemoveObservers',\n",
       " 'RemoveReferenceToCell',\n",
       " 'ReplaceCell',\n",
       " 'ReplaceCellPoint',\n",
       " 'ReplaceLinkedCell',\n",
       " 'Reset',\n",
       " 'ResizeCellList',\n",
       " 'ReverseCell',\n",
       " 'SADDLE',\n",
       " 'SIL',\n",
       " 'SPACING',\n",
       " 'SafeDownCast',\n",
       " 'SetActiveAttribute',\n",
       " 'SetActiveAttributeInfo',\n",
       " 'SetCellLocator',\n",
       " 'SetCellOrderAndRationalWeights',\n",
       " 'SetDebug',\n",
       " 'SetEditable',\n",
       " 'SetFieldData',\n",
       " 'SetGlobalReleaseDataFlag',\n",
       " 'SetGlobalWarningDisplay',\n",
       " 'SetInformation',\n",
       " 'SetLines',\n",
       " 'SetLinks',\n",
       " 'SetMemkindDirectory',\n",
       " 'SetObjectName',\n",
       " 'SetPointDataActiveScalarInfo',\n",
       " 'SetPointLocator',\n",
       " 'SetPoints',\n",
       " 'SetPolys',\n",
       " 'SetReferenceCount',\n",
       " 'SetStrips',\n",
       " 'SetVerts',\n",
       " 'ShallowCopy',\n",
       " 'Squeeze',\n",
       " 'UnRegister',\n",
       " 'UpdateCellGhostArrayCache',\n",
       " 'UpdatePointGhostArrayCache',\n",
       " 'UsesGarbageCollector',\n",
       " 'VERTEX',\n",
       " 'VERTEX_DATA_VECTOR',\n",
       " '_WRITERS',\n",
       " '__add__',\n",
       " '__annotations__',\n",
       " '__class__',\n",
       " '__del__',\n",
       " '__delattr__',\n",
       " '__dict__',\n",
       " '__dir__',\n",
       " '__doc__',\n",
       " '__eq__',\n",
       " '__format__',\n",
       " '__ge__',\n",
       " '__getattr__',\n",
       " '__getattribute__',\n",
       " '__getitem__',\n",
       " '__getstate__',\n",
       " '__gt__',\n",
       " '__hash__',\n",
       " '__iadd__',\n",
       " '__init__',\n",
       " '__init_subclass__',\n",
       " '__le__',\n",
       " '__lt__',\n",
       " '__module__',\n",
       " '__ne__',\n",
       " '__new__',\n",
       " '__reduce__',\n",
       " '__reduce_ex__',\n",
       " '__repr__',\n",
       " '__setattr__',\n",
       " '__setitem__',\n",
       " '__setstate__',\n",
       " '__sizeof__',\n",
       " '__str__',\n",
       " '__sub__',\n",
       " '__subclasshook__',\n",
       " '__this__',\n",
       " '__vtkname__',\n",
       " '__weakref__',\n",
       " '_activate_texture',\n",
       " '_active_scalars_info',\n",
       " '_active_tensors_info',\n",
       " '_active_vectors_info',\n",
       " '_association_bitarray_names',\n",
       " '_association_complex_names',\n",
       " '_boolean',\n",
       " '_clip_with_function',\n",
       " '_connectivity_array',\n",
       " '_from_file',\n",
       " '_get_attrs',\n",
       " '_ipython_key_completions_',\n",
       " '_last_active_scalars_name',\n",
       " '_make_vertex_cells',\n",
       " '_offset_array',\n",
       " '_post_file_load_processing',\n",
       " '_repr_html_',\n",
       " '_restore_metadata',\n",
       " '_store_metadata',\n",
       " '_textures',\n",
       " 'active_normals',\n",
       " 'active_scalars',\n",
       " 'active_scalars_info',\n",
       " 'active_scalars_name',\n",
       " 'active_t_coords',\n",
       " 'active_tensors',\n",
       " 'active_tensors_info',\n",
       " 'active_tensors_name',\n",
       " 'active_vectors',\n",
       " 'active_vectors_info',\n",
       " 'active_vectors_name',\n",
       " 'actual_memory_size',\n",
       " 'add_field_data',\n",
       " 'area',\n",
       " 'array_names',\n",
       " 'arrows',\n",
       " 'boolean_add',\n",
       " 'boolean_cut',\n",
       " 'boolean_difference',\n",
       " 'boolean_intersection',\n",
       " 'boolean_union',\n",
       " 'bounds',\n",
       " 'cast_to_pointset',\n",
       " 'cast_to_poly_points',\n",
       " 'cast_to_unstructured_grid',\n",
       " 'cell',\n",
       " 'cell_bounds',\n",
       " 'cell_centers',\n",
       " 'cell_data',\n",
       " 'cell_data_to_point_data',\n",
       " 'cell_n_points',\n",
       " 'cell_normals',\n",
       " 'cell_point_ids',\n",
       " 'cell_points',\n",
       " 'cell_type',\n",
       " 'center',\n",
       " 'center_of_mass',\n",
       " 'clean',\n",
       " 'clear_cell_data',\n",
       " 'clear_data',\n",
       " 'clear_field_data',\n",
       " 'clear_point_data',\n",
       " 'clear_textures',\n",
       " 'clip',\n",
       " 'clip_box',\n",
       " 'clip_closed_surface',\n",
       " 'clip_scalar',\n",
       " 'clip_surface',\n",
       " 'collision',\n",
       " 'compute_arc_length',\n",
       " 'compute_cell_quality',\n",
       " 'compute_cell_sizes',\n",
       " 'compute_derivative',\n",
       " 'compute_implicit_distance',\n",
       " 'compute_normals',\n",
       " 'connectivity',\n",
       " 'contour',\n",
       " 'contour_banded',\n",
       " 'copy',\n",
       " 'copy_attributes',\n",
       " 'copy_from',\n",
       " 'copy_meta_from',\n",
       " 'copy_structure',\n",
       " 'ctp',\n",
       " 'curvature',\n",
       " 'decimate',\n",
       " 'decimate_boundary',\n",
       " 'decimate_pro',\n",
       " 'deep_copy',\n",
       " 'delaunay_2d',\n",
       " 'delaunay_3d',\n",
       " 'edge_mask',\n",
       " 'elevation',\n",
       " 'explode',\n",
       " 'extract_all_edges',\n",
       " 'extract_cells',\n",
       " 'extract_feature_edges',\n",
       " 'extract_geometry',\n",
       " 'extract_largest',\n",
       " 'extract_points',\n",
       " 'extract_surface',\n",
       " 'extrude',\n",
       " 'extrude_rotate',\n",
       " 'extrude_trim',\n",
       " 'face_normals',\n",
       " 'faces',\n",
       " 'field_data',\n",
       " 'fill_holes',\n",
       " 'find_cells_along_line',\n",
       " 'find_cells_within_bounds',\n",
       " 'find_closest_cell',\n",
       " 'find_closest_point',\n",
       " 'find_containing_cell',\n",
       " 'flip_normal',\n",
       " 'flip_normals',\n",
       " 'flip_x',\n",
       " 'flip_y',\n",
       " 'flip_z',\n",
       " 'geodesic',\n",
       " 'geodesic_distance',\n",
       " 'get_array',\n",
       " 'get_array_association',\n",
       " 'get_cell',\n",
       " 'get_data_range',\n",
       " 'glyph',\n",
       " 'head',\n",
       " 'integrate_data',\n",
       " 'interpolate',\n",
       " 'intersection',\n",
       " 'is_all_triangles',\n",
       " 'is_manifold',\n",
       " 'length',\n",
       " 'lines',\n",
       " 'memory_address',\n",
       " 'merge',\n",
       " 'multi_ray_trace',\n",
       " 'n_arrays',\n",
       " 'n_cells',\n",
       " 'n_faces',\n",
       " 'n_lines',\n",
       " 'n_open_edges',\n",
       " 'n_points',\n",
       " 'n_strips',\n",
       " 'n_verts',\n",
       " 'number_of_cells',\n",
       " 'number_of_faces',\n",
       " 'number_of_points',\n",
       " 'obbTree',\n",
       " 'outline',\n",
       " 'outline_corners',\n",
       " 'override',\n",
       " 'overwrite',\n",
       " 'partition',\n",
       " 'plot',\n",
       " 'plot_boundaries',\n",
       " 'plot_curvature',\n",
       " 'plot_normals',\n",
       " 'plot_over_circular_arc',\n",
       " 'plot_over_circular_arc_normal',\n",
       " 'plot_over_line',\n",
       " 'point_data',\n",
       " 'point_data_to_cell_data',\n",
       " 'point_is_inside_cell',\n",
       " 'point_normals',\n",
       " 'points',\n",
       " 'points_to_double',\n",
       " 'probe',\n",
       " 'project_points_to_plane',\n",
       " 'ptc',\n",
       " 'ray_trace',\n",
       " 'reconstruct_surface',\n",
       " 'reflect',\n",
       " 'remove_cells',\n",
       " 'remove_points',\n",
       " 'rename_array',\n",
       " 'ribbon',\n",
       " 'rotate_vector',\n",
       " 'rotate_x',\n",
       " 'rotate_y',\n",
       " 'rotate_z',\n",
       " 'sample',\n",
       " 'sample_over_circular_arc',\n",
       " 'sample_over_circular_arc_normal',\n",
       " 'sample_over_line',\n",
       " 'sample_over_multiple_lines',\n",
       " 'save',\n",
       " 'scale',\n",
       " 'select_enclosed_points',\n",
       " 'separate_cells',\n",
       " 'set_active_scalars',\n",
       " 'set_active_tensors',\n",
       " 'set_active_vectors',\n",
       " 'shallow_copy',\n",
       " 'shrink',\n",
       " 'slice',\n",
       " 'slice_along_axis',\n",
       " 'slice_along_line',\n",
       " 'slice_implicit',\n",
       " 'slice_orthogonal',\n",
       " 'smooth',\n",
       " 'smooth_taubin',\n",
       " 'split_bodies',\n",
       " 'streamlines',\n",
       " 'streamlines_evenly_spaced_2D',\n",
       " 'streamlines_from_source',\n",
       " 'strip',\n",
       " 'strips',\n",
       " 'subdivide',\n",
       " 'subdivide_adaptive',\n",
       " 'surface_indices',\n",
       " 'tessellate',\n",
       " 'texture_map_to_plane',\n",
       " 'texture_map_to_sphere',\n",
       " 'textures',\n",
       " 'threshold',\n",
       " 'threshold_percent',\n",
       " 'transform',\n",
       " 'translate',\n",
       " 'triangulate',\n",
       " 'tube',\n",
       " 'verts',\n",
       " 'volume',\n",
       " 'warp_by_scalar',\n",
       " 'warp_by_vector']"
      ]
     },
     "execution_count": 14,
     "metadata": {},
     "output_type": "execute_result"
    }
   ],
   "source": [
    "dir(m1)"
   ]
  },
  {
   "cell_type": "code",
   "execution_count": 17,
   "id": "39bc4eb9",
   "metadata": {},
   "outputs": [
    {
     "data": {
      "text/html": [
       "\n",
       "<table>\n",
       "<tr><th>PolyData</th><th>Information</th></tr>\n",
       "<tr><td>N Cells</td><td>225004</td></tr>\n",
       "<tr><td>N Points</td><td>112970</td></tr>\n",
       "<tr><td>N Strips</td><td>0</td></tr>\n",
       "<tr><td>X Bounds</td><td>-5.756e+01, 3.300e+00</td></tr>\n",
       "<tr><td>Y Bounds</td><td>-8.162e+01, 8.278e+01</td></tr>\n",
       "<tr><td>Z Bounds</td><td>-5.884e+01, 4.715e+01</td></tr>\n",
       "<tr><td>N Arrays</td><td>0</td></tr>\n",
       "</table>\n",
       "\n"
      ],
      "text/plain": [
       "PolyData (0x7f1a85449820)\n",
       "  N Cells:    225004\n",
       "  N Points:   112970\n",
       "  N Strips:   0\n",
       "  X Bounds:   -5.756e+01, 3.300e+00\n",
       "  Y Bounds:   -8.162e+01, 8.278e+01\n",
       "  Z Bounds:   -5.884e+01, 4.715e+01\n",
       "  N Arrays:   0"
      ]
     },
     "execution_count": 17,
     "metadata": {},
     "output_type": "execute_result"
    }
   ],
   "source": [
    "m2"
   ]
  },
  {
   "cell_type": "code",
   "execution_count": 18,
   "id": "34ed9a05",
   "metadata": {},
   "outputs": [
    {
     "data": {
      "text/html": [
       "<table><tr><th>Header</th><th>Data Arrays</th></tr><tr><td>\n",
       "<table>\n",
       "<tr><th>PolyData</th><th>Information</th></tr>\n",
       "<tr><td>N Cells</td><td>3568</td></tr>\n",
       "<tr><td>N Points</td><td>3576</td></tr>\n",
       "<tr><td>N Strips</td><td>0</td></tr>\n",
       "<tr><td>X Bounds</td><td>-4.692e+01, 2.118e+00</td></tr>\n",
       "<tr><td>Y Bounds</td><td>-7.521e+01, 1.520e+01</td></tr>\n",
       "<tr><td>Z Bounds</td><td>-4.600e+01, 3.476e+01</td></tr>\n",
       "<tr><td>N Arrays</td><td>3</td></tr>\n",
       "</table>\n",
       "\n",
       "</td><td>\n",
       "<table>\n",
       "<tr><th>Name</th><th>Field</th><th>Type</th><th>N Comp</th><th>Min</th><th>Max</th></tr>\n",
       "<tr><td>SurfaceID</td><td>Points</td><td>int64</td><td>1</td><td>1.000e+00</td><td>2.000e+00</td></tr>\n",
       "<tr><td>Input0CellID</td><td>Cells</td><td>int64</td><td>1</td><td>5.395e+03</td><td>2.415e+05</td></tr>\n",
       "<tr><td>Input1CellID</td><td>Cells</td><td>int64</td><td>1</td><td>5.396e+03</td><td>2.425e+05</td></tr>\n",
       "</table>\n",
       "\n",
       "</td></tr> </table>"
      ],
      "text/plain": [
       "PolyData (0x7f1a889b6ee0)\n",
       "  N Cells:    3568\n",
       "  N Points:   3576\n",
       "  N Strips:   0\n",
       "  X Bounds:   -4.692e+01, 2.118e+00\n",
       "  Y Bounds:   -7.521e+01, 1.520e+01\n",
       "  Z Bounds:   -4.600e+01, 3.476e+01\n",
       "  N Arrays:   3"
      ]
     },
     "execution_count": 18,
     "metadata": {},
     "output_type": "execute_result"
    }
   ],
   "source": [
    "m3"
   ]
  },
  {
   "cell_type": "code",
   "execution_count": null,
   "id": "9ff5fd53",
   "metadata": {},
   "outputs": [],
   "source": []
  },
  {
   "cell_type": "code",
   "execution_count": 9,
   "id": "852cba05",
   "metadata": {},
   "outputs": [],
   "source": [
    "start = 0\n",
    "end = start + 1\n",
    "\n",
    "a = []\n",
    "for i,(f1,f2) in enumerate(filepairs[start: ]):\n",
    "    tmp_idx = i + start\n",
    "    s1,s2 = pv.read(f1),pv.read(f2)\n",
    "    d, _, _ = s1.intersection(s2); \n",
    "    # ----------------------calc and cut----------------------\n",
    "    bounds = get_xyz_limits(s1)\n",
    "    m1 = removecells(s1,bounds)\n",
    "    m2 = removecells(s2,bounds)\n",
    "    m3 = removecells(intersection, bounds)\n",
    "    \n",
    "    a.append([f1, tmp_idx, len(d.points),len(e.points), len(m1.)])"
   ]
  },
  {
   "cell_type": "markdown",
   "id": "0ed7d5b8",
   "metadata": {},
   "source": [
    "# do DCSR"
   ]
  },
  {
   "cell_type": "code",
   "execution_count": 10,
   "id": "97588533",
   "metadata": {},
   "outputs": [],
   "source": [
    "f1,f2 = filepairs[0]"
   ]
  },
  {
   "cell_type": "code",
   "execution_count": 59,
   "id": "9fe27acc",
   "metadata": {},
   "outputs": [],
   "source": [
    "f1 = '/data/users2/washbee/speedrun/outputdirs/deepcsr-output_dir-timing/checkpoints/test-set/lh_pial/201818_lh_pial.stl'"
   ]
  },
  {
   "cell_type": "code",
   "execution_count": 60,
   "id": "ca4567da",
   "metadata": {},
   "outputs": [],
   "source": [
    "f2 = '/data/users2/washbee/speedrun/outputdirs/deepcsr-output_dir-timing/checkpoints/test-set/lh_white/201818_lh_white.stl'"
   ]
  },
  {
   "cell_type": "code",
   "execution_count": 61,
   "id": "d6a232d1",
   "metadata": {},
   "outputs": [
    {
     "data": {
      "text/plain": [
       "'/data/users2/washbee/speedrun/outputdirs/deepcsr-output_dir-timing/checkpoints/test-set/lh_pial/201818_lh_pial.stl'"
      ]
     },
     "execution_count": 61,
     "metadata": {},
     "output_type": "execute_result"
    }
   ],
   "source": [
    "f1"
   ]
  },
  {
   "cell_type": "code",
   "execution_count": 62,
   "id": "404456db",
   "metadata": {},
   "outputs": [
    {
     "data": {
      "text/plain": [
       "'/data/users2/washbee/speedrun/outputdirs/deepcsr-output_dir-timing/checkpoints/test-set/lh_white/201818_lh_white.stl'"
      ]
     },
     "execution_count": 62,
     "metadata": {},
     "output_type": "execute_result"
    }
   ],
   "source": [
    "f2"
   ]
  },
  {
   "cell_type": "code",
   "execution_count": 63,
   "id": "f820dc56",
   "metadata": {},
   "outputs": [],
   "source": [
    "s1 = pv.read(f1)\n",
    "s2 = pv.read(f2)"
   ]
  },
  {
   "cell_type": "code",
   "execution_count": 14,
   "id": "53e2d5cb",
   "metadata": {},
   "outputs": [],
   "source": [
    "# pl = pv.Plotter(window_size=(800,800))\n",
    "# _ = pl.add_mesh(s1, style='wireframe', color='blue', line_width=10)\n",
    "\n",
    "# _ = pl.add_mesh(s2, style='wireframe',color='red', line_width=10)\n",
    "# _ = pl.add_mesh(intersection, color=c[2], line_width=line_width2)\n",
    "# pl.view_yz()\n",
    "# pl.set_viewup(view_up1)\n",
    "\n",
    "\n",
    "# pl.show()"
   ]
  },
  {
   "cell_type": "code",
   "execution_count": 64,
   "id": "aac38076",
   "metadata": {},
   "outputs": [],
   "source": [
    "intersection, s1_split, s2_split = s1.intersection(s2)"
   ]
  },
  {
   "cell_type": "markdown",
   "id": "547ae6f0",
   "metadata": {},
   "source": [
    "# pickle save intersection.points, s1.points, s2.points"
   ]
  },
  {
   "cell_type": "markdown",
   "id": "29469833",
   "metadata": {},
   "source": [
    "## get min, max for x, y, z in the brain"
   ]
  },
  {
   "cell_type": "code",
   "execution_count": 65,
   "id": "b3e3391e",
   "metadata": {},
   "outputs": [],
   "source": [
    "fname = f1.split('/')[-1].split('.')[0] + '_white'\n",
    "with open('./dcsr-intersection-{}.pickle'.format(fname),'wb') as p:\n",
    "    pickle.dump(intersection, p)"
   ]
  },
  {
   "cell_type": "code",
   "execution_count": 67,
   "id": "2ebbe409",
   "metadata": {},
   "outputs": [],
   "source": [
    "dic = {'max-s1':np.array(np.max(s1.points,axis=0)),\n",
    "       'min-s1':np.array(np.min(s1.points,axis=0)),\n",
    "       'max-s2':np.array(np.max(s2.points,axis=0)),\n",
    "       'min-s2':np.array(np.min(s2.points,axis=0)),\n",
    "      }\n",
    "with open('./dcsr-s1s2-{}.pickle'.format(fname),'wb') as p:\n",
    "    pickle.dump(dic, p)"
   ]
  },
  {
   "cell_type": "code",
   "execution_count": null,
   "id": "cc2aac78",
   "metadata": {},
   "outputs": [],
   "source": []
  },
  {
   "cell_type": "code",
   "execution_count": null,
   "id": "658a2ea4",
   "metadata": {},
   "outputs": [],
   "source": []
  },
  {
   "cell_type": "code",
   "execution_count": 54,
   "id": "2ff75dab",
   "metadata": {},
   "outputs": [
    {
     "data": {
      "text/plain": [
       "pyvista_ndarray([ 3.7536075, 72.08017  , 80.0375   ], dtype=float32)"
      ]
     },
     "execution_count": 54,
     "metadata": {},
     "output_type": "execute_result"
    }
   ],
   "source": [
    "np.max(s1.points,axis=0)"
   ]
  },
  {
   "cell_type": "code",
   "execution_count": 57,
   "id": "f17dac23",
   "metadata": {},
   "outputs": [
    {
     "data": {
      "text/plain": [
       "pyvista_ndarray([ -69.73621 , -108.386856,  -48.4087  ], dtype=float32)"
      ]
     },
     "execution_count": 57,
     "metadata": {},
     "output_type": "execute_result"
    }
   ],
   "source": [
    "np.min(s1.points,axis=0)"
   ]
  },
  {
   "cell_type": "code",
   "execution_count": 58,
   "id": "2ccd461b",
   "metadata": {},
   "outputs": [
    {
     "data": {
      "text/plain": [
       "'/data/users2/washbee/speedrun/outputdirs/deepcsr-output_dir-timing/checkpoints/test-set/lh_pial/200008_lh_pial.stl'"
      ]
     },
     "execution_count": 58,
     "metadata": {},
     "output_type": "execute_result"
    }
   ],
   "source": [
    "f1"
   ]
  },
  {
   "cell_type": "code",
   "execution_count": null,
   "id": "df1b0a72",
   "metadata": {},
   "outputs": [],
   "source": []
  },
  {
   "cell_type": "code",
   "execution_count": 34,
   "id": "94764eac",
   "metadata": {},
   "outputs": [],
   "source": [
    "import pickle\n",
    "\n",
    "with open('./intersection-all-test.pickle','wb') as p:\n",
    "    pickle.dump(intersection, p)"
   ]
  },
  {
   "cell_type": "code",
   "execution_count": 35,
   "id": "d5d2918f",
   "metadata": {},
   "outputs": [],
   "source": [
    "with open('./intersection-all-test.pickle','rb') as p:\n",
    "    hehe = pickle.load(p)"
   ]
  },
  {
   "cell_type": "code",
   "execution_count": null,
   "id": "e57a765f",
   "metadata": {},
   "outputs": [],
   "source": []
  },
  {
   "cell_type": "code",
   "execution_count": null,
   "id": "bc4890d8",
   "metadata": {},
   "outputs": [],
   "source": []
  },
  {
   "cell_type": "code",
   "execution_count": null,
   "id": "4dc33573",
   "metadata": {},
   "outputs": [],
   "source": []
  },
  {
   "cell_type": "code",
   "execution_count": null,
   "id": "df5c5b87",
   "metadata": {},
   "outputs": [],
   "source": []
  },
  {
   "cell_type": "code",
   "execution_count": null,
   "id": "3d82e9aa",
   "metadata": {},
   "outputs": [],
   "source": []
  },
  {
   "cell_type": "code",
   "execution_count": null,
   "id": "8b61372f",
   "metadata": {},
   "outputs": [],
   "source": [
    "for f1,f2 in filepairs[:5]:\n",
    "    s1 = pv.read(f1)\n",
    "    s2 = pv.read(f2)\n",
    "    s1.save('s1.vtk')\n",
    "    s2.save('s2.vtk')\n",
    "    s1 = pv.read('s1.vtk')\n",
    "    s2 = pv.read('s2.vtk')\n",
    "    try:\n",
    "        d, t, _ = s1.intersection(s2)\n",
    "        print(len(d.points), len(t.points))\n",
    "    except:\n",
    "        print(f1)\n",
    "    "
   ]
  },
  {
   "cell_type": "code",
   "execution_count": null,
   "id": "2700a092",
   "metadata": {},
   "outputs": [],
   "source": []
  },
  {
   "cell_type": "code",
   "execution_count": 15,
   "id": "2cdcc7dc",
   "metadata": {},
   "outputs": [
    {
     "data": {
      "text/plain": [
       "'/data/users2/washbee/speedrun/outputdirs/deepcsr-output_dir-timing/checkpoints/test-set/lh_pial/200008_lh_pial.stl'"
      ]
     },
     "execution_count": 15,
     "metadata": {},
     "output_type": "execute_result"
    }
   ],
   "source": [
    "f1"
   ]
  },
  {
   "cell_type": "code",
   "execution_count": 14,
   "id": "cf87c5b3",
   "metadata": {
    "scrolled": true
   },
   "outputs": [
    {
     "data": {
      "text/plain": [
       "(PolyData (0x7f46849e19a0)\n",
       "   N Cells:    1925\n",
       "   N Points:   1878\n",
       "   N Strips:   0\n",
       "   X Bounds:   -2.725e+01, 2.109e-01\n",
       "   Y Bounds:   -9.440e+01, 3.099e+01\n",
       "   Z Bounds:   -2.063e+01, 2.799e+01\n",
       "   N Arrays:   3,\n",
       " PolyData (0x7f46849e1ac0)\n",
       "   N Cells:    152309\n",
       "   N Points:   154858\n",
       "   N Strips:   0\n",
       "   X Bounds:   -6.974e+01, 3.754e+00\n",
       "   Y Bounds:   -1.084e+02, 7.208e+01\n",
       "   Z Bounds:   -4.841e+01, 8.004e+01\n",
       "   N Arrays:   0,\n",
       " PolyData (0x7f46849e18e0)\n",
       "   N Cells:    0\n",
       "   N Points:   0\n",
       "   N Strips:   0\n",
       "   X Bounds:   1.000e+299, -1.000e+299\n",
       "   Y Bounds:   1.000e+299, -1.000e+299\n",
       "   Z Bounds:   1.000e+299, -1.000e+299\n",
       "   N Arrays:   0)"
      ]
     },
     "execution_count": 14,
     "metadata": {},
     "output_type": "execute_result"
    }
   ],
   "source": [
    "s1.intersection(s2)"
   ]
  },
  {
   "cell_type": "code",
   "execution_count": 9,
   "id": "228362d6",
   "metadata": {},
   "outputs": [],
   "source": [
    "s = s1\n",
    "points = s.points\n",
    "faces = s.faces\n",
    "mesh = pv.PolyData(points, faces)\n",
    "mesh1 = mesh\n",
    "repeat = points[0]\n",
    "lastrepeat = points[-1]\n",
    "\n",
    "s = s2\n",
    "points = s.points[1:-1]\n",
    "faces = s.faces\n",
    "mesh = pv.PolyData([repeat] + points + [lastrepeat], faces)\n",
    "mesh2 = mesh"
   ]
  },
  {
   "cell_type": "code",
   "execution_count": null,
   "id": "7aa2b23b",
   "metadata": {},
   "outputs": [],
   "source": [
    "d, _, _ = mesh1.intersection(mesh2); "
   ]
  },
  {
   "cell_type": "code",
   "execution_count": null,
   "id": "7b3ab32e",
   "metadata": {},
   "outputs": [],
   "source": [
    "len(d.points)"
   ]
  },
  {
   "cell_type": "code",
   "execution_count": null,
   "id": "a82fc176",
   "metadata": {},
   "outputs": [],
   "source": [
    "len(s1.points)"
   ]
  },
  {
   "cell_type": "code",
   "execution_count": null,
   "id": "93aa8e04",
   "metadata": {},
   "outputs": [],
   "source": [
    "len(d.points),len(e.points)"
   ]
  },
  {
   "cell_type": "code",
   "execution_count": null,
   "id": "e76400d0",
   "metadata": {},
   "outputs": [],
   "source": [
    "del s1,s2,d,e,c"
   ]
  },
  {
   "cell_type": "code",
   "execution_count": null,
   "id": "b44c43d5",
   "metadata": {},
   "outputs": [],
   "source": [
    "#     s1,s2 = pv.read(f1),pv.read(f2)\n",
    "#     d, e, c = s1.intersection(s2); \n",
    "#     a.append([len(d.points),len(e.points)])"
   ]
  },
  {
   "cell_type": "code",
   "execution_count": null,
   "id": "9a34fcf8",
   "metadata": {},
   "outputs": [],
   "source": [
    "import time"
   ]
  },
  {
   "cell_type": "code",
   "execution_count": null,
   "id": "287a6c53",
   "metadata": {},
   "outputs": [],
   "source": []
  },
  {
   "cell_type": "code",
   "execution_count": null,
   "id": "c58feec6",
   "metadata": {},
   "outputs": [],
   "source": [
    "for f1,f2 in filepairs[start: ]:\n",
    "    s1 = pv.read(f1)\n",
    "    s2 = pv.read(f2)\n",
    "    d, e, c = s1.intersection(s2); \n",
    "    del s1,s2,f1,f2\n",
    "    a.append([len(d.points),len(e.points)])\n",
    "    time.sleep(10)\n",
    "    del d,e,c"
   ]
  },
  {
   "cell_type": "code",
   "execution_count": null,
   "id": "fc0f559b",
   "metadata": {},
   "outputs": [],
   "source": [
    "start = 0\n",
    "end = start + 5\n",
    "\n",
    "a = []\n",
    "for f1,f2 in filepairs[start: ]:\n",
    "    s1 = pv.read(f1)\n",
    "    s2 = pv.read(f2)\n",
    "    d, e, c = s1.intersection(s2); \n",
    "    del s1,s2,f1,f2\n",
    "    a.append([len(d.points),len(e.points)])\n",
    "    time.sleep(10)\n",
    "    del d,e,c"
   ]
  },
  {
   "cell_type": "code",
   "execution_count": null,
   "id": "db45da91",
   "metadata": {},
   "outputs": [],
   "source": []
  },
  {
   "cell_type": "markdown",
   "id": "228c88f3",
   "metadata": {},
   "source": [
    "## using Pymesh"
   ]
  },
  {
   "cell_type": "code",
   "execution_count": null,
   "id": "42f8a574",
   "metadata": {},
   "outputs": [],
   "source": [
    "!pip install pymesh"
   ]
  },
  {
   "cell_type": "code",
   "execution_count": null,
   "id": "f478d69a",
   "metadata": {},
   "outputs": [],
   "source": [
    "import pymesh"
   ]
  },
  {
   "cell_type": "code",
   "execution_count": null,
   "id": "1c438482",
   "metadata": {},
   "outputs": [],
   "source": [
    "s1.faces"
   ]
  },
  {
   "cell_type": "code",
   "execution_count": null,
   "id": "a87a346b",
   "metadata": {},
   "outputs": [],
   "source": [
    "s1.verts"
   ]
  },
  {
   "cell_type": "code",
   "execution_count": null,
   "id": "1cf2c27e",
   "metadata": {},
   "outputs": [],
   "source": [
    "s1.verts"
   ]
  },
  {
   "cell_type": "code",
   "execution_count": null,
   "id": "d517bb29",
   "metadata": {},
   "outputs": [],
   "source": [
    "pymesh.load_mesh(f1)"
   ]
  },
  {
   "cell_type": "markdown",
   "id": "e282a296",
   "metadata": {},
   "source": [
    "## using Trimesh"
   ]
  },
  {
   "cell_type": "code",
   "execution_count": null,
   "id": "2c119888",
   "metadata": {},
   "outputs": [],
   "source": [
    "mesh = trimesh.load_mesh(f1)"
   ]
  },
  {
   "cell_type": "code",
   "execution_count": null,
   "id": "215a5726",
   "metadata": {},
   "outputs": [],
   "source": [
    "with open(f1,'rb') as f_obj:\n",
    "    mesh = trimesh.load_mesh(f_obj)"
   ]
  },
  {
   "cell_type": "markdown",
   "id": "e54090ba",
   "metadata": {},
   "source": [
    "## get file tytpe using mimetype"
   ]
  },
  {
   "cell_type": "code",
   "execution_count": null,
   "id": "4ad49e2d",
   "metadata": {},
   "outputs": [],
   "source": [
    "import mimetypes\n",
    "\n",
    "mime_type, _ = mimetypes.guess_type(f1)\n",
    "\n",
    "print(mime_type)\n"
   ]
  },
  {
   "cell_type": "markdown",
   "id": "c25515b7",
   "metadata": {},
   "source": [
    "## using pyvista"
   ]
  },
  {
   "cell_type": "code",
   "execution_count": null,
   "id": "5f19cfc7",
   "metadata": {},
   "outputs": [],
   "source": [
    "s = s1\n",
    "points = s.points\n",
    "faces = s.faces\n",
    "mesh = pv.PolyData(points, faces)\n",
    "mesh1 = mesh"
   ]
  },
  {
   "cell_type": "code",
   "execution_count": null,
   "id": "65ed449b",
   "metadata": {},
   "outputs": [],
   "source": [
    "s = s2\n",
    "points = s.points\n",
    "faces = s.faces\n",
    "mesh = pv.PolyData(points, faces)\n",
    "mesh2 = mesh"
   ]
  },
  {
   "cell_type": "code",
   "execution_count": null,
   "id": "24a1bdb1",
   "metadata": {},
   "outputs": [],
   "source": [
    "help(mesh1.intersection)"
   ]
  },
  {
   "cell_type": "code",
   "execution_count": null,
   "id": "a9016d22",
   "metadata": {},
   "outputs": [],
   "source": [
    "mesh1.intersection(mesh2, tolerance = .1)"
   ]
  },
  {
   "cell_type": "markdown",
   "id": "513afd82",
   "metadata": {},
   "source": [
    "## set tolerance"
   ]
  },
  {
   "cell_type": "code",
   "execution_count": null,
   "id": "d80d8c18",
   "metadata": {},
   "outputs": [],
   "source": [
    "filter = pv.Intersect(polydataA=mesh1, polydataB=mesh2)\n",
    "filter.set(abs_tol=0.1, rel_tol=0.01)\n",
    "intersection = filter.run()"
   ]
  },
  {
   "cell_type": "code",
   "execution_count": null,
   "id": "ff92ed5a",
   "metadata": {},
   "outputs": [],
   "source": [
    "try\n",
    "intersection = mesh1.extract_surface().boolean_difference(mesh2, tolerance=0.1)"
   ]
  },
  {
   "cell_type": "markdown",
   "id": "358e3ac6",
   "metadata": {},
   "source": [
    "## original method"
   ]
  },
  {
   "cell_type": "code",
   "execution_count": null,
   "id": "1c904efe",
   "metadata": {},
   "outputs": [],
   "source": [
    "s1.intersection(s2)"
   ]
  },
  {
   "cell_type": "code",
   "execution_count": null,
   "id": "76adbb52",
   "metadata": {},
   "outputs": [],
   "source": [
    "trimesh.intersections()"
   ]
  },
  {
   "cell_type": "code",
   "execution_count": null,
   "id": "cbea0669",
   "metadata": {},
   "outputs": [],
   "source": [
    "points"
   ]
  },
  {
   "cell_type": "code",
   "execution_count": null,
   "id": "1a3640fd",
   "metadata": {
    "scrolled": true
   },
   "outputs": [],
   "source": [
    "faces"
   ]
  },
  {
   "cell_type": "code",
   "execution_count": null,
   "id": "1bf401dc",
   "metadata": {},
   "outputs": [],
   "source": [
    "!pip install meshpy"
   ]
  },
  {
   "cell_type": "code",
   "execution_count": null,
   "id": "6fba94d5",
   "metadata": {},
   "outputs": [],
   "source": []
  },
  {
   "cell_type": "code",
   "execution_count": null,
   "id": "b3c3f231",
   "metadata": {},
   "outputs": [],
   "source": []
  },
  {
   "cell_type": "code",
   "execution_count": null,
   "id": "0f9f0f62",
   "metadata": {
    "scrolled": false
   },
   "outputs": [],
   "source": []
  },
  {
   "cell_type": "code",
   "execution_count": null,
   "id": "7456c5db",
   "metadata": {},
   "outputs": [],
   "source": []
  },
  {
   "cell_type": "code",
   "execution_count": null,
   "id": "a48a84c1",
   "metadata": {},
   "outputs": [],
   "source": [
    "try:\n",
    "    \n",
    "except Exception:\n",
    "    sys.exc_clear()\n",
    "    "
   ]
  },
  {
   "cell_type": "code",
   "execution_count": null,
   "id": "0b594c6c",
   "metadata": {},
   "outputs": [],
   "source": []
  },
  {
   "cell_type": "code",
   "execution_count": null,
   "id": "a49463c4",
   "metadata": {},
   "outputs": [],
   "source": [
    "import meshpy.triangle as triangle\n",
    "\n",
    "intersection = triangle.intersection(mesh1, mesh2)\n",
    "\n",
    "# Print the resulting mesh\n",
    "print(intersection)\n"
   ]
  },
  {
   "cell_type": "code",
   "execution_count": null,
   "id": "89c24565",
   "metadata": {},
   "outputs": [],
   "source": [
    "# Get the VTK data object\n",
    "vtk_data = s1.GetOutput()\n",
    "\n",
    "# Cast to a vtkPolyData object\n",
    "polydata_vtk = vtk.vtkPolyData.SafeDownCast(vtk_data)"
   ]
  },
  {
   "cell_type": "code",
   "execution_count": null,
   "id": "88ed3014",
   "metadata": {},
   "outputs": [],
   "source": [
    "s1.intersection(s2)"
   ]
  },
  {
   "cell_type": "code",
   "execution_count": null,
   "id": "30ecdf1c",
   "metadata": {},
   "outputs": [],
   "source": []
  },
  {
   "cell_type": "markdown",
   "id": "2dcecfd0",
   "metadata": {},
   "source": [
    "## try using numpy_stl"
   ]
  },
  {
   "cell_type": "code",
   "execution_count": null,
   "id": "5826ef3a",
   "metadata": {},
   "outputs": [],
   "source": [
    "!pip install stl"
   ]
  },
  {
   "cell_type": "code",
   "execution_count": null,
   "id": "735c61ec",
   "metadata": {},
   "outputs": [],
   "source": [
    "!pip install numpy-stl --upgrade"
   ]
  },
  {
   "cell_type": "code",
   "execution_count": null,
   "id": "5b5d5f29",
   "metadata": {},
   "outputs": [],
   "source": [
    "!pip install stl"
   ]
  },
  {
   "cell_type": "code",
   "execution_count": null,
   "id": "77a78e4f",
   "metadata": {},
   "outputs": [],
   "source": [
    "type(s1)"
   ]
  },
  {
   "cell_type": "code",
   "execution_count": null,
   "id": "9bcd1839",
   "metadata": {},
   "outputs": [],
   "source": [
    "dir(s1)"
   ]
  },
  {
   "cell_type": "code",
   "execution_count": null,
   "id": "bdc11b70",
   "metadata": {
    "scrolled": true
   },
   "outputs": [],
   "source": [
    "from stl import mesh\n",
    "\n",
    "with open(f1, 'rb') as f:\n",
    "    mesh = mesh.Mesh.from_bytes(stl_data)\n",
    "#     mesh1 = trimesh.exchange.stl.load_stl(f.read())"
   ]
  },
  {
   "cell_type": "code",
   "execution_count": null,
   "id": "6de91961",
   "metadata": {},
   "outputs": [],
   "source": [
    "dir(s1)"
   ]
  },
  {
   "cell_type": "code",
   "execution_count": null,
   "id": "92cedb6e",
   "metadata": {},
   "outputs": [],
   "source": [
    "# mesh1 = trimesh.exchange.stl.load_stl_binary(s1)\n",
    "mesh1 = trimesh.exchange.stl.load_stl_binary(s1)"
   ]
  },
  {
   "cell_type": "code",
   "execution_count": null,
   "id": "2f098c6e",
   "metadata": {},
   "outputs": [],
   "source": [
    "mesh1 = trimesh.load(f1)\n",
    "mesh2 = trimesh.load(f2)"
   ]
  },
  {
   "cell_type": "code",
   "execution_count": null,
   "id": "48a31222",
   "metadata": {},
   "outputs": [],
   "source": [
    "import trimesh\n",
    "\n",
    "# Load the meshes\n",
    "\n",
    "\n",
    "# Calculate the intersection points\n",
    "intersection = trimesh.intersections.mesh_multiplane(mesh1, mesh2)\n",
    "\n",
    "# Print the intersection points\n",
    "print(intersection)\n"
   ]
  },
  {
   "cell_type": "markdown",
   "id": "22411aa1",
   "metadata": {},
   "source": [
    "# testing pyvista intersection function"
   ]
  },
  {
   "cell_type": "code",
   "execution_count": null,
   "id": "058bf1fa",
   "metadata": {},
   "outputs": [],
   "source": [
    "s1 = pv.read(f1)\n",
    "s2 = pv.read(f2)"
   ]
  },
  {
   "cell_type": "code",
   "execution_count": null,
   "id": "feca2cbb",
   "metadata": {},
   "outputs": [],
   "source": [
    "# result = s1.boolean_intersection(s2) # takes really long time to run"
   ]
  },
  {
   "cell_type": "code",
   "execution_count": null,
   "id": "41dee556",
   "metadata": {},
   "outputs": [],
   "source": [
    "s1.intersection(s2)"
   ]
  },
  {
   "cell_type": "code",
   "execution_count": null,
   "id": "a63d24fb",
   "metadata": {},
   "outputs": [],
   "source": []
  },
  {
   "cell_type": "code",
   "execution_count": null,
   "id": "928b9e6a",
   "metadata": {},
   "outputs": [],
   "source": [
    "reader = pv.get_reader(f1)\n",
    "mesh1 = reader.read()\n",
    "reader = pv.get_reader(f2)\n",
    "mesh2 = reader.read()"
   ]
  },
  {
   "cell_type": "code",
   "execution_count": null,
   "id": "752449a0",
   "metadata": {},
   "outputs": [],
   "source": [
    "!pip install vtki"
   ]
  },
  {
   "cell_type": "code",
   "execution_count": null,
   "id": "30e52c66",
   "metadata": {},
   "outputs": [],
   "source": [
    "import vtk\n",
    "import vtki"
   ]
  },
  {
   "cell_type": "code",
   "execution_count": null,
   "id": "ba9273cd",
   "metadata": {},
   "outputs": [],
   "source": []
  },
  {
   "cell_type": "code",
   "execution_count": null,
   "id": "e343d99d",
   "metadata": {},
   "outputs": [],
   "source": [
    "f1"
   ]
  },
  {
   "cell_type": "code",
   "execution_count": null,
   "id": "dbd115e0",
   "metadata": {},
   "outputs": [],
   "source": [
    "\n",
    "def get_mesh_intersection(mesh1, mesh2):\n",
    "    '''\n",
    "    Find the intersection volume between mesh vtk objects\n",
    "    and return the volume of intersection\n",
    "    '''\n",
    "    alg = vtk.vtkBooleanOperationPolyDataFilter()\n",
    "    alg.SetInputData(0, mesh2)\n",
    "    alg.SetInputData(1, mesh1)\n",
    "    alg.SetOperationToIntersection()\n",
    "    alg.Update()\n",
    "    intersection = vtki.wrap(alg.GetOutput())\n",
    "    return intersection\n",
    "\n",
    "# Load meshes\n",
    "# Load meshes\n",
    "mesh_i = vtki.read(f1)\n",
    "mesh_j = vtki.read(f2)\n",
    "\n",
    "print('VOLUME of probe1:\\t', mesh_i.volume, '# of Polys:\\t', mesh_i.n_faces)\n",
    "print('VOLUME of probe2:\\t', mesh_j.volume, '# of Polys:\\t', mesh_j.n_faces)\n",
    "intersection = get_mesh_intersection(mesh_i, mesh_j)\n",
    "print('INTERSECTION VOLUME:\\t', intersection.volume)\n",
    "\n",
    "print('VOLUME of probe1:\\t', mesh1.volume, '# of Polys:\\t', mesh1.n_faces)\n",
    "print('VOLUME of probe2:\\t', mesh2.volume, '# of Polys:\\t', mesh2.n_faces)\n",
    "intersection = get_mesh_intersection(mesh1, mesh2)\n",
    "print('INTERSECTION VOLUME:\\t', intersection.volume)"
   ]
  },
  {
   "cell_type": "code",
   "execution_count": null,
   "id": "b89797ab",
   "metadata": {},
   "outputs": [],
   "source": []
  },
  {
   "cell_type": "code",
   "execution_count": null,
   "id": "36e2a558",
   "metadata": {},
   "outputs": [],
   "source": [
    "s1.intersection(s2)"
   ]
  },
  {
   "cell_type": "markdown",
   "id": "34519896",
   "metadata": {},
   "source": [
    "## vtk reader stl"
   ]
  },
  {
   "cell_type": "code",
   "execution_count": null,
   "id": "e4d1b783",
   "metadata": {},
   "outputs": [],
   "source": [
    "import vtk\n",
    "file = f1\n",
    "# Create a renderer and window\n",
    "renderer = vtk.vtkRenderer()\n",
    "render_window = vtk.vtkRenderWindow()\n",
    "render_window.AddRenderer(renderer)\n",
    "\n",
    "# Create an STL reader and set the input file\n",
    "reader = vtk.vtkSTLReader()\n",
    "reader.SetFileName(file)\n",
    "\n",
    "# Create a mapper and actor to display the geometry\n",
    "mapper = vtk.vtkPolyDataMapper()\n",
    "mapper.SetInputConnection(reader.GetOutputPort())\n",
    "actor = vtk.vtkActor()\n",
    "actor.SetMapper(mapper)\n",
    "renderer.AddActor(actor)"
   ]
  },
  {
   "cell_type": "code",
   "execution_count": null,
   "id": "84abb54b",
   "metadata": {},
   "outputs": [],
   "source": [
    "reader"
   ]
  },
  {
   "cell_type": "code",
   "execution_count": null,
   "id": "1d0568ea",
   "metadata": {},
   "outputs": [],
   "source": [
    "dir(s1)"
   ]
  },
  {
   "cell_type": "code",
   "execution_count": null,
   "id": "9e18ee71",
   "metadata": {},
   "outputs": [],
   "source": [
    "help(s1.intersection)"
   ]
  },
  {
   "cell_type": "code",
   "execution_count": null,
   "id": "55e61376",
   "metadata": {},
   "outputs": [],
   "source": [
    "s1.vtk"
   ]
  },
  {
   "cell_type": "code",
   "execution_count": null,
   "id": "a90c221e",
   "metadata": {},
   "outputs": [],
   "source": [
    "dir(s1)"
   ]
  },
  {
   "cell_type": "code",
   "execution_count": null,
   "id": "900ad515",
   "metadata": {},
   "outputs": [],
   "source": [
    "help(s1)"
   ]
  },
  {
   "cell_type": "code",
   "execution_count": null,
   "id": "1653b858",
   "metadata": {
    "scrolled": true
   },
   "outputs": [],
   "source": [
    "\n",
    "intersection, s1_split, s2_split = s1.intersection(s2)\n",
    "return len(intersection.points), len(s1.points)"
   ]
  },
  {
   "cell_type": "markdown",
   "id": "e6847ce6",
   "metadata": {},
   "source": [
    "# run code"
   ]
  },
  {
   "cell_type": "code",
   "execution_count": null,
   "id": "33b0580f",
   "metadata": {
    "scrolled": false
   },
   "outputs": [],
   "source": [
    "dic = run_one_model('cortexode', filepairs[:3])"
   ]
  },
  {
   "cell_type": "code",
   "execution_count": null,
   "id": "d90d2235",
   "metadata": {},
   "outputs": [],
   "source": []
  },
  {
   "cell_type": "code",
   "execution_count": null,
   "id": "ccfb3b09",
   "metadata": {},
   "outputs": [],
   "source": []
  },
  {
   "cell_type": "code",
   "execution_count": null,
   "id": "b5fd23b1",
   "metadata": {},
   "outputs": [],
   "source": [
    "prepial, prewhite = cf_pial, cf_white\n",
    "filepairs = get_pairs(prepial, prewhite)\n",
    "run_one_model('cf', filepairs)"
   ]
  },
  {
   "cell_type": "code",
   "execution_count": null,
   "id": "fe6857be",
   "metadata": {},
   "outputs": [],
   "source": [
    "prepial, prewhite = dcsr_pial, dcsr_white\n",
    "filepairs = get_pairs(prepial, prewhite)\n",
    "run_one_model('dcsr', filepairs)"
   ]
  },
  {
   "cell_type": "code",
   "execution_count": null,
   "id": "9440f799",
   "metadata": {},
   "outputs": [],
   "source": [
    "prepial, prewhite = v2c_pial, v2c_white\n",
    "filepairs = get_pairs(prepial, prewhite)\n",
    "run_one_model('v2c', filepairs)"
   ]
  },
  {
   "cell_type": "code",
   "execution_count": null,
   "id": "2956648e",
   "metadata": {},
   "outputs": [],
   "source": []
  }
 ],
 "metadata": {
  "kernelspec": {
   "display_name": "Python 3 (ipykernel)",
   "language": "python",
   "name": "python3"
  },
  "language_info": {
   "codemirror_mode": {
    "name": "ipython",
    "version": 3
   },
   "file_extension": ".py",
   "mimetype": "text/x-python",
   "name": "python",
   "nbconvert_exporter": "python",
   "pygments_lexer": "ipython3",
   "version": "3.8.10"
  }
 },
 "nbformat": 4,
 "nbformat_minor": 5
}
