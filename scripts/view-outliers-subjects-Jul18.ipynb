{
 "cells": [
  {
   "cell_type": "code",
   "execution_count": 1,
   "id": "68300604",
   "metadata": {},
   "outputs": [],
   "source": [
    "import os\n",
    "\n",
    "\n",
    "import pyvista as pv\n",
    "from pyvista import examples\n",
    "\n",
    "\n",
    "from collections import defaultdict\n",
    "\n",
    "pv.global_theme.transparent_background = True"
   ]
  },
  {
   "cell_type": "code",
   "execution_count": 9,
   "id": "87ffb75f",
   "metadata": {},
   "outputs": [
    {
     "name": "stdout",
     "output_type": "stream",
     "text": [
      "cortexode-lh_pial-246133.stl\n",
      "cortexode-rm-lh_white-246133.stl\n",
      "cortexode-rm-lh_pial-246133.stl\n",
      "cortexode-lh_white-246133.stl\n"
     ]
    }
   ],
   "source": [
    "s1, s2 = '246133','205119'\n",
    "for f in os.listdir('../../../subjects/'):\n",
    "    if s1 in f and 'cortexode' in f and 'gt' not in f:\n",
    "        print(f)"
   ]
  },
  {
   "cell_type": "code",
   "execution_count": 10,
   "id": "00fb2531",
   "metadata": {},
   "outputs": [],
   "source": [
    "pre = '../../../subjects/'\n"
   ]
  },
  {
   "cell_type": "code",
   "execution_count": 11,
   "id": "88be9f11",
   "metadata": {},
   "outputs": [],
   "source": [
    "f1,f2 = os.path.join(pre, 'cortexode-lh_pial-246133.stl'),os.path.join(pre, 'cortexode-lh_white-246133.stl')\n",
    "f3, f4 = os.path.join(pre, 'cortexode-rm-lh_pial-246133.stl'), os.path.join(pre, 'cortexode-rm-lh_white-246133.stl')"
   ]
  },
  {
   "cell_type": "code",
   "execution_count": 15,
   "id": "3828a9d3",
   "metadata": {},
   "outputs": [
    {
     "data": {
      "application/vnd.jupyter.widget-view+json": {
       "model_id": "48e454a43c0d4aa8912bc12f4167aa92",
       "version_major": 2,
       "version_minor": 0
      },
      "text/plain": [
       "Widget(value=\"<iframe src='http://localhost:51800/index.html?ui=P_0x7f95490fde20_3&reconnect=auto' style='widt…"
      ]
     },
     "metadata": {},
     "output_type": "display_data"
    }
   ],
   "source": [
    "m1,m2 = pv.read(f1),pv.read(f2)\n",
    "pl = pv.Plotter()\n",
    "pl.add_mesh(m1)\n",
    "pl.add_mesh(m2,color='blue')\n",
    "pl.show()"
   ]
  },
  {
   "cell_type": "code",
   "execution_count": 24,
   "id": "ab752a80",
   "metadata": {},
   "outputs": [
    {
     "name": "stdout",
     "output_type": "stream",
     "text": [
      "vox2cortex-gt-transformed-lh_pial-205119.stl\n",
      "vox2cortex-gt-transformed-lh_white-205119.stl\n",
      "vox2cortex-gt-lh_pial-205119.ply\n",
      "vox2cortex-gt-lh_white-205119.ply\n",
      "vox2cortex-gt-rm-lh_pial-205119.stl\n",
      "vox2cortex-gt-transformed-rm-lh_pial-205119.stl\n",
      "vox2cortex-gt-rm-lh_white-205119.stl\n",
      "vox2cortex-gt-transformed-rm-lh_white-205119.stl\n"
     ]
    }
   ],
   "source": [
    "s1, s2 = '246133','205119'\n",
    "for f in os.listdir('../../../subjects/'):\n",
    "    if s2 in f and 'vox2cortex' in f and 'gt' in f:\n",
    "        print(f)"
   ]
  },
  {
   "cell_type": "code",
   "execution_count": 32,
   "id": "05ce20a0",
   "metadata": {},
   "outputs": [],
   "source": [
    "f1,f2 = 'vox2cortex-transformed-lh_pial-205119.stl','vox2cortex-transformed-lh_white-205119.stl'\n",
    "f3,f4 = 'vox2cortex-lh_pial-205119.ply','vox2cortex-lh_white-205119.ply'\n",
    "f5,f6 = 'vox2cortex-transformed-rm-lh_pial-205119.stl','vox2cortex-transformed-rm-lh_white-205119.stl'\n",
    "f7,f8 = 'vox2cortex-gt-transformed-lh_pial-205119.stl','vox2cortex-gt-transformed-lh_white-205119.stl'\n",
    "f1,f2 = f1,f2\n",
    "f1,f2 = os.path.join(pre,f1),os.path.join(pre,f2),"
   ]
  },
  {
   "cell_type": "code",
   "execution_count": 33,
   "id": "bc365945",
   "metadata": {},
   "outputs": [
    {
     "data": {
      "application/vnd.jupyter.widget-view+json": {
       "model_id": "088914bfbf6044f48a6251a1023dfd79",
       "version_major": 2,
       "version_minor": 0
      },
      "text/plain": [
       "Widget(value=\"<iframe src='http://localhost:51800/index.html?ui=P_0x7f953c27a190_10&reconnect=auto' style='wid…"
      ]
     },
     "metadata": {},
     "output_type": "display_data"
    }
   ],
   "source": [
    "m1,m2 = pv.read(f1),pv.read(f2)\n",
    "pl2 = pv.Plotter()\n",
    "pl2.add_mesh(m1)\n",
    "pl2.add_mesh(m2,color='blue')\n",
    "pl2.show()"
   ]
  }
 ],
 "metadata": {
  "kernelspec": {
   "display_name": "Python 3 (ipykernel)",
   "language": "python",
   "name": "python3"
  },
  "language_info": {
   "codemirror_mode": {
    "name": "ipython",
    "version": 3
   },
   "file_extension": ".py",
   "mimetype": "text/x-python",
   "name": "python",
   "nbconvert_exporter": "python",
   "pygments_lexer": "ipython3",
   "version": "3.9.7"
  },
  "toc": {
   "base_numbering": 1,
   "nav_menu": {},
   "number_sections": true,
   "sideBar": true,
   "skip_h1_title": false,
   "title_cell": "Table of Contents",
   "title_sidebar": "Contents",
   "toc_cell": false,
   "toc_position": {
    "height": "calc(100% - 180px)",
    "left": "10px",
    "top": "150px",
    "width": "165px"
   },
   "toc_section_display": true,
   "toc_window_display": true
  },
  "varInspector": {
   "cols": {
    "lenName": 16,
    "lenType": 16,
    "lenVar": 40
   },
   "kernels_config": {
    "python": {
     "delete_cmd_postfix": "",
     "delete_cmd_prefix": "del ",
     "library": "var_list.py",
     "varRefreshCmd": "print(var_dic_list())"
    },
    "r": {
     "delete_cmd_postfix": ") ",
     "delete_cmd_prefix": "rm(",
     "library": "var_list.r",
     "varRefreshCmd": "cat(var_dic_list()) "
    }
   },
   "types_to_exclude": [
    "module",
    "function",
    "builtin_function_or_method",
    "instance",
    "_Feature"
   ],
   "window_display": false
  }
 },
 "nbformat": 4,
 "nbformat_minor": 5
}
