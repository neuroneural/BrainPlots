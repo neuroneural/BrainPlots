{
 "cells": [
  {
   "cell_type": "markdown",
   "id": "1bfcac84",
   "metadata": {},
   "source": [
    "# import library"
   ]
  },
  {
   "cell_type": "code",
   "execution_count": 136,
   "id": "3567b740",
   "metadata": {},
   "outputs": [],
   "source": [
    "# Import Libraries for Plotting\n",
    "import matplotlib.pyplot as plt\n",
    "import seaborn as sns\n",
    "import pandas as pd\n",
    "import matplotlib.cm as cm\n",
    "import numpy as np\n",
    "import pickle\n",
    "\n",
    "import os\n",
    "# os.listdir()"
   ]
  },
  {
   "cell_type": "markdown",
   "id": "68d6fca0",
   "metadata": {},
   "source": [
    "# prepare data and save to csv"
   ]
  },
  {
   "cell_type": "markdown",
   "id": "0ad8c43f",
   "metadata": {},
   "source": [
    "### get freesurfer data"
   ]
  },
  {
   "cell_type": "code",
   "execution_count": 137,
   "id": "81a3f254",
   "metadata": {},
   "outputs": [],
   "source": [
    "file1 = '../../BrainPlots/data/MeshCollisionData/mesh-intersection/Intersection.csv'"
   ]
  },
  {
   "cell_type": "code",
   "execution_count": 138,
   "id": "4e82d199",
   "metadata": {},
   "outputs": [],
   "source": [
    "df = pd.read_csv(file1)"
   ]
  },
  {
   "cell_type": "code",
   "execution_count": 139,
   "id": "49a5d162",
   "metadata": {},
   "outputs": [],
   "source": [
    "replace_dic = {\n",
    "    \"cortexode\":\"CortexODE\",\n",
    "    \"freesurfer\":\"*FreeSurfer\",\n",
    "    \"corticalflow\":\"CorticalFlow\",\n",
    "    \"deepcsr\":\"DeepCSR\",\n",
    "    \"vox2cortex\":\"Vox2Cortex\",\n",
    "}"
   ]
  },
  {
   "cell_type": "code",
   "execution_count": 140,
   "id": "52a08f5d",
   "metadata": {},
   "outputs": [],
   "source": [
    "df = df.replace(replace_dic)"
   ]
  },
  {
   "cell_type": "code",
   "execution_count": 141,
   "id": "d1770cd3",
   "metadata": {},
   "outputs": [],
   "source": [
    "df2 = df[['model','collision-no-cut','collision-cut']]"
   ]
  },
  {
   "cell_type": "code",
   "execution_count": 142,
   "id": "a5604e2c",
   "metadata": {},
   "outputs": [],
   "source": [
    "df_pivot = pd.melt(df2, id_vars=['model'],var_name='cut or no cut',\n",
    "                  value_name = 'ratio')"
   ]
  },
  {
   "cell_type": "code",
   "execution_count": 143,
   "id": "9aeafebe",
   "metadata": {},
   "outputs": [
    {
     "data": {
      "text/html": [
       "<div>\n",
       "<style scoped>\n",
       "    .dataframe tbody tr th:only-of-type {\n",
       "        vertical-align: middle;\n",
       "    }\n",
       "\n",
       "    .dataframe tbody tr th {\n",
       "        vertical-align: top;\n",
       "    }\n",
       "\n",
       "    .dataframe thead th {\n",
       "        text-align: right;\n",
       "    }\n",
       "</style>\n",
       "<table border=\"1\" class=\"dataframe\">\n",
       "  <thead>\n",
       "    <tr style=\"text-align: right;\">\n",
       "      <th></th>\n",
       "      <th>model</th>\n",
       "      <th>cut or no cut</th>\n",
       "      <th>ratio</th>\n",
       "    </tr>\n",
       "  </thead>\n",
       "  <tbody>\n",
       "    <tr>\n",
       "      <th>0</th>\n",
       "      <td>CortexODE</td>\n",
       "      <td>collision-no-cut</td>\n",
       "      <td>3.398188</td>\n",
       "    </tr>\n",
       "    <tr>\n",
       "      <th>1</th>\n",
       "      <td>CortexODE</td>\n",
       "      <td>collision-no-cut</td>\n",
       "      <td>3.935889</td>\n",
       "    </tr>\n",
       "    <tr>\n",
       "      <th>2</th>\n",
       "      <td>CortexODE</td>\n",
       "      <td>collision-no-cut</td>\n",
       "      <td>2.320683</td>\n",
       "    </tr>\n",
       "    <tr>\n",
       "      <th>3</th>\n",
       "      <td>CortexODE</td>\n",
       "      <td>collision-no-cut</td>\n",
       "      <td>3.399443</td>\n",
       "    </tr>\n",
       "    <tr>\n",
       "      <th>4</th>\n",
       "      <td>CortexODE</td>\n",
       "      <td>collision-no-cut</td>\n",
       "      <td>3.593057</td>\n",
       "    </tr>\n",
       "    <tr>\n",
       "      <th>...</th>\n",
       "      <td>...</td>\n",
       "      <td>...</td>\n",
       "      <td>...</td>\n",
       "    </tr>\n",
       "    <tr>\n",
       "      <th>1003</th>\n",
       "      <td>*FreeSurfer</td>\n",
       "      <td>collision-cut</td>\n",
       "      <td>0.439546</td>\n",
       "    </tr>\n",
       "    <tr>\n",
       "      <th>1004</th>\n",
       "      <td>*FreeSurfer</td>\n",
       "      <td>collision-cut</td>\n",
       "      <td>0.341241</td>\n",
       "    </tr>\n",
       "    <tr>\n",
       "      <th>1005</th>\n",
       "      <td>*FreeSurfer</td>\n",
       "      <td>collision-cut</td>\n",
       "      <td>0.572123</td>\n",
       "    </tr>\n",
       "    <tr>\n",
       "      <th>1006</th>\n",
       "      <td>*FreeSurfer</td>\n",
       "      <td>collision-cut</td>\n",
       "      <td>0.381083</td>\n",
       "    </tr>\n",
       "    <tr>\n",
       "      <th>1007</th>\n",
       "      <td>*FreeSurfer</td>\n",
       "      <td>collision-cut</td>\n",
       "      <td>0.381083</td>\n",
       "    </tr>\n",
       "  </tbody>\n",
       "</table>\n",
       "<p>1008 rows × 3 columns</p>\n",
       "</div>"
      ],
      "text/plain": [
       "            model     cut or no cut     ratio\n",
       "0       CortexODE  collision-no-cut  3.398188\n",
       "1       CortexODE  collision-no-cut  3.935889\n",
       "2       CortexODE  collision-no-cut  2.320683\n",
       "3       CortexODE  collision-no-cut  3.399443\n",
       "4       CortexODE  collision-no-cut  3.593057\n",
       "...           ...               ...       ...\n",
       "1003  *FreeSurfer     collision-cut  0.439546\n",
       "1004  *FreeSurfer     collision-cut  0.341241\n",
       "1005  *FreeSurfer     collision-cut  0.572123\n",
       "1006  *FreeSurfer     collision-cut  0.381083\n",
       "1007  *FreeSurfer     collision-cut  0.381083\n",
       "\n",
       "[1008 rows x 3 columns]"
      ]
     },
     "execution_count": 143,
     "metadata": {},
     "output_type": "execute_result"
    }
   ],
   "source": [
    "df_pivot"
   ]
  },
  {
   "cell_type": "code",
   "execution_count": 144,
   "id": "190bc5e4",
   "metadata": {},
   "outputs": [],
   "source": [
    "replace_dic = {'collision-no-cut':\"Original\",\n",
    "               'collision-cut':\"Medial wall removed\",\n",
    "              'ratio':\"Intersection percentage (%)\"}\n",
    "df_pivot = df_pivot.replace(replace_dic)"
   ]
  },
  {
   "cell_type": "code",
   "execution_count": 145,
   "id": "9934bdf9",
   "metadata": {},
   "outputs": [
    {
     "data": {
      "text/html": [
       "<div>\n",
       "<style scoped>\n",
       "    .dataframe tbody tr th:only-of-type {\n",
       "        vertical-align: middle;\n",
       "    }\n",
       "\n",
       "    .dataframe tbody tr th {\n",
       "        vertical-align: top;\n",
       "    }\n",
       "\n",
       "    .dataframe thead th {\n",
       "        text-align: right;\n",
       "    }\n",
       "</style>\n",
       "<table border=\"1\" class=\"dataframe\">\n",
       "  <thead>\n",
       "    <tr style=\"text-align: right;\">\n",
       "      <th></th>\n",
       "      <th>model</th>\n",
       "      <th>cut or no cut</th>\n",
       "      <th>ratio</th>\n",
       "    </tr>\n",
       "  </thead>\n",
       "  <tbody>\n",
       "    <tr>\n",
       "      <th>0</th>\n",
       "      <td>CortexODE</td>\n",
       "      <td>Original</td>\n",
       "      <td>3.398188</td>\n",
       "    </tr>\n",
       "    <tr>\n",
       "      <th>1</th>\n",
       "      <td>CortexODE</td>\n",
       "      <td>Original</td>\n",
       "      <td>3.935889</td>\n",
       "    </tr>\n",
       "    <tr>\n",
       "      <th>2</th>\n",
       "      <td>CortexODE</td>\n",
       "      <td>Original</td>\n",
       "      <td>2.320683</td>\n",
       "    </tr>\n",
       "    <tr>\n",
       "      <th>3</th>\n",
       "      <td>CortexODE</td>\n",
       "      <td>Original</td>\n",
       "      <td>3.399443</td>\n",
       "    </tr>\n",
       "    <tr>\n",
       "      <th>4</th>\n",
       "      <td>CortexODE</td>\n",
       "      <td>Original</td>\n",
       "      <td>3.593057</td>\n",
       "    </tr>\n",
       "    <tr>\n",
       "      <th>...</th>\n",
       "      <td>...</td>\n",
       "      <td>...</td>\n",
       "      <td>...</td>\n",
       "    </tr>\n",
       "    <tr>\n",
       "      <th>1003</th>\n",
       "      <td>*FreeSurfer</td>\n",
       "      <td>Medial wall removed</td>\n",
       "      <td>0.439546</td>\n",
       "    </tr>\n",
       "    <tr>\n",
       "      <th>1004</th>\n",
       "      <td>*FreeSurfer</td>\n",
       "      <td>Medial wall removed</td>\n",
       "      <td>0.341241</td>\n",
       "    </tr>\n",
       "    <tr>\n",
       "      <th>1005</th>\n",
       "      <td>*FreeSurfer</td>\n",
       "      <td>Medial wall removed</td>\n",
       "      <td>0.572123</td>\n",
       "    </tr>\n",
       "    <tr>\n",
       "      <th>1006</th>\n",
       "      <td>*FreeSurfer</td>\n",
       "      <td>Medial wall removed</td>\n",
       "      <td>0.381083</td>\n",
       "    </tr>\n",
       "    <tr>\n",
       "      <th>1007</th>\n",
       "      <td>*FreeSurfer</td>\n",
       "      <td>Medial wall removed</td>\n",
       "      <td>0.381083</td>\n",
       "    </tr>\n",
       "  </tbody>\n",
       "</table>\n",
       "<p>1008 rows × 3 columns</p>\n",
       "</div>"
      ],
      "text/plain": [
       "            model        cut or no cut     ratio\n",
       "0       CortexODE             Original  3.398188\n",
       "1       CortexODE             Original  3.935889\n",
       "2       CortexODE             Original  2.320683\n",
       "3       CortexODE             Original  3.399443\n",
       "4       CortexODE             Original  3.593057\n",
       "...           ...                  ...       ...\n",
       "1003  *FreeSurfer  Medial wall removed  0.439546\n",
       "1004  *FreeSurfer  Medial wall removed  0.341241\n",
       "1005  *FreeSurfer  Medial wall removed  0.572123\n",
       "1006  *FreeSurfer  Medial wall removed  0.381083\n",
       "1007  *FreeSurfer  Medial wall removed  0.381083\n",
       "\n",
       "[1008 rows x 3 columns]"
      ]
     },
     "execution_count": 145,
     "metadata": {},
     "output_type": "execute_result"
    }
   ],
   "source": [
    "df_pivot"
   ]
  },
  {
   "cell_type": "markdown",
   "id": "c6ff12d9",
   "metadata": {},
   "source": [
    "### dump to pickle"
   ]
  },
  {
   "cell_type": "code",
   "execution_count": 146,
   "id": "5784b6c3",
   "metadata": {},
   "outputs": [],
   "source": [
    "import pickle\n",
    "with open('collision_dataframe_nocut_and_cut.pickle', 'wb') as f:\n",
    "    pickle.dump(df_pivot, f)"
   ]
  },
  {
   "cell_type": "markdown",
   "id": "bd9c0014",
   "metadata": {},
   "source": [
    "# plot"
   ]
  },
  {
   "cell_type": "code",
   "execution_count": 147,
   "id": "dcb52ff5",
   "metadata": {},
   "outputs": [],
   "source": [
    "df_pivot = df_pivot.sort_values(by = ['model','cut or no cut'], ascending=[True,False])"
   ]
  },
  {
   "cell_type": "code",
   "execution_count": 158,
   "id": "f574d38d",
   "metadata": {},
   "outputs": [
    {
     "data": {
      "text/html": [
       "<div>\n",
       "<style scoped>\n",
       "    .dataframe tbody tr th:only-of-type {\n",
       "        vertical-align: middle;\n",
       "    }\n",
       "\n",
       "    .dataframe tbody tr th {\n",
       "        vertical-align: top;\n",
       "    }\n",
       "\n",
       "    .dataframe thead th {\n",
       "        text-align: right;\n",
       "    }\n",
       "</style>\n",
       "<table border=\"1\" class=\"dataframe\">\n",
       "  <thead>\n",
       "    <tr style=\"text-align: right;\">\n",
       "      <th></th>\n",
       "      <th>model</th>\n",
       "      <th>cut or no cut</th>\n",
       "      <th>ratio</th>\n",
       "    </tr>\n",
       "  </thead>\n",
       "  <tbody>\n",
       "    <tr>\n",
       "      <th>396</th>\n",
       "      <td>*FreeSurfer</td>\n",
       "      <td>Original</td>\n",
       "      <td>1.918918</td>\n",
       "    </tr>\n",
       "    <tr>\n",
       "      <th>397</th>\n",
       "      <td>*FreeSurfer</td>\n",
       "      <td>Original</td>\n",
       "      <td>1.612673</td>\n",
       "    </tr>\n",
       "    <tr>\n",
       "      <th>398</th>\n",
       "      <td>*FreeSurfer</td>\n",
       "      <td>Original</td>\n",
       "      <td>1.640024</td>\n",
       "    </tr>\n",
       "    <tr>\n",
       "      <th>399</th>\n",
       "      <td>*FreeSurfer</td>\n",
       "      <td>Original</td>\n",
       "      <td>1.892718</td>\n",
       "    </tr>\n",
       "    <tr>\n",
       "      <th>400</th>\n",
       "      <td>*FreeSurfer</td>\n",
       "      <td>Original</td>\n",
       "      <td>1.919089</td>\n",
       "    </tr>\n",
       "    <tr>\n",
       "      <th>...</th>\n",
       "      <td>...</td>\n",
       "      <td>...</td>\n",
       "      <td>...</td>\n",
       "    </tr>\n",
       "    <tr>\n",
       "      <th>895</th>\n",
       "      <td>Vox2Cortex</td>\n",
       "      <td>Medial wall removed</td>\n",
       "      <td>0.286989</td>\n",
       "    </tr>\n",
       "    <tr>\n",
       "      <th>896</th>\n",
       "      <td>Vox2Cortex</td>\n",
       "      <td>Medial wall removed</td>\n",
       "      <td>0.253594</td>\n",
       "    </tr>\n",
       "    <tr>\n",
       "      <th>897</th>\n",
       "      <td>Vox2Cortex</td>\n",
       "      <td>Medial wall removed</td>\n",
       "      <td>1.012067</td>\n",
       "    </tr>\n",
       "    <tr>\n",
       "      <th>898</th>\n",
       "      <td>Vox2Cortex</td>\n",
       "      <td>Medial wall removed</td>\n",
       "      <td>0.319780</td>\n",
       "    </tr>\n",
       "    <tr>\n",
       "      <th>899</th>\n",
       "      <td>Vox2Cortex</td>\n",
       "      <td>Medial wall removed</td>\n",
       "      <td>0.620337</td>\n",
       "    </tr>\n",
       "  </tbody>\n",
       "</table>\n",
       "<p>1008 rows × 3 columns</p>\n",
       "</div>"
      ],
      "text/plain": [
       "           model        cut or no cut     ratio\n",
       "396  *FreeSurfer             Original  1.918918\n",
       "397  *FreeSurfer             Original  1.612673\n",
       "398  *FreeSurfer             Original  1.640024\n",
       "399  *FreeSurfer             Original  1.892718\n",
       "400  *FreeSurfer             Original  1.919089\n",
       "..           ...                  ...       ...\n",
       "895   Vox2Cortex  Medial wall removed  0.286989\n",
       "896   Vox2Cortex  Medial wall removed  0.253594\n",
       "897   Vox2Cortex  Medial wall removed  1.012067\n",
       "898   Vox2Cortex  Medial wall removed  0.319780\n",
       "899   Vox2Cortex  Medial wall removed  0.620337\n",
       "\n",
       "[1008 rows x 3 columns]"
      ]
     },
     "execution_count": 158,
     "metadata": {},
     "output_type": "execute_result"
    }
   ],
   "source": [
    "df_pivot"
   ]
  },
  {
   "cell_type": "code",
   "execution_count": 160,
   "id": "6b324e28",
   "metadata": {},
   "outputs": [],
   "source": [
    "# x,y,hue = \"model\",\"ratio\",\"cut or no cut\"\n",
    "\n",
    "# # Assuming 'df' is your DataF\n",
    "# custom_order = {'CortexODE': 1, '*FreeSurfer': 2, 'CorticalFlow': 3, 'Vox2Cortex':4, 'DeepCSR':5}  # Custom order dictionary\n",
    "# df_sorted = df.groupby(by = [x,hue]),key = lambda x: x.sort_values('model', key=lambda y: y.map(custom_order))).reset_index(drop=True)\n",
    "\n",
    "# df_sorted[y]"
   ]
  },
  {
   "cell_type": "code",
   "execution_count": 157,
   "id": "eb8ef2b0",
   "metadata": {},
   "outputs": [
    {
     "ename": "NameError",
     "evalue": "name 'df_sorted' is not defined",
     "output_type": "error",
     "traceback": [
      "\u001b[0;31m---------------------------------------------------------------------------\u001b[0m",
      "\u001b[0;31mNameError\u001b[0m                                 Traceback (most recent call last)",
      "\u001b[0;32m/var/folders/s2/f9_gdwgn7hdcrnctxg25f4th0000gn/T/ipykernel_56634/4251941495.py\u001b[0m in \u001b[0;36m<module>\u001b[0;34m\u001b[0m\n\u001b[0;32m----> 1\u001b[0;31m \u001b[0mdf_sorted\u001b[0m\u001b[0;34m\u001b[0m\u001b[0;34m\u001b[0m\u001b[0m\n\u001b[0m",
      "\u001b[0;31mNameError\u001b[0m: name 'df_sorted' is not defined"
     ]
    }
   ],
   "source": [
    "df_sorted"
   ]
  },
  {
   "cell_type": "code",
   "execution_count": 239,
   "id": "5069cb53",
   "metadata": {},
   "outputs": [],
   "source": [
    "sns.set(rc={'figure.figsize':(15,6)})\n",
    "sns.set_theme(style=\"whitegrid\")\n",
    "sns.set(font_scale=1.5)\n",
    "\n",
    "def plot(tips, x, y, hue,medians,order = ['CortexODE','*FreeSurfer','CorticalFlow','Vox2Cortex','DeepCSR']\n",
    ",color = sns.color_palette(\"Set2\", 10)):\n",
    "    sns.stripplot(x=x, y=y, hue=hue,\n",
    "    data=tips, jitter=.2,dodge=.5,\n",
    "    palette=\"Set2\",linewidth=1,edgecolor='gray',alpha=.5,order=order)\n",
    "\n",
    "    # Get the ax object to use later.\n",
    "    ax = sns.boxplot(x=x,y=y,hue=hue,\n",
    "    data=tips,palette=\"Set2\",fliersize=0,order=order)\n",
    "    \n",
    "    tx = tips.groupby(by = [x,hue])[y].median()\n",
    "    \n",
    "    vertical_offset = -.2\n",
    "\n",
    "    # Get the handles and labels. For this example it'll be 2 tuples\n",
    "    # of length 4 each.\n",
    "    handles, labels = ax.get_legend_handles_labels()\n",
    "    \n",
    "#     print(len(ax.get_xticks()))\n",
    "#     print(len(medians))\n",
    "\n",
    "    c1,c2 = color[0],color[1]\n",
    "    offxtick = -.6\n",
    "    for xtick in ax.get_xticks():\n",
    "        idx = 2 * xtick \n",
    "        ax.text(xtick + .1 + offxtick,medians[idx] + vertical_offset,medians[idx], \n",
    "            horizontalalignment='center',size='x-small',color=c1,weight='semibold')\n",
    "\n",
    "        idx = 2 * xtick + 1\n",
    "        ax.text(xtick + .5 + offxtick,medians[idx] + vertical_offset,medians[idx], \n",
    "            horizontalalignment='center',size='x-small',color=c2,weight='semibold')\n",
    "               \n",
    "\n",
    "    # When creating the legend, only use the first two elements\n",
    "    # to effectively remove the last two.\n",
    "    l = plt.legend(handles[0:2], labels[0:2], loc='best', borderaxespad=0., facecolor='white',edgecolor='white')\n",
    "    # plt.ylabel('Collision counts / Triangle counts (%)')\n",
    "    plt.xlabel('')\n",
    "    # plt.yscale('log')\n",
    "    plt.ylabel('White and pial mesh intersections (%)')\n",
    "#     if name=='cut':\n",
    "#         plt.ylabel('Self intersections\\n without medial wall (%)')\n",
    "    plt.xlim(-0.7, 4.5)\n",
    "    plt.ylim(-1,10.2)\n",
    "    plt.savefig('Collisions.png', dpi=300)\n",
    "    plt.savefig('Collisions.svg', format='svg', transparent=True, bbox_inches='tight', pad_inches=0)"
   ]
  },
  {
   "cell_type": "markdown",
   "id": "01d44986",
   "metadata": {},
   "source": [
    "## plot"
   ]
  },
  {
   "cell_type": "code",
   "execution_count": 240,
   "id": "1b3cc8dc",
   "metadata": {},
   "outputs": [],
   "source": [
    "def calc_medians():\n",
    "    order = ['CortexODE','*FreeSurfer','CorticalFlow','Vox2Cortex','DeepCSR']\n",
    "    medians = []\n",
    "    for i in order:\n",
    "        t = df_pivot\n",
    "        t = t[t['model']==i]\n",
    "        medians.append(np.median(t[t['cut or no cut']=='Original']['ratio']))\n",
    "        medians.append(np.median(t[t['cut or no cut']=='Medial wall removed']['ratio']))\n",
    "    medians = [round(i,2) for i in medians]\n",
    "    return medians"
   ]
  },
  {
   "cell_type": "code",
   "execution_count": 241,
   "id": "bdf7c6ce",
   "metadata": {
    "scrolled": false
   },
   "outputs": [
    {
     "data": {
      "image/png": "[encoded data removed]",
      "text/plain": [
       "<Figure size 1080x432 with 1 Axes>"
      ]
     },
     "metadata": {},
     "output_type": "display_data"
    }
   ],
   "source": [
    "plot(df_pivot, \"model\",\"ratio\",\"cut or no cut\",calc_medians())"
   ]
  },
  {
   "cell_type": "code",
   "execution_count": 230,
   "id": "1201954e",
   "metadata": {},
   "outputs": [
    {
     "ename": "AttributeError",
     "evalue": "'PathCollection' object has no property 'padding'",
     "output_type": "error",
     "traceback": [
      "\u001b[0;31m---------------------------------------------------------------------------\u001b[0m",
      "\u001b[0;31mAttributeError\u001b[0m                            Traceback (most recent call last)",
      "\u001b[0;32m/var/folders/s2/f9_gdwgn7hdcrnctxg25f4th0000gn/T/ipykernel_56634/1170050851.py\u001b[0m in \u001b[0;36m<module>\u001b[0;34m\u001b[0m\n\u001b[0;32m----> 1\u001b[0;31m help(sns.stripplot(padding=2\n\u001b[0m\u001b[1;32m      2\u001b[0m                   ))\n",
      "\u001b[0;32m~/opt/anaconda3/lib/python3.9/site-packages/seaborn/_decorators.py\u001b[0m in \u001b[0;36minner_f\u001b[0;34m(*args, **kwargs)\u001b[0m\n\u001b[1;32m     44\u001b[0m             )\n\u001b[1;32m     45\u001b[0m         \u001b[0mkwargs\u001b[0m\u001b[0;34m.\u001b[0m\u001b[0mupdate\u001b[0m\u001b[0;34m(\u001b[0m\u001b[0;34m{\u001b[0m\u001b[0mk\u001b[0m\u001b[0;34m:\u001b[0m \u001b[0marg\u001b[0m \u001b[0;32mfor\u001b[0m \u001b[0mk\u001b[0m\u001b[0;34m,\u001b[0m \u001b[0marg\u001b[0m \u001b[0;32min\u001b[0m \u001b[0mzip\u001b[0m\u001b[0;34m(\u001b[0m\u001b[0msig\u001b[0m\u001b[0;34m.\u001b[0m\u001b[0mparameters\u001b[0m\u001b[0;34m,\u001b[0m \u001b[0margs\u001b[0m\u001b[0;34m)\u001b[0m\u001b[0;34m}\u001b[0m\u001b[0;34m)\u001b[0m\u001b[0;34m\u001b[0m\u001b[0;34m\u001b[0m\u001b[0m\n\u001b[0;32m---> 46\u001b[0;31m         \u001b[0;32mreturn\u001b[0m \u001b[0mf\u001b[0m\u001b[0;34m(\u001b[0m\u001b[0;34m**\u001b[0m\u001b[0mkwargs\u001b[0m\u001b[0;34m)\u001b[0m\u001b[0;34m\u001b[0m\u001b[0;34m\u001b[0m\u001b[0m\n\u001b[0m\u001b[1;32m     47\u001b[0m     \u001b[0;32mreturn\u001b[0m \u001b[0minner_f\u001b[0m\u001b[0;34m\u001b[0m\u001b[0;34m\u001b[0m\u001b[0m\n\u001b[1;32m     48\u001b[0m \u001b[0;34m\u001b[0m\u001b[0m\n",
      "\u001b[0;32m~/opt/anaconda3/lib/python3.9/site-packages/seaborn/categorical.py\u001b[0m in \u001b[0;36mstripplot\u001b[0;34m(x, y, hue, data, order, hue_order, jitter, dodge, orient, color, palette, size, edgecolor, linewidth, ax, **kwargs)\u001b[0m\n\u001b[1;32m   2820\u001b[0m                        linewidth=linewidth))\n\u001b[1;32m   2821\u001b[0m \u001b[0;34m\u001b[0m\u001b[0m\n\u001b[0;32m-> 2822\u001b[0;31m     \u001b[0mplotter\u001b[0m\u001b[0;34m.\u001b[0m\u001b[0mplot\u001b[0m\u001b[0;34m(\u001b[0m\u001b[0max\u001b[0m\u001b[0;34m,\u001b[0m \u001b[0mkwargs\u001b[0m\u001b[0;34m)\u001b[0m\u001b[0;34m\u001b[0m\u001b[0;34m\u001b[0m\u001b[0m\n\u001b[0m\u001b[1;32m   2823\u001b[0m     \u001b[0;32mreturn\u001b[0m \u001b[0max\u001b[0m\u001b[0;34m\u001b[0m\u001b[0;34m\u001b[0m\u001b[0m\n\u001b[1;32m   2824\u001b[0m \u001b[0;34m\u001b[0m\u001b[0m\n",
      "\u001b[0;32m~/opt/anaconda3/lib/python3.9/site-packages/seaborn/categorical.py\u001b[0m in \u001b[0;36mplot\u001b[0;34m(self, ax, kws)\u001b[0m\n\u001b[1;32m   1158\u001b[0m     \u001b[0;32mdef\u001b[0m \u001b[0mplot\u001b[0m\u001b[0;34m(\u001b[0m\u001b[0mself\u001b[0m\u001b[0;34m,\u001b[0m \u001b[0max\u001b[0m\u001b[0;34m,\u001b[0m \u001b[0mkws\u001b[0m\u001b[0;34m)\u001b[0m\u001b[0;34m:\u001b[0m\u001b[0;34m\u001b[0m\u001b[0;34m\u001b[0m\u001b[0m\n\u001b[1;32m   1159\u001b[0m         \u001b[0;34m\"\"\"Make the plot.\"\"\"\u001b[0m\u001b[0;34m\u001b[0m\u001b[0;34m\u001b[0m\u001b[0m\n\u001b[0;32m-> 1160\u001b[0;31m         \u001b[0mself\u001b[0m\u001b[0;34m.\u001b[0m\u001b[0mdraw_stripplot\u001b[0m\u001b[0;34m(\u001b[0m\u001b[0max\u001b[0m\u001b[0;34m,\u001b[0m \u001b[0mkws\u001b[0m\u001b[0;34m)\u001b[0m\u001b[0;34m\u001b[0m\u001b[0;34m\u001b[0m\u001b[0m\n\u001b[0m\u001b[1;32m   1161\u001b[0m         \u001b[0mself\u001b[0m\u001b[0;34m.\u001b[0m\u001b[0madd_legend_data\u001b[0m\u001b[0;34m(\u001b[0m\u001b[0max\u001b[0m\u001b[0;34m)\u001b[0m\u001b[0;34m\u001b[0m\u001b[0;34m\u001b[0m\u001b[0m\n\u001b[1;32m   1162\u001b[0m         \u001b[0mself\u001b[0m\u001b[0;34m.\u001b[0m\u001b[0mannotate_axes\u001b[0m\u001b[0;34m(\u001b[0m\u001b[0max\u001b[0m\u001b[0;34m)\u001b[0m\u001b[0;34m\u001b[0m\u001b[0;34m\u001b[0m\u001b[0m\n",
      "\u001b[0;32m~/opt/anaconda3/lib/python3.9/site-packages/seaborn/categorical.py\u001b[0m in \u001b[0;36mdraw_stripplot\u001b[0;34m(self, ax, kws)\u001b[0m\n\u001b[1;32m   1134\u001b[0m                 \u001b[0mkws\u001b[0m\u001b[0;34m.\u001b[0m\u001b[0mupdate\u001b[0m\u001b[0;34m(\u001b[0m\u001b[0mc\u001b[0m\u001b[0;34m=\u001b[0m\u001b[0mpalette\u001b[0m\u001b[0;34m[\u001b[0m\u001b[0mpoint_colors\u001b[0m\u001b[0;34m]\u001b[0m\u001b[0;34m)\u001b[0m\u001b[0;34m\u001b[0m\u001b[0;34m\u001b[0m\u001b[0m\n\u001b[1;32m   1135\u001b[0m                 \u001b[0;32mif\u001b[0m \u001b[0mself\u001b[0m\u001b[0;34m.\u001b[0m\u001b[0morient\u001b[0m \u001b[0;34m==\u001b[0m \u001b[0;34m\"v\"\u001b[0m\u001b[0;34m:\u001b[0m\u001b[0;34m\u001b[0m\u001b[0;34m\u001b[0m\u001b[0m\n\u001b[0;32m-> 1136\u001b[0;31m                     \u001b[0max\u001b[0m\u001b[0;34m.\u001b[0m\u001b[0mscatter\u001b[0m\u001b[0;34m(\u001b[0m\u001b[0mcat_pos\u001b[0m\u001b[0;34m,\u001b[0m \u001b[0mstrip_data\u001b[0m\u001b[0;34m,\u001b[0m \u001b[0;34m**\u001b[0m\u001b[0mkws\u001b[0m\u001b[0;34m)\u001b[0m\u001b[0;34m\u001b[0m\u001b[0;34m\u001b[0m\u001b[0m\n\u001b[0m\u001b[1;32m   1137\u001b[0m                 \u001b[0;32melse\u001b[0m\u001b[0;34m:\u001b[0m\u001b[0;34m\u001b[0m\u001b[0;34m\u001b[0m\u001b[0m\n\u001b[1;32m   1138\u001b[0m                     \u001b[0max\u001b[0m\u001b[0;34m.\u001b[0m\u001b[0mscatter\u001b[0m\u001b[0;34m(\u001b[0m\u001b[0mstrip_data\u001b[0m\u001b[0;34m,\u001b[0m \u001b[0mcat_pos\u001b[0m\u001b[0;34m,\u001b[0m \u001b[0;34m**\u001b[0m\u001b[0mkws\u001b[0m\u001b[0;34m)\u001b[0m\u001b[0;34m\u001b[0m\u001b[0;34m\u001b[0m\u001b[0m\n",
      "\u001b[0;32m~/opt/anaconda3/lib/python3.9/site-packages/matplotlib/__init__.py\u001b[0m in \u001b[0;36minner\u001b[0;34m(ax, data, *args, **kwargs)\u001b[0m\n\u001b[1;32m   1410\u001b[0m     \u001b[0;32mdef\u001b[0m \u001b[0minner\u001b[0m\u001b[0;34m(\u001b[0m\u001b[0max\u001b[0m\u001b[0;34m,\u001b[0m \u001b[0;34m*\u001b[0m\u001b[0margs\u001b[0m\u001b[0;34m,\u001b[0m \u001b[0mdata\u001b[0m\u001b[0;34m=\u001b[0m\u001b[0;32mNone\u001b[0m\u001b[0;34m,\u001b[0m \u001b[0;34m**\u001b[0m\u001b[0mkwargs\u001b[0m\u001b[0;34m)\u001b[0m\u001b[0;34m:\u001b[0m\u001b[0;34m\u001b[0m\u001b[0;34m\u001b[0m\u001b[0m\n\u001b[1;32m   1411\u001b[0m         \u001b[0;32mif\u001b[0m \u001b[0mdata\u001b[0m \u001b[0;32mis\u001b[0m \u001b[0;32mNone\u001b[0m\u001b[0;34m:\u001b[0m\u001b[0;34m\u001b[0m\u001b[0;34m\u001b[0m\u001b[0m\n\u001b[0;32m-> 1412\u001b[0;31m             \u001b[0;32mreturn\u001b[0m \u001b[0mfunc\u001b[0m\u001b[0;34m(\u001b[0m\u001b[0max\u001b[0m\u001b[0;34m,\u001b[0m \u001b[0;34m*\u001b[0m\u001b[0mmap\u001b[0m\u001b[0;34m(\u001b[0m\u001b[0msanitize_sequence\u001b[0m\u001b[0;34m,\u001b[0m \u001b[0margs\u001b[0m\u001b[0;34m)\u001b[0m\u001b[0;34m,\u001b[0m \u001b[0;34m**\u001b[0m\u001b[0mkwargs\u001b[0m\u001b[0;34m)\u001b[0m\u001b[0;34m\u001b[0m\u001b[0;34m\u001b[0m\u001b[0m\n\u001b[0m\u001b[1;32m   1413\u001b[0m \u001b[0;34m\u001b[0m\u001b[0m\n\u001b[1;32m   1414\u001b[0m         \u001b[0mbound\u001b[0m \u001b[0;34m=\u001b[0m \u001b[0mnew_sig\u001b[0m\u001b[0;34m.\u001b[0m\u001b[0mbind\u001b[0m\u001b[0;34m(\u001b[0m\u001b[0max\u001b[0m\u001b[0;34m,\u001b[0m \u001b[0;34m*\u001b[0m\u001b[0margs\u001b[0m\u001b[0;34m,\u001b[0m \u001b[0;34m**\u001b[0m\u001b[0mkwargs\u001b[0m\u001b[0;34m)\u001b[0m\u001b[0;34m\u001b[0m\u001b[0;34m\u001b[0m\u001b[0m\n",
      "\u001b[0;32m~/opt/anaconda3/lib/python3.9/site-packages/matplotlib/axes/_axes.py\u001b[0m in \u001b[0;36mscatter\u001b[0;34m(self, x, y, s, c, marker, cmap, norm, vmin, vmax, alpha, linewidths, edgecolors, plotnonfinite, **kwargs)\u001b[0m\n\u001b[1;32m   4420\u001b[0m                 )\n\u001b[1;32m   4421\u001b[0m         \u001b[0mcollection\u001b[0m\u001b[0;34m.\u001b[0m\u001b[0mset_transform\u001b[0m\u001b[0;34m(\u001b[0m\u001b[0mmtransforms\u001b[0m\u001b[0;34m.\u001b[0m\u001b[0mIdentityTransform\u001b[0m\u001b[0;34m(\u001b[0m\u001b[0;34m)\u001b[0m\u001b[0;34m)\u001b[0m\u001b[0;34m\u001b[0m\u001b[0;34m\u001b[0m\u001b[0m\n\u001b[0;32m-> 4422\u001b[0;31m         \u001b[0mcollection\u001b[0m\u001b[0;34m.\u001b[0m\u001b[0mupdate\u001b[0m\u001b[0;34m(\u001b[0m\u001b[0mkwargs\u001b[0m\u001b[0;34m)\u001b[0m\u001b[0;34m\u001b[0m\u001b[0;34m\u001b[0m\u001b[0m\n\u001b[0m\u001b[1;32m   4423\u001b[0m \u001b[0;34m\u001b[0m\u001b[0m\n\u001b[1;32m   4424\u001b[0m         \u001b[0;32mif\u001b[0m \u001b[0mcolors\u001b[0m \u001b[0;32mis\u001b[0m \u001b[0;32mNone\u001b[0m\u001b[0;34m:\u001b[0m\u001b[0;34m\u001b[0m\u001b[0;34m\u001b[0m\u001b[0m\n",
      "\u001b[0;32m~/opt/anaconda3/lib/python3.9/site-packages/matplotlib/artist.py\u001b[0m in \u001b[0;36mupdate\u001b[0;34m(self, props)\u001b[0m\n\u001b[1;32m   1062\u001b[0m                     \u001b[0mfunc\u001b[0m \u001b[0;34m=\u001b[0m \u001b[0mgetattr\u001b[0m\u001b[0;34m(\u001b[0m\u001b[0mself\u001b[0m\u001b[0;34m,\u001b[0m \u001b[0;34mf\"set_{k}\"\u001b[0m\u001b[0;34m,\u001b[0m \u001b[0;32mNone\u001b[0m\u001b[0;34m)\u001b[0m\u001b[0;34m\u001b[0m\u001b[0;34m\u001b[0m\u001b[0m\n\u001b[1;32m   1063\u001b[0m                     \u001b[0;32mif\u001b[0m \u001b[0;32mnot\u001b[0m \u001b[0mcallable\u001b[0m\u001b[0;34m(\u001b[0m\u001b[0mfunc\u001b[0m\u001b[0;34m)\u001b[0m\u001b[0;34m:\u001b[0m\u001b[0;34m\u001b[0m\u001b[0;34m\u001b[0m\u001b[0m\n\u001b[0;32m-> 1064\u001b[0;31m                         raise AttributeError(f\"{type(self).__name__!r} object \"\n\u001b[0m\u001b[1;32m   1065\u001b[0m                                              f\"has no property {k!r}\")\n\u001b[1;32m   1066\u001b[0m                     \u001b[0mret\u001b[0m\u001b[0;34m.\u001b[0m\u001b[0mappend\u001b[0m\u001b[0;34m(\u001b[0m\u001b[0mfunc\u001b[0m\u001b[0;34m(\u001b[0m\u001b[0mv\u001b[0m\u001b[0;34m)\u001b[0m\u001b[0;34m)\u001b[0m\u001b[0;34m\u001b[0m\u001b[0;34m\u001b[0m\u001b[0m\n",
      "\u001b[0;31mAttributeError\u001b[0m: 'PathCollection' object has no property 'padding'"
     ]
    },
    {
     "data": {
      "image/png": "[encoded data removed]",
      "text/plain": [
       "<Figure size 1080x432 with 1 Axes>"
      ]
     },
     "metadata": {},
     "output_type": "display_data"
    }
   ],
   "source": [
    "help(sns.stripplot(padding=2\n",
    "                  ))"
   ]
  },
  {
   "cell_type": "code",
   "execution_count": null,
   "id": "d404de02",
   "metadata": {},
   "outputs": [],
   "source": []
  }
 ],
 "metadata": {
  "kernelspec": {
   "display_name": "Python 3 (ipykernel)",
   "language": "python",
   "name": "python3"
  },
  "language_info": {
   "codemirror_mode": {
    "name": "ipython",
    "version": 3
   },
   "file_extension": ".py",
   "mimetype": "text/x-python",
   "name": "python",
   "nbconvert_exporter": "python",
   "pygments_lexer": "ipython3",
   "version": "3.9.7"
  },
  "toc": {
   "base_numbering": 1,
   "nav_menu": {},
   "number_sections": true,
   "sideBar": true,
   "skip_h1_title": false,
   "title_cell": "Table of Contents",
   "title_sidebar": "Contents",
   "toc_cell": false,
   "toc_position": {
    "height": "calc(100% - 180px)",
    "left": "10px",
    "top": "150px",
    "width": "165px"
   },
   "toc_section_display": true,
   "toc_window_display": true
  },
  "varInspector": {
   "cols": {
    "lenName": 16,
    "lenType": 16,
    "lenVar": 40
   },
   "kernels_config": {
    "python": {
     "delete_cmd_postfix": "",
     "delete_cmd_prefix": "del ",
     "library": "var_list.py",
     "varRefreshCmd": "print(var_dic_list())"
    },
    "r": {
     "delete_cmd_postfix": ") ",
     "delete_cmd_prefix": "rm(",
     "library": "var_list.r",
     "varRefreshCmd": "cat(var_dic_list()) "
    }
   },
   "types_to_exclude": [
    "module",
    "function",
    "builtin_function_or_method",
    "instance",
    "_Feature"
   ],
   "window_display": false
  }
 },
 "nbformat": 4,
 "nbformat_minor": 5
}
