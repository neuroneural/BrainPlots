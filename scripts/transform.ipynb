{
 "cells": [
  {
   "cell_type": "markdown",
   "id": "23ae3214",
   "metadata": {},
   "source": [
    "    affine_transform.txt is in Ground Truth folders.\n",
    "    \n",
    "    steps:\n",
    "    - find the subject ids \n",
    "    - find the corresponding affine_transform.txt file for the id in each project.\n",
    "    - use the affine_transform.txt to transform the subject predictions.\n",
    "        - note: the subject predictions could be .stl, .ply format."
   ]
  },
  {
   "cell_type": "code",
   "execution_count": 2,
   "id": "edb7245b",
   "metadata": {},
   "outputs": [],
   "source": [
    "import os\n",
    "import numpy as np\n",
    "import trimesh\n",
    "from tqdm import tqdm\n",
    "import pickle"
   ]
  },
  {
   "cell_type": "code",
   "execution_count": 3,
   "id": "b998fad5",
   "metadata": {},
   "outputs": [],
   "source": [
    "with open('subjects.pkl', 'rb') as f:\n",
    "    subjects = pickle.load(f)"
   ]
  },
  {
   "cell_type": "code",
   "execution_count": 4,
   "id": "7c09ab26",
   "metadata": {},
   "outputs": [],
   "source": [
    "dic = {}\n",
    "\n",
    "dic['corticalflow'] = {\n",
    "    \"lh_pial\": \"/data/users2/llu13/output/corticalflow/cfpp/lh_pial\",\n",
    "    \"lh_white\": \"/data/users2/llu13/output/corticalflow/cfpp/lh_white\",\n",
    "}\n",
    "\n",
    "dic['deepcsr'] = {\n",
    "    \"lh_pial\": \"/data/users2/washbee/speedrun/outputdirs/deepcsr-output_dir-timing/checkpoints/test-set/lh_pial\",\n",
    "    \"lh_white\": \"/data/users2/washbee/speedrun/outputdirs/deepcsr-output_dir-timing/checkpoints/test-set/lh_white\",\n",
    "}\n",
    "\n",
    "\n",
    "dic['vox2cortex'] = {\n",
    "    \"lh_pial\": \"/data/users2/washbee/speedrun/Vox2Cortex_fork/experiments/hcp/test_template_42016_DATASET_NAME/meshes/lh_pial/epoch81\",\n",
    "    \"lh_white\": \"/data/users2/washbee/speedrun/Vox2Cortex_fork/experiments/hcp/test_template_42016_DATASET_NAME/meshes/lh_white/epoch81\",\n",
    "}\n",
    "\n",
    "dic_stl = dic"
   ]
  },
  {
   "cell_type": "code",
   "execution_count": 5,
   "id": "350f387a",
   "metadata": {},
   "outputs": [],
   "source": [
    "c,d,v = 'corticalflow', 'deepcsr', 'vox2cortex'"
   ]
  },
  {
   "cell_type": "code",
   "execution_count": 6,
   "id": "052af81a",
   "metadata": {},
   "outputs": [],
   "source": [
    "# folders for transform_affine.txt, (inside ground truth folders)\n",
    "\n",
    "dic_ta = {\n",
    "    c: \"/data/users2/washbee/speedrun/deepcsr-preprocessed/\",\n",
    "    d: \"/data/users2/washbee/speedrun/deepcsr-preprocessed/\",\n",
    "    v: \"/data/users2/washbee/speedrun/Vox2Cortex_fork/CSR_data\"\n",
    "}\n",
    "\n",
    "# -------------examples-------------\n",
    "# \"/data/users2/washbee/speedrun/deepcsr-preprocessed/201818/transform_affine.txt\"\n",
    "# \"/data/users2/washbee/speedrun/Vox2Cortex_fork/CSR_data/201818/transform_affine.txt\""
   ]
  },
  {
   "cell_type": "code",
   "execution_count": 7,
   "id": "abceb826",
   "metadata": {},
   "outputs": [],
   "source": [
    "f = os.path.join(dic_stl[v]['lh_pial'], os.listdir(dic_stl[v]['lh_pial'])[0])\n",
    "f = '/data/users2/washbee/speedrun/Vox2Cortex_fork/experiments/hcp/test_template_42016_DATASET_NAME/meshes/lh_pial/epoch81/200008_epoch81_struc2_meshpred.ply'"
   ]
  },
  {
   "cell_type": "code",
   "execution_count": 8,
   "id": "6f19b621",
   "metadata": {},
   "outputs": [],
   "source": [
    "def transform(mesh_file, affine_file, save_path):\n",
    "    mesh = trimesh.load_mesh(mesh_file)\n",
    "    affine_transform = np.loadtxt(affine_file)\n",
    "    mesh.apply_transform(affine_transform)\n",
    "    mesh.export(save_path)"
   ]
  },
  {
   "cell_type": "code",
   "execution_count": 10,
   "id": "8e2cfff7",
   "metadata": {},
   "outputs": [],
   "source": [
    "for i in [-4,-3,-2,-1]:\n",
    "    dic2 = {}\n",
    "    subject = subjects[i]\n",
    "    dic2 = {\n",
    "    c: [f'{subject}_lh_pial_Df2.pial_converted.stl', \n",
    "        f'{subject}_lh_white_Df2.white_converted.stl', \n",
    "        f'/data/users2/washbee/speedrun/deepcsr-preprocessed/{subject}/transform_affine.txt'],\n",
    "    d: [f'{subject}_lh_pial.stl', \n",
    "        f'{subject}_lh_white.stl', \n",
    "        f'/data/users2/washbee/speedrun/deepcsr-preprocessed/{subject}/transform_affine.txt'],\n",
    "    v: [f'{subject}_epoch81_struc2_meshpred.ply', \n",
    "        f'{subject}_epoch81_struc0_meshpred.ply',\n",
    "        f\"/data/users2/washbee/speedrun/Vox2Cortex_fork/CSR_data/{subject}/transform_affine.txt\"]\n",
    "    }\n",
    "    for k in dic2:\n",
    "        model = k\n",
    "        pial_file, white_file, affine_file = dic2[model]\n",
    "        \n",
    "        pial_file_path = os.path.join(dic_stl[model]['lh_pial'], pial_file)\n",
    "        white_file_path = os.path.join(dic_stl[model]['lh_white'], white_file)\n",
    "        \n",
    "        pial_save_path = f'{subject}-{model}-transformed-pial.stl'\n",
    "        white_save_path = f'{subject}-{model}-transformed-white.stl'\n",
    "       \n",
    "        try:\n",
    "            transform(pial_file_path, affine_file, pial_save_path)\n",
    "        except:\n",
    "            print(k, pial_file_path)\n",
    "        \n",
    "        try:\n",
    "            transform(white_file_path, affine_file, white_save_path)\n",
    "        except:\n",
    "            print(k, white_file_path)"
   ]
  },
  {
   "cell_type": "code",
   "execution_count": null,
   "id": "d090648c",
   "metadata": {},
   "outputs": [],
   "source": []
  }
 ],
 "metadata": {
  "kernelspec": {
   "display_name": "Python 3 (ipykernel)",
   "language": "python",
   "name": "python3"
  },
  "language_info": {
   "codemirror_mode": {
    "name": "ipython",
    "version": 3
   },
   "file_extension": ".py",
   "mimetype": "text/x-python",
   "name": "python",
   "nbconvert_exporter": "python",
   "pygments_lexer": "ipython3",
   "version": "3.8.10"
  },
  "toc": {
   "base_numbering": 1,
   "nav_menu": {},
   "number_sections": true,
   "sideBar": true,
   "skip_h1_title": false,
   "title_cell": "Table of Contents",
   "title_sidebar": "Contents",
   "toc_cell": false,
   "toc_position": {},
   "toc_section_display": true,
   "toc_window_display": false
  }
 },
 "nbformat": 4,
 "nbformat_minor": 5
}
