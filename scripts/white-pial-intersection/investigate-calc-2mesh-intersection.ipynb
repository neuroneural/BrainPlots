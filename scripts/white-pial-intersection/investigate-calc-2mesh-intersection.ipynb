{
 "cells": [
  {
   "cell_type": "code",
   "execution_count": 4,
   "id": "638b00a8",
   "metadata": {},
   "outputs": [
    {
     "name": "stdout",
     "output_type": "stream",
     "text": [
      "deepcsr-236130-lh_white-rm.stl\n",
      "deepcsr-286650-lh_pial-rm.stl\n",
      "deepcsr-206222-lh_pial-rm.stl\n",
      "deepcsr-299154-lh_pial-rm.stl\n",
      "deepcsr-236130-lh_pial-rm.stl\n",
      "deepcsr-206222-lh_white-rm.stl\n",
      "deepcsr-299154-lh_white-rm.stl\n",
      "deepcsr-286650-lh_white-rm.stl\n"
     ]
    }
   ],
   "source": [
    "import os\n",
    "import pyvista as pv\n",
    "p = '/Users/mialu/Documents/Course22Fall/TReNDS/neuroneural/BrainPlots/scripts/data-for-medial-wall/data-removed-medial-wall-samples-Jul7'\n",
    "for f in os.listdir(p):\n",
    "    if f.startswith('d'):\n",
    "        print(f)"
   ]
  },
  {
   "cell_type": "code",
   "execution_count": 9,
   "id": "6ac05340",
   "metadata": {},
   "outputs": [],
   "source": [
    "d = [['deepcsr-236130-lh_pial-rm.stl','deepcsr-236130-lh_white-rm.stl'],\n",
    "    ['deepcsr-286650-lh_pial-rm.stl','deepcsr-286650-lh_white-rm.stl'],\n",
    "    ['deepcsr-206222-lh_pial-rm.stl', 'deepcsr-206222-lh_white-rm.stl'],\n",
    "    ['deepcsr-299154-lh_pial-rm.stl', 'deepcsr-299154-lh_white-rm.stl'],\n",
    "    ]\n",
    "\n",
    "d = [[os.path.join(p,i[0]), os.path.join(p,i[1])] for i in d]"
   ]
  },
  {
   "cell_type": "code",
   "execution_count": 23,
   "id": "d4c1f788",
   "metadata": {},
   "outputs": [],
   "source": [
    "id = 3\n",
    "f1, f2 = d[id]"
   ]
  },
  {
   "cell_type": "code",
   "execution_count": 24,
   "id": "d3276e36",
   "metadata": {},
   "outputs": [],
   "source": [
    "m1, m2 = pv.read(f1), pv.read(f2)"
   ]
  },
  {
   "cell_type": "code",
   "execution_count": 25,
   "id": "595ccaf5",
   "metadata": {},
   "outputs": [],
   "source": [
    "intersection,_,_ = m1.intersection(m2)"
   ]
  },
  {
   "cell_type": "code",
   "execution_count": 26,
   "id": "22aa23e7",
   "metadata": {},
   "outputs": [
    {
     "data": {
      "text/html": [
       "<table><tr><th>Header</th><th>Data Arrays</th></tr><tr><td>\n",
       "<table>\n",
       "<tr><th>PolyData</th><th>Information</th></tr>\n",
       "<tr><td>N Cells</td><td>234</td></tr>\n",
       "<tr><td>N Points</td><td>240</td></tr>\n",
       "<tr><td>N Strips</td><td>0</td></tr>\n",
       "<tr><td>X Bounds</td><td>-1.629e+01, -5.442e-01</td></tr>\n",
       "<tr><td>Y Bounds</td><td>-6.405e+01, 2.822e+01</td></tr>\n",
       "<tr><td>Z Bounds</td><td>-4.189e+01, -2.318e+01</td></tr>\n",
       "<tr><td>N Arrays</td><td>5</td></tr>\n",
       "</table>\n",
       "\n",
       "</td><td>\n",
       "<table>\n",
       "<tr><th>Name</th><th>Field</th><th>Type</th><th>N Comp</th><th>Min</th><th>Max</th></tr>\n",
       "<tr><td>SurfaceID</td><td>Points</td><td>int64</td><td>1</td><td>1.000e+00</td><td>2.000e+00</td></tr>\n",
       "<tr><td>Input0CellID</td><td>Cells</td><td>int64</td><td>1</td><td>2.139e+05</td><td>2.808e+05</td></tr>\n",
       "<tr><td>Input1CellID</td><td>Cells</td><td>int64</td><td>1</td><td>2.862e+05</td><td>4.173e+05</td></tr>\n",
       "<tr><td>NewCell0ID</td><td>Cells</td><td>int64</td><td>2</td><td>2.139e+05</td><td>2.813e+05</td></tr>\n",
       "<tr><td>NewCell1ID</td><td>Cells</td><td>int64</td><td>2</td><td>2.862e+05</td><td>4.178e+05</td></tr>\n",
       "</table>\n",
       "\n",
       "</td></tr> </table>"
      ],
      "text/plain": [
       "PolyData (0x7f7b5c275940)\n",
       "  N Cells:    234\n",
       "  N Points:   240\n",
       "  N Strips:   0\n",
       "  X Bounds:   -1.629e+01, -5.442e-01\n",
       "  Y Bounds:   -6.405e+01, 2.822e+01\n",
       "  Z Bounds:   -4.189e+01, -2.318e+01\n",
       "  N Arrays:   5"
      ]
     },
     "execution_count": 26,
     "metadata": {},
     "output_type": "execute_result"
    }
   ],
   "source": [
    "intersection"
   ]
  },
  {
   "cell_type": "code",
   "execution_count": null,
   "id": "8b83991c",
   "metadata": {},
   "outputs": [],
   "source": []
  }
 ],
 "metadata": {
  "kernelspec": {
   "display_name": "Python 3 (ipykernel)",
   "language": "python",
   "name": "python3"
  },
  "language_info": {
   "codemirror_mode": {
    "name": "ipython",
    "version": 3
   },
   "file_extension": ".py",
   "mimetype": "text/x-python",
   "name": "python",
   "nbconvert_exporter": "python",
   "pygments_lexer": "ipython3",
   "version": "3.9.7"
  },
  "toc": {
   "base_numbering": 1,
   "nav_menu": {},
   "number_sections": true,
   "sideBar": true,
   "skip_h1_title": false,
   "title_cell": "Table of Contents",
   "title_sidebar": "Contents",
   "toc_cell": false,
   "toc_position": {},
   "toc_section_display": true,
   "toc_window_display": false
  },
  "varInspector": {
   "cols": {
    "lenName": 16,
    "lenType": 16,
    "lenVar": 40
   },
   "kernels_config": {
    "python": {
     "delete_cmd_postfix": "",
     "delete_cmd_prefix": "del ",
     "library": "var_list.py",
     "varRefreshCmd": "print(var_dic_list())"
    },
    "r": {
     "delete_cmd_postfix": ") ",
     "delete_cmd_prefix": "rm(",
     "library": "var_list.r",
     "varRefreshCmd": "cat(var_dic_list()) "
    }
   },
   "types_to_exclude": [
    "module",
    "function",
    "builtin_function_or_method",
    "instance",
    "_Feature"
   ],
   "window_display": false
  }
 },
 "nbformat": 4,
 "nbformat_minor": 5
}
